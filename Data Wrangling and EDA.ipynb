{
 "cells": [
  {
   "cell_type": "markdown",
   "id": "bbb2bd95",
   "metadata": {},
   "source": [
    "# Stats and Public Health"
   ]
  },
  {
   "cell_type": "markdown",
   "id": "2f145919",
   "metadata": {},
   "source": [
    "## Introduction"
   ]
  },
  {
   "cell_type": "markdown",
   "id": "a09756d3",
   "metadata": {},
   "source": [
    "The West Nile Virus (WNV) is a viral illness largely spread by mosquitoes. The disease is transmitted to a person \n",
    "when an infected mosquito bites them.\n",
    "\n",
    "The city of Chicago, Illinois has been keeping track of mosquito populations and WNV prevalence using a series of \n",
    "traps that they place around the city. They are then able to study the captured specimens and monitor the state of \n",
    "WNV spread in the city.\n",
    "\n",
    "In this notebook, data from 2008 to 2019 I'll perform some basic EDA and Data Wrangling to get familiar with the dataset from the city of Chicago. "
   ]
  },
  {
   "cell_type": "markdown",
   "id": "c518ec41",
   "metadata": {},
   "source": [
    "### Data Wrangling"
   ]
  },
  {
   "cell_type": "markdown",
   "id": "623bf56b",
   "metadata": {},
   "source": [
    "First, the data needs to be cleaned/analysed to determine what the state of the data is in. To do this certain libraries need to imported."
   ]
  },
  {
   "cell_type": "markdown",
   "id": "919fc5bc",
   "metadata": {},
   "source": [
    "### Importing Libraries"
   ]
  },
  {
   "cell_type": "code",
   "execution_count": 4,
   "id": "b908535f",
   "metadata": {},
   "outputs": [],
   "source": [
    "import pandas as pd\n",
    "import numpy as np\n",
    "import matplotlib.pyplot as plt\n",
    "import seaborn as sns\n",
    "import pylab\n",
    "import utils"
   ]
  },
  {
   "cell_type": "code",
   "execution_count": 5,
   "id": "b1947d1f",
   "metadata": {},
   "outputs": [],
   "source": [
    "#Read the dataset in\n",
    "\n",
    "df = pd.read_csv('mosquito_data.csv')"
   ]
  },
  {
   "cell_type": "markdown",
   "id": "dd1b5ad7",
   "metadata": {},
   "source": [
    "I can now conduct some basic data analysis of the dataframe with the use of my utils library function. "
   ]
  },
  {
   "cell_type": "code",
   "execution_count": 6,
   "id": "33ac467f",
   "metadata": {},
   "outputs": [
    {
     "name": "stdout",
     "output_type": "stream",
     "text": [
      "\n",
      "Rows: 18495 \t Columns: 13\n",
      "\n",
      "Total null rows: 5848\n",
      "Percentage null rows: 31.62%\n",
      "\n",
      "Total duplicate rows: 862\n",
      "Percentage dupe rows: 4.66%\n",
      "\n",
      "Year                 int64\n",
      "Week                 int64\n",
      "Address Block       object\n",
      "Block                int64\n",
      "Trap                object\n",
      "Trap type           object\n",
      "Date                object\n",
      "Mosquito number      int64\n",
      "Mosquito ID         object\n",
      "WNV Present         object\n",
      "Species             object\n",
      "Lat                float64\n",
      "Lon                float64\n",
      "dtype: object\n",
      "-----\n",
      "\n",
      "\n",
      "The head of the dataframe is: \n"
     ]
    },
    {
     "data": {
      "text/html": [
       "<div>\n",
       "<style scoped>\n",
       "    .dataframe tbody tr th:only-of-type {\n",
       "        vertical-align: middle;\n",
       "    }\n",
       "\n",
       "    .dataframe tbody tr th {\n",
       "        vertical-align: top;\n",
       "    }\n",
       "\n",
       "    .dataframe thead th {\n",
       "        text-align: right;\n",
       "    }\n",
       "</style>\n",
       "<table border=\"1\" class=\"dataframe\">\n",
       "  <thead>\n",
       "    <tr style=\"text-align: right;\">\n",
       "      <th></th>\n",
       "      <th>Year</th>\n",
       "      <th>Week</th>\n",
       "      <th>Address Block</th>\n",
       "      <th>Block</th>\n",
       "      <th>Trap</th>\n",
       "      <th>Trap type</th>\n",
       "      <th>Date</th>\n",
       "      <th>Mosquito number</th>\n",
       "      <th>Mosquito ID</th>\n",
       "      <th>WNV Present</th>\n",
       "      <th>Species</th>\n",
       "      <th>Lat</th>\n",
       "      <th>Lon</th>\n",
       "    </tr>\n",
       "  </thead>\n",
       "  <tbody>\n",
       "    <tr>\n",
       "      <th>0</th>\n",
       "      <td>2019</td>\n",
       "      <td>39</td>\n",
       "      <td>100XX W OHARE AIRPORT</td>\n",
       "      <td>100</td>\n",
       "      <td>T910</td>\n",
       "      <td>GRAVID</td>\n",
       "      <td>2019-09-26 00:09:00</td>\n",
       "      <td>2</td>\n",
       "      <td>Res</td>\n",
       "      <td>negative</td>\n",
       "      <td>CULEX RESTUANS</td>\n",
       "      <td>NaN</td>\n",
       "      <td>NaN</td>\n",
       "    </tr>\n",
       "    <tr>\n",
       "      <th>1</th>\n",
       "      <td>2019</td>\n",
       "      <td>39</td>\n",
       "      <td>52XX S KOLMAR AVE</td>\n",
       "      <td>52</td>\n",
       "      <td>T114</td>\n",
       "      <td>GRAVID</td>\n",
       "      <td>2019-09-26 00:09:00</td>\n",
       "      <td>1</td>\n",
       "      <td>Res</td>\n",
       "      <td>negative</td>\n",
       "      <td>CULEX RESTUANS</td>\n",
       "      <td>41.798211</td>\n",
       "      <td>-87.736925</td>\n",
       "    </tr>\n",
       "    <tr>\n",
       "      <th>2</th>\n",
       "      <td>2019</td>\n",
       "      <td>39</td>\n",
       "      <td>58XX N WESTERN AVE</td>\n",
       "      <td>58</td>\n",
       "      <td>T028</td>\n",
       "      <td>GRAVID</td>\n",
       "      <td>2019-09-26 00:09:00</td>\n",
       "      <td>2</td>\n",
       "      <td>Res</td>\n",
       "      <td>negative</td>\n",
       "      <td>CULEX RESTUANS</td>\n",
       "      <td>41.987245</td>\n",
       "      <td>-87.689417</td>\n",
       "    </tr>\n",
       "    <tr>\n",
       "      <th>3</th>\n",
       "      <td>2019</td>\n",
       "      <td>39</td>\n",
       "      <td>39XX N SPRINGFIELD AVE</td>\n",
       "      <td>39</td>\n",
       "      <td>T228</td>\n",
       "      <td>GRAVID</td>\n",
       "      <td>2019-09-26 00:09:00</td>\n",
       "      <td>1</td>\n",
       "      <td>Res</td>\n",
       "      <td>negative</td>\n",
       "      <td>CULEX RESTUANS</td>\n",
       "      <td>41.953664</td>\n",
       "      <td>-87.724987</td>\n",
       "    </tr>\n",
       "    <tr>\n",
       "      <th>4</th>\n",
       "      <td>2019</td>\n",
       "      <td>39</td>\n",
       "      <td>131XX S BRANDON AVE</td>\n",
       "      <td>131</td>\n",
       "      <td>T209</td>\n",
       "      <td>GRAVID</td>\n",
       "      <td>2019-09-26 00:09:00</td>\n",
       "      <td>9</td>\n",
       "      <td>Res</td>\n",
       "      <td>negative</td>\n",
       "      <td>CULEX RESTUANS</td>\n",
       "      <td>41.657069</td>\n",
       "      <td>-87.546049</td>\n",
       "    </tr>\n",
       "  </tbody>\n",
       "</table>\n",
       "</div>"
      ],
      "text/plain": [
       "   Year  Week           Address Block  Block  Trap Trap type  \\\n",
       "0  2019    39   100XX W OHARE AIRPORT    100  T910    GRAVID   \n",
       "1  2019    39       52XX S KOLMAR AVE     52  T114    GRAVID   \n",
       "2  2019    39      58XX N WESTERN AVE     58  T028    GRAVID   \n",
       "3  2019    39  39XX N SPRINGFIELD AVE     39  T228    GRAVID   \n",
       "4  2019    39     131XX S BRANDON AVE    131  T209    GRAVID   \n",
       "\n",
       "                  Date  Mosquito number Mosquito ID WNV Present  \\\n",
       "0  2019-09-26 00:09:00                2         Res    negative   \n",
       "1  2019-09-26 00:09:00                1         Res    negative   \n",
       "2  2019-09-26 00:09:00                2         Res    negative   \n",
       "3  2019-09-26 00:09:00                1         Res    negative   \n",
       "4  2019-09-26 00:09:00                9         Res    negative   \n",
       "\n",
       "          Species        Lat        Lon  \n",
       "0  CULEX RESTUANS        NaN        NaN  \n",
       "1  CULEX RESTUANS  41.798211 -87.736925  \n",
       "2  CULEX RESTUANS  41.987245 -87.689417  \n",
       "3  CULEX RESTUANS  41.953664 -87.724987  \n",
       "4  CULEX RESTUANS  41.657069 -87.546049  "
      ]
     },
     "metadata": {},
     "output_type": "display_data"
    },
    {
     "name": "stdout",
     "output_type": "stream",
     "text": [
      "\n",
      "The tail of the dataframe is:\n"
     ]
    },
    {
     "data": {
      "text/html": [
       "<div>\n",
       "<style scoped>\n",
       "    .dataframe tbody tr th:only-of-type {\n",
       "        vertical-align: middle;\n",
       "    }\n",
       "\n",
       "    .dataframe tbody tr th {\n",
       "        vertical-align: top;\n",
       "    }\n",
       "\n",
       "    .dataframe thead th {\n",
       "        text-align: right;\n",
       "    }\n",
       "</style>\n",
       "<table border=\"1\" class=\"dataframe\">\n",
       "  <thead>\n",
       "    <tr style=\"text-align: right;\">\n",
       "      <th></th>\n",
       "      <th>Year</th>\n",
       "      <th>Week</th>\n",
       "      <th>Address Block</th>\n",
       "      <th>Block</th>\n",
       "      <th>Trap</th>\n",
       "      <th>Trap type</th>\n",
       "      <th>Date</th>\n",
       "      <th>Mosquito number</th>\n",
       "      <th>Mosquito ID</th>\n",
       "      <th>WNV Present</th>\n",
       "      <th>Species</th>\n",
       "      <th>Lat</th>\n",
       "      <th>Lon</th>\n",
       "    </tr>\n",
       "  </thead>\n",
       "  <tbody>\n",
       "    <tr>\n",
       "      <th>18490</th>\n",
       "      <td>2016</td>\n",
       "      <td>36</td>\n",
       "      <td>3XX W 18TH ST</td>\n",
       "      <td>3</td>\n",
       "      <td>T043</td>\n",
       "      <td>GRAVID</td>\n",
       "      <td>2016-09-09 00:09:00</td>\n",
       "      <td>4</td>\n",
       "      <td>Pip</td>\n",
       "      <td>positive</td>\n",
       "      <td>CULEX PIPIENS</td>\n",
       "      <td>41.857843</td>\n",
       "      <td>-87.635858</td>\n",
       "    </tr>\n",
       "    <tr>\n",
       "      <th>18491</th>\n",
       "      <td>2007</td>\n",
       "      <td>34</td>\n",
       "      <td>46XX N MILWAUKEE AVE</td>\n",
       "      <td>46</td>\n",
       "      <td>T003</td>\n",
       "      <td>GRAVID</td>\n",
       "      <td>2007-08-24 00:08:00</td>\n",
       "      <td>19</td>\n",
       "      <td>Pip</td>\n",
       "      <td>positive</td>\n",
       "      <td>CULEX PIPIENS</td>\n",
       "      <td>41.965376</td>\n",
       "      <td>-87.758403</td>\n",
       "    </tr>\n",
       "    <tr>\n",
       "      <th>18492</th>\n",
       "      <td>2016</td>\n",
       "      <td>30</td>\n",
       "      <td>127XX S DOTY AVE</td>\n",
       "      <td>127</td>\n",
       "      <td>T115</td>\n",
       "      <td>GRAVID</td>\n",
       "      <td>2016-07-27 00:07:00</td>\n",
       "      <td>34</td>\n",
       "      <td>Res</td>\n",
       "      <td>positive</td>\n",
       "      <td>CULEX RESTUANS</td>\n",
       "      <td>41.662395</td>\n",
       "      <td>-87.590176</td>\n",
       "    </tr>\n",
       "    <tr>\n",
       "      <th>18493</th>\n",
       "      <td>2017</td>\n",
       "      <td>33</td>\n",
       "      <td>20XX N DOMINICK ST</td>\n",
       "      <td>20</td>\n",
       "      <td>T240B</td>\n",
       "      <td>SENTINEL</td>\n",
       "      <td>2017-08-17 00:08:00</td>\n",
       "      <td>50</td>\n",
       "      <td>Res</td>\n",
       "      <td>positive</td>\n",
       "      <td>CULEX RESTUANS</td>\n",
       "      <td>41.919197</td>\n",
       "      <td>-87.664758</td>\n",
       "    </tr>\n",
       "    <tr>\n",
       "      <th>18494</th>\n",
       "      <td>2015</td>\n",
       "      <td>33</td>\n",
       "      <td>100XX W OHARE AIRPORT</td>\n",
       "      <td>100</td>\n",
       "      <td>T902</td>\n",
       "      <td>GRAVID</td>\n",
       "      <td>2015-08-20 00:08:00</td>\n",
       "      <td>6</td>\n",
       "      <td>Res</td>\n",
       "      <td>positive</td>\n",
       "      <td>CULEX RESTUANS</td>\n",
       "      <td>NaN</td>\n",
       "      <td>NaN</td>\n",
       "    </tr>\n",
       "  </tbody>\n",
       "</table>\n",
       "</div>"
      ],
      "text/plain": [
       "       Year  Week          Address Block  Block   Trap Trap type  \\\n",
       "18490  2016    36          3XX W 18TH ST      3   T043    GRAVID   \n",
       "18491  2007    34   46XX N MILWAUKEE AVE     46   T003    GRAVID   \n",
       "18492  2016    30       127XX S DOTY AVE    127   T115    GRAVID   \n",
       "18493  2017    33     20XX N DOMINICK ST     20  T240B  SENTINEL   \n",
       "18494  2015    33  100XX W OHARE AIRPORT    100   T902    GRAVID   \n",
       "\n",
       "                      Date  Mosquito number Mosquito ID WNV Present  \\\n",
       "18490  2016-09-09 00:09:00                4         Pip    positive   \n",
       "18491  2007-08-24 00:08:00               19         Pip    positive   \n",
       "18492  2016-07-27 00:07:00               34         Res    positive   \n",
       "18493  2017-08-17 00:08:00               50         Res    positive   \n",
       "18494  2015-08-20 00:08:00                6         Res    positive   \n",
       "\n",
       "              Species        Lat        Lon  \n",
       "18490   CULEX PIPIENS  41.857843 -87.635858  \n",
       "18491   CULEX PIPIENS  41.965376 -87.758403  \n",
       "18492  CULEX RESTUANS  41.662395 -87.590176  \n",
       "18493  CULEX RESTUANS  41.919197 -87.664758  \n",
       "18494  CULEX RESTUANS        NaN        NaN  "
      ]
     },
     "metadata": {},
     "output_type": "display_data"
    },
    {
     "name": "stdout",
     "output_type": "stream",
     "text": [
      "\n",
      "Description of the numerical columns is as follows\n"
     ]
    },
    {
     "data": {
      "text/html": [
       "<div>\n",
       "<style scoped>\n",
       "    .dataframe tbody tr th:only-of-type {\n",
       "        vertical-align: middle;\n",
       "    }\n",
       "\n",
       "    .dataframe tbody tr th {\n",
       "        vertical-align: top;\n",
       "    }\n",
       "\n",
       "    .dataframe thead th {\n",
       "        text-align: right;\n",
       "    }\n",
       "</style>\n",
       "<table border=\"1\" class=\"dataframe\">\n",
       "  <thead>\n",
       "    <tr style=\"text-align: right;\">\n",
       "      <th></th>\n",
       "      <th>Year</th>\n",
       "      <th>Week</th>\n",
       "      <th>Block</th>\n",
       "      <th>Mosquito number</th>\n",
       "      <th>Lat</th>\n",
       "      <th>Lon</th>\n",
       "    </tr>\n",
       "  </thead>\n",
       "  <tbody>\n",
       "    <tr>\n",
       "      <th>count</th>\n",
       "      <td>18495.000000</td>\n",
       "      <td>18495.000000</td>\n",
       "      <td>18495.000000</td>\n",
       "      <td>18495.000000</td>\n",
       "      <td>15571.000000</td>\n",
       "      <td>15571.000000</td>\n",
       "    </tr>\n",
       "    <tr>\n",
       "      <th>mean</th>\n",
       "      <td>2012.905812</td>\n",
       "      <td>31.004001</td>\n",
       "      <td>54.314788</td>\n",
       "      <td>10.879913</td>\n",
       "      <td>41.839963</td>\n",
       "      <td>-87.691642</td>\n",
       "    </tr>\n",
       "    <tr>\n",
       "      <th>std</th>\n",
       "      <td>3.725857</td>\n",
       "      <td>4.332020</td>\n",
       "      <td>36.712796</td>\n",
       "      <td>13.475066</td>\n",
       "      <td>0.111374</td>\n",
       "      <td>0.076545</td>\n",
       "    </tr>\n",
       "    <tr>\n",
       "      <th>min</th>\n",
       "      <td>2007.000000</td>\n",
       "      <td>20.000000</td>\n",
       "      <td>1.000000</td>\n",
       "      <td>1.000000</td>\n",
       "      <td>41.644720</td>\n",
       "      <td>-87.854473</td>\n",
       "    </tr>\n",
       "    <tr>\n",
       "      <th>25%</th>\n",
       "      <td>2010.000000</td>\n",
       "      <td>28.000000</td>\n",
       "      <td>22.000000</td>\n",
       "      <td>2.000000</td>\n",
       "      <td>41.742670</td>\n",
       "      <td>-87.747459</td>\n",
       "    </tr>\n",
       "    <tr>\n",
       "      <th>50%</th>\n",
       "      <td>2013.000000</td>\n",
       "      <td>31.000000</td>\n",
       "      <td>51.000000</td>\n",
       "      <td>5.000000</td>\n",
       "      <td>41.845715</td>\n",
       "      <td>-87.691698</td>\n",
       "    </tr>\n",
       "    <tr>\n",
       "      <th>75%</th>\n",
       "      <td>2016.000000</td>\n",
       "      <td>34.000000</td>\n",
       "      <td>89.000000</td>\n",
       "      <td>14.000000</td>\n",
       "      <td>41.945961</td>\n",
       "      <td>-87.637873</td>\n",
       "    </tr>\n",
       "    <tr>\n",
       "      <th>max</th>\n",
       "      <td>2019.000000</td>\n",
       "      <td>40.000000</td>\n",
       "      <td>132.000000</td>\n",
       "      <td>50.000000</td>\n",
       "      <td>42.017801</td>\n",
       "      <td>-87.531051</td>\n",
       "    </tr>\n",
       "  </tbody>\n",
       "</table>\n",
       "</div>"
      ],
      "text/plain": [
       "               Year          Week         Block  Mosquito number  \\\n",
       "count  18495.000000  18495.000000  18495.000000     18495.000000   \n",
       "mean    2012.905812     31.004001     54.314788        10.879913   \n",
       "std        3.725857      4.332020     36.712796        13.475066   \n",
       "min     2007.000000     20.000000      1.000000         1.000000   \n",
       "25%     2010.000000     28.000000     22.000000         2.000000   \n",
       "50%     2013.000000     31.000000     51.000000         5.000000   \n",
       "75%     2016.000000     34.000000     89.000000        14.000000   \n",
       "max     2019.000000     40.000000    132.000000        50.000000   \n",
       "\n",
       "                Lat           Lon  \n",
       "count  15571.000000  15571.000000  \n",
       "mean      41.839963    -87.691642  \n",
       "std        0.111374      0.076545  \n",
       "min       41.644720    -87.854473  \n",
       "25%       41.742670    -87.747459  \n",
       "50%       41.845715    -87.691698  \n",
       "75%       41.945961    -87.637873  \n",
       "max       42.017801    -87.531051  "
      ]
     },
     "metadata": {},
     "output_type": "display_data"
    }
   ],
   "source": [
    "utils.eda(df)"
   ]
  },
  {
   "cell_type": "markdown",
   "id": "2cddcce8",
   "metadata": {},
   "source": [
    "From this command, there are some columns of the data which have datatypes that do not correspond with the column names. The date is a string object, also the year and week are int64 when it could be a datatime datatype."
   ]
  },
  {
   "cell_type": "markdown",
   "id": "cbe041d2",
   "metadata": {},
   "source": [
    "The shape function then outputs a value for the shape of the df dataframe, it has 13 columns and 18495 rows. Of these rows there are 5848 null rows which need to be analysed in more detial."
   ]
  },
  {
   "cell_type": "markdown",
   "id": "3a96f073",
   "metadata": {},
   "source": [
    "As noted earlier, there are certain columns which have datatypes which don't match the name. For example, the date column is a string when it could be a datetime data type. First the column needs to be analysed to determine what state the data is in. From the head, it seems that the times and dates are all the same."
   ]
  },
  {
   "cell_type": "code",
   "execution_count": 7,
   "id": "98b65f03",
   "metadata": {},
   "outputs": [
    {
     "data": {
      "text/plain": [
       "0    2019-09-26 00:09:00\n",
       "1    2019-09-26 00:09:00\n",
       "2    2019-09-26 00:09:00\n",
       "3    2019-09-26 00:09:00\n",
       "4    2019-09-26 00:09:00\n",
       "5    2019-09-26 00:09:00\n",
       "6    2019-09-26 00:09:00\n",
       "7    2019-09-26 00:09:00\n",
       "8    2019-09-26 00:09:00\n",
       "9    2019-09-26 00:09:00\n",
       "Name: Date, dtype: object"
      ]
     },
     "execution_count": 7,
     "metadata": {},
     "output_type": "execute_result"
    }
   ],
   "source": [
    "df['Date'].head(10)"
   ]
  },
  {
   "cell_type": "code",
   "execution_count": 8,
   "id": "9618f59a",
   "metadata": {},
   "outputs": [
    {
     "data": {
      "text/plain": [
       "18485    2018-08-16 00:08:00\n",
       "18486    2016-07-21 00:07:00\n",
       "18487    2007-08-22 00:08:00\n",
       "18488    2017-07-27 00:07:00\n",
       "18489    2013-08-29 00:08:00\n",
       "18490    2016-09-09 00:09:00\n",
       "18491    2007-08-24 00:08:00\n",
       "18492    2016-07-27 00:07:00\n",
       "18493    2017-08-17 00:08:00\n",
       "18494    2015-08-20 00:08:00\n",
       "Name: Date, dtype: object"
      ]
     },
     "execution_count": 8,
     "metadata": {},
     "output_type": "execute_result"
    }
   ],
   "source": [
    "df['Date'].tail(10)"
   ]
  },
  {
   "cell_type": "markdown",
   "id": "cf9bbef0",
   "metadata": {},
   "source": [
    "After looking at the tail data it is clear that the values do differ so there is no need for a split function, as previously assumed. With the help of the astype function, the date column can be converted to a datetime datatype. "
   ]
  },
  {
   "cell_type": "code",
   "execution_count": 9,
   "id": "11df8ef6",
   "metadata": {},
   "outputs": [],
   "source": [
    "df['Date'] = df['Date'].astype('datetime64')"
   ]
  },
  {
   "cell_type": "code",
   "execution_count": 10,
   "id": "43e7c20f",
   "metadata": {},
   "outputs": [
    {
     "data": {
      "text/plain": [
       "0   2019-09-26 00:09:00\n",
       "1   2019-09-26 00:09:00\n",
       "2   2019-09-26 00:09:00\n",
       "3   2019-09-26 00:09:00\n",
       "4   2019-09-26 00:09:00\n",
       "Name: Date, dtype: datetime64[ns]"
      ]
     },
     "execution_count": 10,
     "metadata": {},
     "output_type": "execute_result"
    }
   ],
   "source": [
    "#Sanity Check\n",
    "df['Date'].head(5)"
   ]
  },
  {
   "cell_type": "markdown",
   "id": "72269019",
   "metadata": {},
   "source": [
    "Analysis of what data certain columns were holding was next in the pre-processing. With the help of the .info() function, I can be able to choose which columns have the numeric datatype and which are string (or categorical). I have chosen the Lat and Lon columns as the two numerical columns I would like to analyse and the WNV Present and the Species are the category columns. With the help of the .describe() function applied to each column in the dataset, I was able to determine what is the spread of the data for the numerical columns. Meanwhile the .describe() command does not work for categorical columns, so the value_counts() was chosen. The .describe() function provides an overview of the column from the count of the number of rows in the column, to the max/min value as well as specific quartiles. In the case of the value_counts(), the command goes through the column and groups by each entry and totals the count."
   ]
  },
  {
   "cell_type": "code",
   "execution_count": 12,
   "id": "43eac998",
   "metadata": {
    "scrolled": false
   },
   "outputs": [
    {
     "name": "stdout",
     "output_type": "stream",
     "text": [
      "<class 'pandas.core.frame.DataFrame'>\n",
      "RangeIndex: 18495 entries, 0 to 18494\n",
      "Data columns (total 13 columns):\n",
      " #   Column           Non-Null Count  Dtype         \n",
      "---  ------           --------------  -----         \n",
      " 0   Year             18495 non-null  int64         \n",
      " 1   Week             18495 non-null  int64         \n",
      " 2   Address Block    18495 non-null  object        \n",
      " 3   Block            18495 non-null  int64         \n",
      " 4   Trap             18495 non-null  object        \n",
      " 5   Trap type        18495 non-null  object        \n",
      " 6   Date             18495 non-null  datetime64[ns]\n",
      " 7   Mosquito number  18495 non-null  int64         \n",
      " 8   Mosquito ID      18495 non-null  object        \n",
      " 9   WNV Present      18495 non-null  object        \n",
      " 10  Species          18495 non-null  object        \n",
      " 11  Lat              15571 non-null  float64       \n",
      " 12  Lon              15571 non-null  float64       \n",
      "dtypes: datetime64[ns](1), float64(2), int64(4), object(6)\n",
      "memory usage: 1.8+ MB\n"
     ]
    }
   ],
   "source": [
    "df.info()"
   ]
  },
  {
   "cell_type": "code",
   "execution_count": 13,
   "id": "1d59751f",
   "metadata": {},
   "outputs": [
    {
     "data": {
      "text/html": [
       "<div>\n",
       "<style scoped>\n",
       "    .dataframe tbody tr th:only-of-type {\n",
       "        vertical-align: middle;\n",
       "    }\n",
       "\n",
       "    .dataframe tbody tr th {\n",
       "        vertical-align: top;\n",
       "    }\n",
       "\n",
       "    .dataframe thead th {\n",
       "        text-align: right;\n",
       "    }\n",
       "</style>\n",
       "<table border=\"1\" class=\"dataframe\">\n",
       "  <thead>\n",
       "    <tr style=\"text-align: right;\">\n",
       "      <th></th>\n",
       "      <th>Address Block</th>\n",
       "      <th>Trap</th>\n",
       "      <th>Trap type</th>\n",
       "      <th>Date</th>\n",
       "      <th>Mosquito ID</th>\n",
       "      <th>WNV Present</th>\n",
       "      <th>Species</th>\n",
       "    </tr>\n",
       "  </thead>\n",
       "  <tbody>\n",
       "    <tr>\n",
       "      <th>0</th>\n",
       "      <td>100XX W OHARE AIRPORT</td>\n",
       "      <td>T910</td>\n",
       "      <td>GRAVID</td>\n",
       "      <td>2019-09-26 00:09:00</td>\n",
       "      <td>Res</td>\n",
       "      <td>negative</td>\n",
       "      <td>CULEX RESTUANS</td>\n",
       "    </tr>\n",
       "    <tr>\n",
       "      <th>1</th>\n",
       "      <td>52XX S KOLMAR AVE</td>\n",
       "      <td>T114</td>\n",
       "      <td>GRAVID</td>\n",
       "      <td>2019-09-26 00:09:00</td>\n",
       "      <td>Res</td>\n",
       "      <td>negative</td>\n",
       "      <td>CULEX RESTUANS</td>\n",
       "    </tr>\n",
       "    <tr>\n",
       "      <th>2</th>\n",
       "      <td>58XX N WESTERN AVE</td>\n",
       "      <td>T028</td>\n",
       "      <td>GRAVID</td>\n",
       "      <td>2019-09-26 00:09:00</td>\n",
       "      <td>Res</td>\n",
       "      <td>negative</td>\n",
       "      <td>CULEX RESTUANS</td>\n",
       "    </tr>\n",
       "    <tr>\n",
       "      <th>3</th>\n",
       "      <td>39XX N SPRINGFIELD AVE</td>\n",
       "      <td>T228</td>\n",
       "      <td>GRAVID</td>\n",
       "      <td>2019-09-26 00:09:00</td>\n",
       "      <td>Res</td>\n",
       "      <td>negative</td>\n",
       "      <td>CULEX RESTUANS</td>\n",
       "    </tr>\n",
       "    <tr>\n",
       "      <th>4</th>\n",
       "      <td>131XX S BRANDON AVE</td>\n",
       "      <td>T209</td>\n",
       "      <td>GRAVID</td>\n",
       "      <td>2019-09-26 00:09:00</td>\n",
       "      <td>Res</td>\n",
       "      <td>negative</td>\n",
       "      <td>CULEX RESTUANS</td>\n",
       "    </tr>\n",
       "    <tr>\n",
       "      <th>...</th>\n",
       "      <td>...</td>\n",
       "      <td>...</td>\n",
       "      <td>...</td>\n",
       "      <td>...</td>\n",
       "      <td>...</td>\n",
       "      <td>...</td>\n",
       "      <td>...</td>\n",
       "    </tr>\n",
       "    <tr>\n",
       "      <th>18490</th>\n",
       "      <td>3XX W 18TH ST</td>\n",
       "      <td>T043</td>\n",
       "      <td>GRAVID</td>\n",
       "      <td>2016-09-09 00:09:00</td>\n",
       "      <td>Pip</td>\n",
       "      <td>positive</td>\n",
       "      <td>CULEX PIPIENS</td>\n",
       "    </tr>\n",
       "    <tr>\n",
       "      <th>18491</th>\n",
       "      <td>46XX N MILWAUKEE AVE</td>\n",
       "      <td>T003</td>\n",
       "      <td>GRAVID</td>\n",
       "      <td>2007-08-24 00:08:00</td>\n",
       "      <td>Pip</td>\n",
       "      <td>positive</td>\n",
       "      <td>CULEX PIPIENS</td>\n",
       "    </tr>\n",
       "    <tr>\n",
       "      <th>18492</th>\n",
       "      <td>127XX S DOTY AVE</td>\n",
       "      <td>T115</td>\n",
       "      <td>GRAVID</td>\n",
       "      <td>2016-07-27 00:07:00</td>\n",
       "      <td>Res</td>\n",
       "      <td>positive</td>\n",
       "      <td>CULEX RESTUANS</td>\n",
       "    </tr>\n",
       "    <tr>\n",
       "      <th>18493</th>\n",
       "      <td>20XX N DOMINICK ST</td>\n",
       "      <td>T240B</td>\n",
       "      <td>SENTINEL</td>\n",
       "      <td>2017-08-17 00:08:00</td>\n",
       "      <td>Res</td>\n",
       "      <td>positive</td>\n",
       "      <td>CULEX RESTUANS</td>\n",
       "    </tr>\n",
       "    <tr>\n",
       "      <th>18494</th>\n",
       "      <td>100XX W OHARE AIRPORT</td>\n",
       "      <td>T902</td>\n",
       "      <td>GRAVID</td>\n",
       "      <td>2015-08-20 00:08:00</td>\n",
       "      <td>Res</td>\n",
       "      <td>positive</td>\n",
       "      <td>CULEX RESTUANS</td>\n",
       "    </tr>\n",
       "  </tbody>\n",
       "</table>\n",
       "<p>18495 rows × 7 columns</p>\n",
       "</div>"
      ],
      "text/plain": [
       "                Address Block   Trap Trap type                Date  \\\n",
       "0       100XX W OHARE AIRPORT   T910    GRAVID 2019-09-26 00:09:00   \n",
       "1           52XX S KOLMAR AVE   T114    GRAVID 2019-09-26 00:09:00   \n",
       "2          58XX N WESTERN AVE   T028    GRAVID 2019-09-26 00:09:00   \n",
       "3      39XX N SPRINGFIELD AVE   T228    GRAVID 2019-09-26 00:09:00   \n",
       "4         131XX S BRANDON AVE   T209    GRAVID 2019-09-26 00:09:00   \n",
       "...                       ...    ...       ...                 ...   \n",
       "18490           3XX W 18TH ST   T043    GRAVID 2016-09-09 00:09:00   \n",
       "18491    46XX N MILWAUKEE AVE   T003    GRAVID 2007-08-24 00:08:00   \n",
       "18492        127XX S DOTY AVE   T115    GRAVID 2016-07-27 00:07:00   \n",
       "18493      20XX N DOMINICK ST  T240B  SENTINEL 2017-08-17 00:08:00   \n",
       "18494   100XX W OHARE AIRPORT   T902    GRAVID 2015-08-20 00:08:00   \n",
       "\n",
       "      Mosquito ID WNV Present         Species  \n",
       "0             Res    negative  CULEX RESTUANS  \n",
       "1             Res    negative  CULEX RESTUANS  \n",
       "2             Res    negative  CULEX RESTUANS  \n",
       "3             Res    negative  CULEX RESTUANS  \n",
       "4             Res    negative  CULEX RESTUANS  \n",
       "...           ...         ...             ...  \n",
       "18490         Pip    positive   CULEX PIPIENS  \n",
       "18491         Pip    positive   CULEX PIPIENS  \n",
       "18492         Res    positive  CULEX RESTUANS  \n",
       "18493         Res    positive  CULEX RESTUANS  \n",
       "18494         Res    positive  CULEX RESTUANS  \n",
       "\n",
       "[18495 rows x 7 columns]"
      ]
     },
     "execution_count": 13,
     "metadata": {},
     "output_type": "execute_result"
    }
   ],
   "source": [
    "#Sanity check to make sure that certain columns were string datatypes\n",
    "\n",
    "df.select_dtypes(exclude = ['number','bool'])"
   ]
  },
  {
   "cell_type": "code",
   "execution_count": 14,
   "id": "716fa9de",
   "metadata": {},
   "outputs": [
    {
     "data": {
      "text/html": [
       "<div>\n",
       "<style scoped>\n",
       "    .dataframe tbody tr th:only-of-type {\n",
       "        vertical-align: middle;\n",
       "    }\n",
       "\n",
       "    .dataframe tbody tr th {\n",
       "        vertical-align: top;\n",
       "    }\n",
       "\n",
       "    .dataframe thead th {\n",
       "        text-align: right;\n",
       "    }\n",
       "</style>\n",
       "<table border=\"1\" class=\"dataframe\">\n",
       "  <thead>\n",
       "    <tr style=\"text-align: right;\">\n",
       "      <th></th>\n",
       "      <th>Year</th>\n",
       "      <th>Week</th>\n",
       "      <th>Block</th>\n",
       "      <th>Date</th>\n",
       "      <th>Mosquito number</th>\n",
       "      <th>Lat</th>\n",
       "      <th>Lon</th>\n",
       "    </tr>\n",
       "  </thead>\n",
       "  <tbody>\n",
       "    <tr>\n",
       "      <th>0</th>\n",
       "      <td>2019</td>\n",
       "      <td>39</td>\n",
       "      <td>100</td>\n",
       "      <td>2019-09-26 00:09:00</td>\n",
       "      <td>2</td>\n",
       "      <td>NaN</td>\n",
       "      <td>NaN</td>\n",
       "    </tr>\n",
       "    <tr>\n",
       "      <th>1</th>\n",
       "      <td>2019</td>\n",
       "      <td>39</td>\n",
       "      <td>52</td>\n",
       "      <td>2019-09-26 00:09:00</td>\n",
       "      <td>1</td>\n",
       "      <td>41.798211</td>\n",
       "      <td>-87.736925</td>\n",
       "    </tr>\n",
       "    <tr>\n",
       "      <th>2</th>\n",
       "      <td>2019</td>\n",
       "      <td>39</td>\n",
       "      <td>58</td>\n",
       "      <td>2019-09-26 00:09:00</td>\n",
       "      <td>2</td>\n",
       "      <td>41.987245</td>\n",
       "      <td>-87.689417</td>\n",
       "    </tr>\n",
       "    <tr>\n",
       "      <th>3</th>\n",
       "      <td>2019</td>\n",
       "      <td>39</td>\n",
       "      <td>39</td>\n",
       "      <td>2019-09-26 00:09:00</td>\n",
       "      <td>1</td>\n",
       "      <td>41.953664</td>\n",
       "      <td>-87.724987</td>\n",
       "    </tr>\n",
       "    <tr>\n",
       "      <th>4</th>\n",
       "      <td>2019</td>\n",
       "      <td>39</td>\n",
       "      <td>131</td>\n",
       "      <td>2019-09-26 00:09:00</td>\n",
       "      <td>9</td>\n",
       "      <td>41.657069</td>\n",
       "      <td>-87.546049</td>\n",
       "    </tr>\n",
       "    <tr>\n",
       "      <th>...</th>\n",
       "      <td>...</td>\n",
       "      <td>...</td>\n",
       "      <td>...</td>\n",
       "      <td>...</td>\n",
       "      <td>...</td>\n",
       "      <td>...</td>\n",
       "      <td>...</td>\n",
       "    </tr>\n",
       "    <tr>\n",
       "      <th>18490</th>\n",
       "      <td>2016</td>\n",
       "      <td>36</td>\n",
       "      <td>3</td>\n",
       "      <td>2016-09-09 00:09:00</td>\n",
       "      <td>4</td>\n",
       "      <td>41.857843</td>\n",
       "      <td>-87.635858</td>\n",
       "    </tr>\n",
       "    <tr>\n",
       "      <th>18491</th>\n",
       "      <td>2007</td>\n",
       "      <td>34</td>\n",
       "      <td>46</td>\n",
       "      <td>2007-08-24 00:08:00</td>\n",
       "      <td>19</td>\n",
       "      <td>41.965376</td>\n",
       "      <td>-87.758403</td>\n",
       "    </tr>\n",
       "    <tr>\n",
       "      <th>18492</th>\n",
       "      <td>2016</td>\n",
       "      <td>30</td>\n",
       "      <td>127</td>\n",
       "      <td>2016-07-27 00:07:00</td>\n",
       "      <td>34</td>\n",
       "      <td>41.662395</td>\n",
       "      <td>-87.590176</td>\n",
       "    </tr>\n",
       "    <tr>\n",
       "      <th>18493</th>\n",
       "      <td>2017</td>\n",
       "      <td>33</td>\n",
       "      <td>20</td>\n",
       "      <td>2017-08-17 00:08:00</td>\n",
       "      <td>50</td>\n",
       "      <td>41.919197</td>\n",
       "      <td>-87.664758</td>\n",
       "    </tr>\n",
       "    <tr>\n",
       "      <th>18494</th>\n",
       "      <td>2015</td>\n",
       "      <td>33</td>\n",
       "      <td>100</td>\n",
       "      <td>2015-08-20 00:08:00</td>\n",
       "      <td>6</td>\n",
       "      <td>NaN</td>\n",
       "      <td>NaN</td>\n",
       "    </tr>\n",
       "  </tbody>\n",
       "</table>\n",
       "<p>18495 rows × 7 columns</p>\n",
       "</div>"
      ],
      "text/plain": [
       "       Year  Week  Block                Date  Mosquito number        Lat  \\\n",
       "0      2019    39    100 2019-09-26 00:09:00                2        NaN   \n",
       "1      2019    39     52 2019-09-26 00:09:00                1  41.798211   \n",
       "2      2019    39     58 2019-09-26 00:09:00                2  41.987245   \n",
       "3      2019    39     39 2019-09-26 00:09:00                1  41.953664   \n",
       "4      2019    39    131 2019-09-26 00:09:00                9  41.657069   \n",
       "...     ...   ...    ...                 ...              ...        ...   \n",
       "18490  2016    36      3 2016-09-09 00:09:00                4  41.857843   \n",
       "18491  2007    34     46 2007-08-24 00:08:00               19  41.965376   \n",
       "18492  2016    30    127 2016-07-27 00:07:00               34  41.662395   \n",
       "18493  2017    33     20 2017-08-17 00:08:00               50  41.919197   \n",
       "18494  2015    33    100 2015-08-20 00:08:00                6        NaN   \n",
       "\n",
       "             Lon  \n",
       "0            NaN  \n",
       "1     -87.736925  \n",
       "2     -87.689417  \n",
       "3     -87.724987  \n",
       "4     -87.546049  \n",
       "...          ...  \n",
       "18490 -87.635858  \n",
       "18491 -87.758403  \n",
       "18492 -87.590176  \n",
       "18493 -87.664758  \n",
       "18494        NaN  \n",
       "\n",
       "[18495 rows x 7 columns]"
      ]
     },
     "execution_count": 14,
     "metadata": {},
     "output_type": "execute_result"
    }
   ],
   "source": [
    "#Sanity check to make sure that certain columns were number datatypes\n",
    "\n",
    "df.select_dtypes(exclude = ['object','bool'])"
   ]
  },
  {
   "cell_type": "code",
   "execution_count": 15,
   "id": "c845c41c",
   "metadata": {},
   "outputs": [
    {
     "data": {
      "text/plain": [
       "count    15571.000000\n",
       "mean        41.839963\n",
       "std          0.111374\n",
       "min         41.644720\n",
       "25%         41.742670\n",
       "50%         41.845715\n",
       "75%         41.945961\n",
       "max         42.017801\n",
       "Name: Lat, dtype: float64"
      ]
     },
     "execution_count": 15,
     "metadata": {},
     "output_type": "execute_result"
    }
   ],
   "source": [
    "df['Lat'].describe()"
   ]
  },
  {
   "cell_type": "code",
   "execution_count": 16,
   "id": "7322aef7",
   "metadata": {},
   "outputs": [
    {
     "data": {
      "text/plain": [
       "Text(0.5, 0, 'Latitude')"
      ]
     },
     "execution_count": 16,
     "metadata": {},
     "output_type": "execute_result"
    },
    {
     "data": {
      "image/png": "[encoded data removed]",
      "text/plain": [
       "<Figure size 432x288 with 1 Axes>"
      ]
     },
     "metadata": {
      "needs_background": "light"
     },
     "output_type": "display_data"
    }
   ],
   "source": [
    "df['Lat'].plot(kind = 'hist')\n",
    "plt.title('Distribution of mosquitos caught per Latitude')\n",
    "plt.xlabel('Latitude')"
   ]
  },
  {
   "cell_type": "code",
   "execution_count": 17,
   "id": "569f76e1",
   "metadata": {},
   "outputs": [
    {
     "data": {
      "text/plain": [
       "count    15571.000000\n",
       "mean       -87.691642\n",
       "std          0.076545\n",
       "min        -87.854473\n",
       "25%        -87.747459\n",
       "50%        -87.691698\n",
       "75%        -87.637873\n",
       "max        -87.531051\n",
       "Name: Lon, dtype: float64"
      ]
     },
     "execution_count": 17,
     "metadata": {},
     "output_type": "execute_result"
    }
   ],
   "source": [
    "df['Lon'].describe()"
   ]
  },
  {
   "cell_type": "code",
   "execution_count": 18,
   "id": "90f6dc66",
   "metadata": {},
   "outputs": [
    {
     "data": {
      "text/plain": [
       "Text(0.5, 0, 'Longitude')"
      ]
     },
     "execution_count": 18,
     "metadata": {},
     "output_type": "execute_result"
    },
    {
     "data": {
      "image/png": "[encoded data removed]",
      "text/plain": [
       "<Figure size 432x288 with 1 Axes>"
      ]
     },
     "metadata": {
      "needs_background": "light"
     },
     "output_type": "display_data"
    }
   ],
   "source": [
    "df[\"Lon\"].plot(kind = 'hist')\n",
    "plt.title('Distribution of mosquitos caught per Longitude')\n",
    "plt.xlabel('Longitude')"
   ]
  },
  {
   "cell_type": "markdown",
   "id": "4ac30edf",
   "metadata": {},
   "source": [
    "From both the distributions and the describe command it is evident that the latitude and longitudes vary a small amount. Only 0.5 for latitude and 0.3 for longitude. Demonstrating that the location of the traps which were set were concentrated within a specific area. The longitude is distributed normally with a large frequency of traps being set around -87.7. However, the latitude was distributed very differently with the frequency spread quite widely. This would demonstrate that in terms of east to west the distribution of traps varied very little with it concentrated within the area of -87.7. However, the latitude in terms of north to south varied more with more traps being set along the range of 41.6 and 42."
   ]
  },
  {
   "cell_type": "code",
   "execution_count": 19,
   "id": "a6eaeb53",
   "metadata": {},
   "outputs": [
    {
     "data": {
      "text/html": [
       "<div>\n",
       "<style scoped>\n",
       "    .dataframe tbody tr th:only-of-type {\n",
       "        vertical-align: middle;\n",
       "    }\n",
       "\n",
       "    .dataframe tbody tr th {\n",
       "        vertical-align: top;\n",
       "    }\n",
       "\n",
       "    .dataframe thead th {\n",
       "        text-align: right;\n",
       "    }\n",
       "</style>\n",
       "<table border=\"1\" class=\"dataframe\">\n",
       "  <thead>\n",
       "    <tr style=\"text-align: right;\">\n",
       "      <th>WNV Present</th>\n",
       "      <th>negative</th>\n",
       "      <th>positive</th>\n",
       "    </tr>\n",
       "    <tr>\n",
       "      <th>Year</th>\n",
       "      <th></th>\n",
       "      <th></th>\n",
       "    </tr>\n",
       "  </thead>\n",
       "  <tbody>\n",
       "    <tr>\n",
       "      <th>2007</th>\n",
       "      <td>1666</td>\n",
       "      <td>475</td>\n",
       "    </tr>\n",
       "    <tr>\n",
       "      <th>2008</th>\n",
       "      <td>963</td>\n",
       "      <td>21</td>\n",
       "    </tr>\n",
       "    <tr>\n",
       "      <th>2009</th>\n",
       "      <td>1115</td>\n",
       "      <td>20</td>\n",
       "    </tr>\n",
       "    <tr>\n",
       "      <th>2010</th>\n",
       "      <td>1299</td>\n",
       "      <td>98</td>\n",
       "    </tr>\n",
       "    <tr>\n",
       "      <th>2011</th>\n",
       "      <td>1066</td>\n",
       "      <td>54</td>\n",
       "    </tr>\n",
       "    <tr>\n",
       "      <th>2012</th>\n",
       "      <td>1009</td>\n",
       "      <td>383</td>\n",
       "    </tr>\n",
       "    <tr>\n",
       "      <th>2013</th>\n",
       "      <td>1140</td>\n",
       "      <td>484</td>\n",
       "    </tr>\n",
       "    <tr>\n",
       "      <th>2014</th>\n",
       "      <td>1540</td>\n",
       "      <td>460</td>\n",
       "    </tr>\n",
       "    <tr>\n",
       "      <th>2015</th>\n",
       "      <td>986</td>\n",
       "      <td>192</td>\n",
       "    </tr>\n",
       "    <tr>\n",
       "      <th>2016</th>\n",
       "      <td>893</td>\n",
       "      <td>951</td>\n",
       "    </tr>\n",
       "    <tr>\n",
       "      <th>2017</th>\n",
       "      <td>816</td>\n",
       "      <td>294</td>\n",
       "    </tr>\n",
       "    <tr>\n",
       "      <th>2018</th>\n",
       "      <td>923</td>\n",
       "      <td>438</td>\n",
       "    </tr>\n",
       "    <tr>\n",
       "      <th>2019</th>\n",
       "      <td>1085</td>\n",
       "      <td>124</td>\n",
       "    </tr>\n",
       "  </tbody>\n",
       "</table>\n",
       "</div>"
      ],
      "text/plain": [
       "WNV Present  negative  positive\n",
       "Year                           \n",
       "2007             1666       475\n",
       "2008              963        21\n",
       "2009             1115        20\n",
       "2010             1299        98\n",
       "2011             1066        54\n",
       "2012             1009       383\n",
       "2013             1140       484\n",
       "2014             1540       460\n",
       "2015              986       192\n",
       "2016              893       951\n",
       "2017              816       294\n",
       "2018              923       438\n",
       "2019             1085       124"
      ]
     },
     "execution_count": 19,
     "metadata": {},
     "output_type": "execute_result"
    }
   ],
   "source": [
    "df.groupby('Year')['WNV Present'].value_counts().unstack()"
   ]
  },
  {
   "cell_type": "markdown",
   "id": "6f306ae5",
   "metadata": {},
   "source": [
    "I had to use the unstack column to seperate out the values for negative and positive otherwise they would not be able to be distributed."
   ]
  },
  {
   "cell_type": "code",
   "execution_count": 13,
   "id": "dbf85dd0",
   "metadata": {},
   "outputs": [
    {
     "data": {
      "text/plain": [
       "<Figure size 1440x1440 with 0 Axes>"
      ]
     },
     "metadata": {},
     "output_type": "display_data"
    },
    {
     "data": {
      "image/png": "[encoded data removed]",
      "text/plain": [
       "<Figure size 432x288 with 2 Axes>"
      ]
     },
     "metadata": {
      "needs_background": "light"
     },
     "output_type": "display_data"
    }
   ],
   "source": [
    "plt.figure(figsize = (20,20))\n",
    "df.groupby('Year')['WNV Present'].value_counts().unstack().plot(kind=\"line\", subplots = True)\n",
    "plt.ylabel('')\n",
    "plt.xlabel('Number of mosquitos')\n",
    "plt.show()"
   ]
  },
  {
   "cell_type": "markdown",
   "id": "ca72bbd1",
   "metadata": {},
   "source": [
    "From the line graphs above, it demonstrates the presence of WNV for each year. From the data in the WNV Present column, it is clear to see that there was a massive spike up in 2016. This was due to higher temperatures and more favourable environmental conditions for mosquitos. From the trend of the two graphs it can be seen that there is a positive trend for the positive presence of WNV and vice versa for negative. With climate change increasing temperatures and producing environments more favourable for mosquitos this explains the rise. Furthermore, CULEX mosquitos enjoy urban conditions and with increased urbanisation of chicago more mosquitos are being attracted to the area. "
   ]
  },
  {
   "cell_type": "code",
   "execution_count": 21,
   "id": "23c640ff",
   "metadata": {},
   "outputs": [
    {
     "data": {
      "text/plain": [
       "CULEX RESTUANS      11866\n",
       "CULEX PIPIENS        5486\n",
       "CULEX TERRITANS       917\n",
       "CULEX SALINARIUS      226\n",
       "Name: Species, dtype: int64"
      ]
     },
     "execution_count": 21,
     "metadata": {},
     "output_type": "execute_result"
    }
   ],
   "source": [
    "df['Species'].value_counts()"
   ]
  },
  {
   "cell_type": "code",
   "execution_count": 22,
   "id": "3c164b26",
   "metadata": {},
   "outputs": [
    {
     "data": {
      "text/plain": [
       "Text(0, 0.5, 'Species')"
      ]
     },
     "execution_count": 22,
     "metadata": {},
     "output_type": "execute_result"
    },
    {
     "data": {
      "image/png": "[encoded data removed]",
      "text/plain": [
       "<Figure size 432x288 with 1 Axes>"
      ]
     },
     "metadata": {
      "needs_background": "light"
     },
     "output_type": "display_data"
    }
   ],
   "source": [
    "df['Species'].value_counts().sort_values().plot(kind=\"barh\")\n",
    "plt.title('Number of mosquitos caught per species')\n",
    "plt.xlabel('Number of mosquitos')\n",
    "plt.ylabel('Species')\n"
   ]
  },
  {
   "cell_type": "markdown",
   "id": "d1b61585",
   "metadata": {},
   "source": [
    "The other categorical column that was studied was the Species of mosquito that were caught in the traps. From the .value_counts() method. There were four types of mosquito species that were captured. It can be seen that they are all part of the Culex family but different sub-species. From my research it was found that Culex mosquitoes are common throughout much of North America. Each Culex species is sensitive to both natural and human-influenced environmental factors, especially climate and land cover type. Some prefer urban environments instead of rural ones, and some are limited to tropical or humid areas. With the bar chart data at hand, the Culex Restuans is the most prevalent species caught in trap types, due to the fact that the urban conditions of Chicago are preferred by this species. From the bar chart it can be assumed that the primary species that spreads WNV is from the Culex family. It is worth noting that this data demonstrates that only one sub-species were caught per trap, which is something to question because the likelihood that a specific trap captures only one species and not the other seems highly inprobable. "
   ]
  },
  {
   "cell_type": "markdown",
   "id": "a23fd1ae",
   "metadata": {},
   "source": [
    "Looking further in the dataframe, there are some redundant columns which could be removed as they are repeating data. Furthermore, the dataframe needs to be checked for any duplicate information be it rows or columns. The columns were studied to determine if information was repeated. \n",
    "\n",
    "The transpose of the dataframe was checked for duplicates. This checked if there are any duplicate columns and from the result there were not. Then it was checked if there were any duplicates in the rows and found a sum of 658. I assigned the variable dupli to further determine what data these rows were representing. I thought that there may be specific a reason for the data being duplicated, either through human error or specific column values causing it to be returned true. The data seemed to repeat around the same address of the airport, however, other values seem to be different. I decided to drop the address block and block columns to see if this skewed the results. However, upon further data analysis it seems that this did not. I then decided to drop these rows. "
   ]
  },
  {
   "cell_type": "code",
   "execution_count": 23,
   "id": "e5c819ab",
   "metadata": {},
   "outputs": [
    {
     "data": {
      "text/plain": [
       "Year               False\n",
       "Week               False\n",
       "Address Block      False\n",
       "Block              False\n",
       "Trap               False\n",
       "Trap type          False\n",
       "Date               False\n",
       "Mosquito number    False\n",
       "Mosquito ID        False\n",
       "WNV Present        False\n",
       "Species            False\n",
       "Lat                False\n",
       "Lon                False\n",
       "dtype: bool"
      ]
     },
     "execution_count": 23,
     "metadata": {},
     "output_type": "execute_result"
    }
   ],
   "source": [
    "df.T.duplicated()"
   ]
  },
  {
   "cell_type": "code",
   "execution_count": 34,
   "id": "17f4100b",
   "metadata": {},
   "outputs": [
    {
     "data": {
      "text/plain": [
       "658"
      ]
     },
     "execution_count": 34,
     "metadata": {},
     "output_type": "execute_result"
    }
   ],
   "source": [
    "df.duplicated().sum()"
   ]
  },
  {
   "cell_type": "code",
   "execution_count": 35,
   "id": "8c004b99",
   "metadata": {},
   "outputs": [],
   "source": [
    "dupli = df[df.duplicated()]"
   ]
  },
  {
   "cell_type": "code",
   "execution_count": 36,
   "id": "2d34b555",
   "metadata": {},
   "outputs": [
    {
     "data": {
      "text/html": [
       "<div>\n",
       "<style scoped>\n",
       "    .dataframe tbody tr th:only-of-type {\n",
       "        vertical-align: middle;\n",
       "    }\n",
       "\n",
       "    .dataframe tbody tr th {\n",
       "        vertical-align: top;\n",
       "    }\n",
       "\n",
       "    .dataframe thead th {\n",
       "        text-align: right;\n",
       "    }\n",
       "</style>\n",
       "<table border=\"1\" class=\"dataframe\">\n",
       "  <thead>\n",
       "    <tr style=\"text-align: right;\">\n",
       "      <th></th>\n",
       "      <th>Year</th>\n",
       "      <th>Week</th>\n",
       "      <th>Address Block</th>\n",
       "      <th>Block</th>\n",
       "      <th>Trap</th>\n",
       "      <th>Trap type</th>\n",
       "      <th>Date</th>\n",
       "      <th>Mosquito number</th>\n",
       "      <th>Mosquito ID</th>\n",
       "      <th>WNV Present</th>\n",
       "      <th>Species</th>\n",
       "      <th>Lat</th>\n",
       "      <th>Lon</th>\n",
       "    </tr>\n",
       "  </thead>\n",
       "  <tbody>\n",
       "    <tr>\n",
       "      <th>15495</th>\n",
       "      <td>2018</td>\n",
       "      <td>34</td>\n",
       "      <td>100XX W OHARE AIRPORT</td>\n",
       "      <td>100</td>\n",
       "      <td>T912</td>\n",
       "      <td>GRAVID</td>\n",
       "      <td>2018-08-23 00:08:00</td>\n",
       "      <td>3</td>\n",
       "      <td>Pip</td>\n",
       "      <td>positive</td>\n",
       "      <td>CULEX PIPIENS</td>\n",
       "      <td>NaN</td>\n",
       "      <td>NaN</td>\n",
       "    </tr>\n",
       "    <tr>\n",
       "      <th>15504</th>\n",
       "      <td>2011</td>\n",
       "      <td>32</td>\n",
       "      <td>100XX W OHARE AIRPORT</td>\n",
       "      <td>100</td>\n",
       "      <td>T916</td>\n",
       "      <td>GRAVID</td>\n",
       "      <td>2011-08-12 00:08:00</td>\n",
       "      <td>11</td>\n",
       "      <td>Pip</td>\n",
       "      <td>positive</td>\n",
       "      <td>CULEX PIPIENS</td>\n",
       "      <td>NaN</td>\n",
       "      <td>NaN</td>\n",
       "    </tr>\n",
       "    <tr>\n",
       "      <th>15520</th>\n",
       "      <td>2010</td>\n",
       "      <td>33</td>\n",
       "      <td>100XX W OHARE</td>\n",
       "      <td>100</td>\n",
       "      <td>T903</td>\n",
       "      <td>GRAVID</td>\n",
       "      <td>2010-08-20 00:08:00</td>\n",
       "      <td>27</td>\n",
       "      <td>Res</td>\n",
       "      <td>positive</td>\n",
       "      <td>CULEX RESTUANS</td>\n",
       "      <td>NaN</td>\n",
       "      <td>NaN</td>\n",
       "    </tr>\n",
       "    <tr>\n",
       "      <th>15523</th>\n",
       "      <td>2016</td>\n",
       "      <td>34</td>\n",
       "      <td>100XX W OHARE AIRPORT</td>\n",
       "      <td>100</td>\n",
       "      <td>T911</td>\n",
       "      <td>GRAVID</td>\n",
       "      <td>2016-08-25 00:08:00</td>\n",
       "      <td>8</td>\n",
       "      <td>Res</td>\n",
       "      <td>positive</td>\n",
       "      <td>CULEX RESTUANS</td>\n",
       "      <td>NaN</td>\n",
       "      <td>NaN</td>\n",
       "    </tr>\n",
       "    <tr>\n",
       "      <th>15528</th>\n",
       "      <td>2017</td>\n",
       "      <td>34</td>\n",
       "      <td>100XX W OHARE AIRPORT</td>\n",
       "      <td>100</td>\n",
       "      <td>T900</td>\n",
       "      <td>GRAVID</td>\n",
       "      <td>2017-08-24 00:08:00</td>\n",
       "      <td>2</td>\n",
       "      <td>Res</td>\n",
       "      <td>positive</td>\n",
       "      <td>CULEX RESTUANS</td>\n",
       "      <td>NaN</td>\n",
       "      <td>NaN</td>\n",
       "    </tr>\n",
       "    <tr>\n",
       "      <th>15530</th>\n",
       "      <td>2017</td>\n",
       "      <td>34</td>\n",
       "      <td>100XX W OHARE AIRPORT</td>\n",
       "      <td>100</td>\n",
       "      <td>T900</td>\n",
       "      <td>GRAVID</td>\n",
       "      <td>2017-08-24 00:08:00</td>\n",
       "      <td>2</td>\n",
       "      <td>Res</td>\n",
       "      <td>positive</td>\n",
       "      <td>CULEX RESTUANS</td>\n",
       "      <td>NaN</td>\n",
       "      <td>NaN</td>\n",
       "    </tr>\n",
       "    <tr>\n",
       "      <th>15531</th>\n",
       "      <td>2015</td>\n",
       "      <td>26</td>\n",
       "      <td>100XX W OHARE AIRPORT</td>\n",
       "      <td>100</td>\n",
       "      <td>T902</td>\n",
       "      <td>GRAVID</td>\n",
       "      <td>2015-07-02 00:07:00</td>\n",
       "      <td>50</td>\n",
       "      <td>Res</td>\n",
       "      <td>positive</td>\n",
       "      <td>CULEX RESTUANS</td>\n",
       "      <td>NaN</td>\n",
       "      <td>NaN</td>\n",
       "    </tr>\n",
       "    <tr>\n",
       "      <th>15537</th>\n",
       "      <td>2010</td>\n",
       "      <td>31</td>\n",
       "      <td>100XX W OHARE AIRPORT</td>\n",
       "      <td>100</td>\n",
       "      <td>T905</td>\n",
       "      <td>GRAVID</td>\n",
       "      <td>2010-08-06 00:08:00</td>\n",
       "      <td>15</td>\n",
       "      <td>Res</td>\n",
       "      <td>positive</td>\n",
       "      <td>CULEX RESTUANS</td>\n",
       "      <td>NaN</td>\n",
       "      <td>NaN</td>\n",
       "    </tr>\n",
       "    <tr>\n",
       "      <th>15542</th>\n",
       "      <td>2018</td>\n",
       "      <td>25</td>\n",
       "      <td>100XX W OHARE AIRPORT</td>\n",
       "      <td>100</td>\n",
       "      <td>T912</td>\n",
       "      <td>GRAVID</td>\n",
       "      <td>2018-06-21 00:06:00</td>\n",
       "      <td>50</td>\n",
       "      <td>Res</td>\n",
       "      <td>positive</td>\n",
       "      <td>CULEX RESTUANS</td>\n",
       "      <td>NaN</td>\n",
       "      <td>NaN</td>\n",
       "    </tr>\n",
       "    <tr>\n",
       "      <th>15544</th>\n",
       "      <td>2018</td>\n",
       "      <td>32</td>\n",
       "      <td>100XX W OHARE AIRPORT</td>\n",
       "      <td>100</td>\n",
       "      <td>T913</td>\n",
       "      <td>GRAVID</td>\n",
       "      <td>2018-08-09 00:08:00</td>\n",
       "      <td>46</td>\n",
       "      <td>Res</td>\n",
       "      <td>positive</td>\n",
       "      <td>CULEX RESTUANS</td>\n",
       "      <td>NaN</td>\n",
       "      <td>NaN</td>\n",
       "    </tr>\n",
       "    <tr>\n",
       "      <th>15549</th>\n",
       "      <td>2015</td>\n",
       "      <td>31</td>\n",
       "      <td>100XX W OHARE AIRPORT</td>\n",
       "      <td>100</td>\n",
       "      <td>T905</td>\n",
       "      <td>GRAVID</td>\n",
       "      <td>2015-08-06 00:08:00</td>\n",
       "      <td>45</td>\n",
       "      <td>Res</td>\n",
       "      <td>positive</td>\n",
       "      <td>CULEX RESTUANS</td>\n",
       "      <td>NaN</td>\n",
       "      <td>NaN</td>\n",
       "    </tr>\n",
       "    <tr>\n",
       "      <th>15554</th>\n",
       "      <td>2017</td>\n",
       "      <td>32</td>\n",
       "      <td>100XX W OHARE AIRPORT</td>\n",
       "      <td>100</td>\n",
       "      <td>T912</td>\n",
       "      <td>GRAVID</td>\n",
       "      <td>2017-08-10 00:08:00</td>\n",
       "      <td>14</td>\n",
       "      <td>Res</td>\n",
       "      <td>positive</td>\n",
       "      <td>CULEX RESTUANS</td>\n",
       "      <td>NaN</td>\n",
       "      <td>NaN</td>\n",
       "    </tr>\n",
       "    <tr>\n",
       "      <th>15562</th>\n",
       "      <td>2018</td>\n",
       "      <td>32</td>\n",
       "      <td>100XX W OHARE AIRPORT</td>\n",
       "      <td>100</td>\n",
       "      <td>T913</td>\n",
       "      <td>GRAVID</td>\n",
       "      <td>2018-08-09 00:08:00</td>\n",
       "      <td>5</td>\n",
       "      <td>Pip</td>\n",
       "      <td>positive</td>\n",
       "      <td>CULEX PIPIENS</td>\n",
       "      <td>NaN</td>\n",
       "      <td>NaN</td>\n",
       "    </tr>\n",
       "    <tr>\n",
       "      <th>15572</th>\n",
       "      <td>2016</td>\n",
       "      <td>30</td>\n",
       "      <td>100XX W OHARE AIRPORT</td>\n",
       "      <td>100</td>\n",
       "      <td>T913</td>\n",
       "      <td>GRAVID</td>\n",
       "      <td>2016-07-27 00:07:00</td>\n",
       "      <td>50</td>\n",
       "      <td>Res</td>\n",
       "      <td>positive</td>\n",
       "      <td>CULEX RESTUANS</td>\n",
       "      <td>NaN</td>\n",
       "      <td>NaN</td>\n",
       "    </tr>\n",
       "    <tr>\n",
       "      <th>15573</th>\n",
       "      <td>2016</td>\n",
       "      <td>31</td>\n",
       "      <td>100XX W OHARE AIRPORT</td>\n",
       "      <td>100</td>\n",
       "      <td>T912</td>\n",
       "      <td>GRAVID</td>\n",
       "      <td>2016-08-04 00:08:00</td>\n",
       "      <td>50</td>\n",
       "      <td>Res</td>\n",
       "      <td>positive</td>\n",
       "      <td>CULEX RESTUANS</td>\n",
       "      <td>NaN</td>\n",
       "      <td>NaN</td>\n",
       "    </tr>\n",
       "    <tr>\n",
       "      <th>15580</th>\n",
       "      <td>2016</td>\n",
       "      <td>30</td>\n",
       "      <td>100XX W OHARE AIRPORT</td>\n",
       "      <td>100</td>\n",
       "      <td>T913</td>\n",
       "      <td>GRAVID</td>\n",
       "      <td>2016-07-27 00:07:00</td>\n",
       "      <td>37</td>\n",
       "      <td>Res</td>\n",
       "      <td>positive</td>\n",
       "      <td>CULEX RESTUANS</td>\n",
       "      <td>NaN</td>\n",
       "      <td>NaN</td>\n",
       "    </tr>\n",
       "    <tr>\n",
       "      <th>15587</th>\n",
       "      <td>2018</td>\n",
       "      <td>32</td>\n",
       "      <td>100XX W OHARE AIRPORT</td>\n",
       "      <td>100</td>\n",
       "      <td>T905</td>\n",
       "      <td>GRAVID</td>\n",
       "      <td>2018-08-09 00:08:00</td>\n",
       "      <td>12</td>\n",
       "      <td>Res</td>\n",
       "      <td>positive</td>\n",
       "      <td>CULEX RESTUANS</td>\n",
       "      <td>NaN</td>\n",
       "      <td>NaN</td>\n",
       "    </tr>\n",
       "    <tr>\n",
       "      <th>15589</th>\n",
       "      <td>2017</td>\n",
       "      <td>33</td>\n",
       "      <td>100XX W OHARE AIRPORT</td>\n",
       "      <td>100</td>\n",
       "      <td>T905</td>\n",
       "      <td>GRAVID</td>\n",
       "      <td>2017-08-17 00:08:00</td>\n",
       "      <td>9</td>\n",
       "      <td>Res</td>\n",
       "      <td>positive</td>\n",
       "      <td>CULEX RESTUANS</td>\n",
       "      <td>NaN</td>\n",
       "      <td>NaN</td>\n",
       "    </tr>\n",
       "    <tr>\n",
       "      <th>15590</th>\n",
       "      <td>2015</td>\n",
       "      <td>31</td>\n",
       "      <td>100XX W OHARE AIRPORT</td>\n",
       "      <td>100</td>\n",
       "      <td>T923</td>\n",
       "      <td>GRAVID</td>\n",
       "      <td>2015-08-06 00:08:00</td>\n",
       "      <td>50</td>\n",
       "      <td>Res</td>\n",
       "      <td>positive</td>\n",
       "      <td>CULEX RESTUANS</td>\n",
       "      <td>NaN</td>\n",
       "      <td>NaN</td>\n",
       "    </tr>\n",
       "    <tr>\n",
       "      <th>15592</th>\n",
       "      <td>2012</td>\n",
       "      <td>31</td>\n",
       "      <td>100XX W OHARE</td>\n",
       "      <td>100</td>\n",
       "      <td>T903</td>\n",
       "      <td>GRAVID</td>\n",
       "      <td>2012-08-03 00:08:00</td>\n",
       "      <td>21</td>\n",
       "      <td>Res</td>\n",
       "      <td>positive</td>\n",
       "      <td>CULEX RESTUANS</td>\n",
       "      <td>NaN</td>\n",
       "      <td>NaN</td>\n",
       "    </tr>\n",
       "  </tbody>\n",
       "</table>\n",
       "</div>"
      ],
      "text/plain": [
       "       Year  Week          Address Block  Block  Trap Trap type  \\\n",
       "15495  2018    34  100XX W OHARE AIRPORT    100  T912    GRAVID   \n",
       "15504  2011    32  100XX W OHARE AIRPORT    100  T916    GRAVID   \n",
       "15520  2010    33          100XX W OHARE    100  T903    GRAVID   \n",
       "15523  2016    34  100XX W OHARE AIRPORT    100  T911    GRAVID   \n",
       "15528  2017    34  100XX W OHARE AIRPORT    100  T900    GRAVID   \n",
       "15530  2017    34  100XX W OHARE AIRPORT    100  T900    GRAVID   \n",
       "15531  2015    26  100XX W OHARE AIRPORT    100  T902    GRAVID   \n",
       "15537  2010    31  100XX W OHARE AIRPORT    100  T905    GRAVID   \n",
       "15542  2018    25  100XX W OHARE AIRPORT    100  T912    GRAVID   \n",
       "15544  2018    32  100XX W OHARE AIRPORT    100  T913    GRAVID   \n",
       "15549  2015    31  100XX W OHARE AIRPORT    100  T905    GRAVID   \n",
       "15554  2017    32  100XX W OHARE AIRPORT    100  T912    GRAVID   \n",
       "15562  2018    32  100XX W OHARE AIRPORT    100  T913    GRAVID   \n",
       "15572  2016    30  100XX W OHARE AIRPORT    100  T913    GRAVID   \n",
       "15573  2016    31  100XX W OHARE AIRPORT    100  T912    GRAVID   \n",
       "15580  2016    30  100XX W OHARE AIRPORT    100  T913    GRAVID   \n",
       "15587  2018    32  100XX W OHARE AIRPORT    100  T905    GRAVID   \n",
       "15589  2017    33  100XX W OHARE AIRPORT    100  T905    GRAVID   \n",
       "15590  2015    31  100XX W OHARE AIRPORT    100  T923    GRAVID   \n",
       "15592  2012    31          100XX W OHARE    100  T903    GRAVID   \n",
       "\n",
       "                     Date  Mosquito number Mosquito ID WNV Present  \\\n",
       "15495 2018-08-23 00:08:00                3         Pip    positive   \n",
       "15504 2011-08-12 00:08:00               11         Pip    positive   \n",
       "15520 2010-08-20 00:08:00               27         Res    positive   \n",
       "15523 2016-08-25 00:08:00                8         Res    positive   \n",
       "15528 2017-08-24 00:08:00                2         Res    positive   \n",
       "15530 2017-08-24 00:08:00                2         Res    positive   \n",
       "15531 2015-07-02 00:07:00               50         Res    positive   \n",
       "15537 2010-08-06 00:08:00               15         Res    positive   \n",
       "15542 2018-06-21 00:06:00               50         Res    positive   \n",
       "15544 2018-08-09 00:08:00               46         Res    positive   \n",
       "15549 2015-08-06 00:08:00               45         Res    positive   \n",
       "15554 2017-08-10 00:08:00               14         Res    positive   \n",
       "15562 2018-08-09 00:08:00                5         Pip    positive   \n",
       "15572 2016-07-27 00:07:00               50         Res    positive   \n",
       "15573 2016-08-04 00:08:00               50         Res    positive   \n",
       "15580 2016-07-27 00:07:00               37         Res    positive   \n",
       "15587 2018-08-09 00:08:00               12         Res    positive   \n",
       "15589 2017-08-17 00:08:00                9         Res    positive   \n",
       "15590 2015-08-06 00:08:00               50         Res    positive   \n",
       "15592 2012-08-03 00:08:00               21         Res    positive   \n",
       "\n",
       "              Species  Lat  Lon  \n",
       "15495   CULEX PIPIENS  NaN  NaN  \n",
       "15504   CULEX PIPIENS  NaN  NaN  \n",
       "15520  CULEX RESTUANS  NaN  NaN  \n",
       "15523  CULEX RESTUANS  NaN  NaN  \n",
       "15528  CULEX RESTUANS  NaN  NaN  \n",
       "15530  CULEX RESTUANS  NaN  NaN  \n",
       "15531  CULEX RESTUANS  NaN  NaN  \n",
       "15537  CULEX RESTUANS  NaN  NaN  \n",
       "15542  CULEX RESTUANS  NaN  NaN  \n",
       "15544  CULEX RESTUANS  NaN  NaN  \n",
       "15549  CULEX RESTUANS  NaN  NaN  \n",
       "15554  CULEX RESTUANS  NaN  NaN  \n",
       "15562   CULEX PIPIENS  NaN  NaN  \n",
       "15572  CULEX RESTUANS  NaN  NaN  \n",
       "15573  CULEX RESTUANS  NaN  NaN  \n",
       "15580  CULEX RESTUANS  NaN  NaN  \n",
       "15587  CULEX RESTUANS  NaN  NaN  \n",
       "15589  CULEX RESTUANS  NaN  NaN  \n",
       "15590  CULEX RESTUANS  NaN  NaN  \n",
       "15592  CULEX RESTUANS  NaN  NaN  "
      ]
     },
     "execution_count": 36,
     "metadata": {},
     "output_type": "execute_result"
    }
   ],
   "source": [
    "dupli.head(20)"
   ]
  },
  {
   "cell_type": "code",
   "execution_count": 37,
   "id": "5072ad55",
   "metadata": {},
   "outputs": [
    {
     "data": {
      "text/html": [
       "<div>\n",
       "<style scoped>\n",
       "    .dataframe tbody tr th:only-of-type {\n",
       "        vertical-align: middle;\n",
       "    }\n",
       "\n",
       "    .dataframe tbody tr th {\n",
       "        vertical-align: top;\n",
       "    }\n",
       "\n",
       "    .dataframe thead th {\n",
       "        text-align: right;\n",
       "    }\n",
       "</style>\n",
       "<table border=\"1\" class=\"dataframe\">\n",
       "  <thead>\n",
       "    <tr style=\"text-align: right;\">\n",
       "      <th></th>\n",
       "      <th>Year</th>\n",
       "      <th>Week</th>\n",
       "      <th>Address Block</th>\n",
       "      <th>Block</th>\n",
       "      <th>Trap</th>\n",
       "      <th>Trap type</th>\n",
       "      <th>Date</th>\n",
       "      <th>Mosquito number</th>\n",
       "      <th>Mosquito ID</th>\n",
       "      <th>WNV Present</th>\n",
       "      <th>Species</th>\n",
       "      <th>Lat</th>\n",
       "      <th>Lon</th>\n",
       "    </tr>\n",
       "  </thead>\n",
       "  <tbody>\n",
       "    <tr>\n",
       "      <th>18382</th>\n",
       "      <td>2018</td>\n",
       "      <td>30</td>\n",
       "      <td>100XX W OHARE AIRPORT</td>\n",
       "      <td>100</td>\n",
       "      <td>T913</td>\n",
       "      <td>GRAVID</td>\n",
       "      <td>2018-07-26 00:07:00</td>\n",
       "      <td>8</td>\n",
       "      <td>Res</td>\n",
       "      <td>positive</td>\n",
       "      <td>CULEX RESTUANS</td>\n",
       "      <td>NaN</td>\n",
       "      <td>NaN</td>\n",
       "    </tr>\n",
       "    <tr>\n",
       "      <th>18387</th>\n",
       "      <td>2016</td>\n",
       "      <td>30</td>\n",
       "      <td>100XX W OHARE AIRPORT</td>\n",
       "      <td>100</td>\n",
       "      <td>T913</td>\n",
       "      <td>GRAVID</td>\n",
       "      <td>2016-07-27 00:07:00</td>\n",
       "      <td>50</td>\n",
       "      <td>Pip</td>\n",
       "      <td>positive</td>\n",
       "      <td>CULEX PIPIENS</td>\n",
       "      <td>NaN</td>\n",
       "      <td>NaN</td>\n",
       "    </tr>\n",
       "    <tr>\n",
       "      <th>18391</th>\n",
       "      <td>2013</td>\n",
       "      <td>35</td>\n",
       "      <td>100XX W OHARE AIRPORT</td>\n",
       "      <td>100</td>\n",
       "      <td>T902</td>\n",
       "      <td>GRAVID</td>\n",
       "      <td>2013-08-29 00:08:00</td>\n",
       "      <td>48</td>\n",
       "      <td>Pip</td>\n",
       "      <td>positive</td>\n",
       "      <td>CULEX PIPIENS</td>\n",
       "      <td>NaN</td>\n",
       "      <td>NaN</td>\n",
       "    </tr>\n",
       "    <tr>\n",
       "      <th>18393</th>\n",
       "      <td>2016</td>\n",
       "      <td>36</td>\n",
       "      <td>100XX W OHARE AIRPORT</td>\n",
       "      <td>100</td>\n",
       "      <td>T902</td>\n",
       "      <td>GRAVID</td>\n",
       "      <td>2016-09-08 00:09:00</td>\n",
       "      <td>24</td>\n",
       "      <td>Res</td>\n",
       "      <td>positive</td>\n",
       "      <td>CULEX RESTUANS</td>\n",
       "      <td>NaN</td>\n",
       "      <td>NaN</td>\n",
       "    </tr>\n",
       "    <tr>\n",
       "      <th>18394</th>\n",
       "      <td>2016</td>\n",
       "      <td>32</td>\n",
       "      <td>100XX W OHARE AIRPORT</td>\n",
       "      <td>100</td>\n",
       "      <td>T917</td>\n",
       "      <td>GRAVID</td>\n",
       "      <td>2016-08-11 00:08:00</td>\n",
       "      <td>39</td>\n",
       "      <td>Pip</td>\n",
       "      <td>positive</td>\n",
       "      <td>CULEX PIPIENS</td>\n",
       "      <td>NaN</td>\n",
       "      <td>NaN</td>\n",
       "    </tr>\n",
       "    <tr>\n",
       "      <th>18396</th>\n",
       "      <td>2018</td>\n",
       "      <td>32</td>\n",
       "      <td>100XX W OHARE AIRPORT</td>\n",
       "      <td>100</td>\n",
       "      <td>T913</td>\n",
       "      <td>GRAVID</td>\n",
       "      <td>2018-08-09 00:08:00</td>\n",
       "      <td>5</td>\n",
       "      <td>Pip</td>\n",
       "      <td>positive</td>\n",
       "      <td>CULEX PIPIENS</td>\n",
       "      <td>NaN</td>\n",
       "      <td>NaN</td>\n",
       "    </tr>\n",
       "    <tr>\n",
       "      <th>18399</th>\n",
       "      <td>2009</td>\n",
       "      <td>33</td>\n",
       "      <td>100XX W OHARE</td>\n",
       "      <td>100</td>\n",
       "      <td>T903</td>\n",
       "      <td>GRAVID</td>\n",
       "      <td>2009-08-25 00:08:00</td>\n",
       "      <td>14</td>\n",
       "      <td>Res</td>\n",
       "      <td>positive</td>\n",
       "      <td>CULEX RESTUANS</td>\n",
       "      <td>NaN</td>\n",
       "      <td>NaN</td>\n",
       "    </tr>\n",
       "    <tr>\n",
       "      <th>18427</th>\n",
       "      <td>2012</td>\n",
       "      <td>30</td>\n",
       "      <td>100XX W OHARE</td>\n",
       "      <td>100</td>\n",
       "      <td>T903</td>\n",
       "      <td>GRAVID</td>\n",
       "      <td>2012-07-27 00:07:00</td>\n",
       "      <td>4</td>\n",
       "      <td>Res</td>\n",
       "      <td>positive</td>\n",
       "      <td>CULEX RESTUANS</td>\n",
       "      <td>NaN</td>\n",
       "      <td>NaN</td>\n",
       "    </tr>\n",
       "    <tr>\n",
       "      <th>18430</th>\n",
       "      <td>2007</td>\n",
       "      <td>32</td>\n",
       "      <td>30XX S HOYNE</td>\n",
       "      <td>30</td>\n",
       "      <td>T035</td>\n",
       "      <td>GRAVID</td>\n",
       "      <td>2007-08-15 00:08:00</td>\n",
       "      <td>1</td>\n",
       "      <td>Res</td>\n",
       "      <td>positive</td>\n",
       "      <td>CULEX RESTUANS</td>\n",
       "      <td>NaN</td>\n",
       "      <td>NaN</td>\n",
       "    </tr>\n",
       "    <tr>\n",
       "      <th>18432</th>\n",
       "      <td>2018</td>\n",
       "      <td>29</td>\n",
       "      <td>100XX W OHARE AIRPORT</td>\n",
       "      <td>100</td>\n",
       "      <td>T910</td>\n",
       "      <td>GRAVID</td>\n",
       "      <td>2018-07-19 00:07:00</td>\n",
       "      <td>42</td>\n",
       "      <td>Res</td>\n",
       "      <td>positive</td>\n",
       "      <td>CULEX RESTUANS</td>\n",
       "      <td>NaN</td>\n",
       "      <td>NaN</td>\n",
       "    </tr>\n",
       "    <tr>\n",
       "      <th>18440</th>\n",
       "      <td>2012</td>\n",
       "      <td>30</td>\n",
       "      <td>100XX W OHARE AIRPORT</td>\n",
       "      <td>100</td>\n",
       "      <td>T906</td>\n",
       "      <td>GRAVID</td>\n",
       "      <td>2012-07-27 00:07:00</td>\n",
       "      <td>2</td>\n",
       "      <td>Pip</td>\n",
       "      <td>positive</td>\n",
       "      <td>CULEX PIPIENS</td>\n",
       "      <td>NaN</td>\n",
       "      <td>NaN</td>\n",
       "    </tr>\n",
       "    <tr>\n",
       "      <th>18459</th>\n",
       "      <td>2015</td>\n",
       "      <td>29</td>\n",
       "      <td>100XX W OHARE AIRPORT</td>\n",
       "      <td>100</td>\n",
       "      <td>T925</td>\n",
       "      <td>GRAVID</td>\n",
       "      <td>2015-07-23 00:07:00</td>\n",
       "      <td>34</td>\n",
       "      <td>Res</td>\n",
       "      <td>positive</td>\n",
       "      <td>CULEX RESTUANS</td>\n",
       "      <td>NaN</td>\n",
       "      <td>NaN</td>\n",
       "    </tr>\n",
       "    <tr>\n",
       "      <th>18466</th>\n",
       "      <td>2007</td>\n",
       "      <td>35</td>\n",
       "      <td>115XX S AVENUE L</td>\n",
       "      <td>115</td>\n",
       "      <td>T103</td>\n",
       "      <td>GRAVID</td>\n",
       "      <td>2007-09-05 00:09:00</td>\n",
       "      <td>23</td>\n",
       "      <td>Pip</td>\n",
       "      <td>positive</td>\n",
       "      <td>CULEX PIPIENS</td>\n",
       "      <td>NaN</td>\n",
       "      <td>NaN</td>\n",
       "    </tr>\n",
       "    <tr>\n",
       "      <th>18467</th>\n",
       "      <td>2010</td>\n",
       "      <td>33</td>\n",
       "      <td>100XX W OHARE AIRPORT</td>\n",
       "      <td>100</td>\n",
       "      <td>T908</td>\n",
       "      <td>CDC</td>\n",
       "      <td>2010-08-20 00:08:00</td>\n",
       "      <td>5</td>\n",
       "      <td>Pip</td>\n",
       "      <td>positive</td>\n",
       "      <td>CULEX PIPIENS</td>\n",
       "      <td>NaN</td>\n",
       "      <td>NaN</td>\n",
       "    </tr>\n",
       "    <tr>\n",
       "      <th>18473</th>\n",
       "      <td>2016</td>\n",
       "      <td>30</td>\n",
       "      <td>100XX W OHARE AIRPORT</td>\n",
       "      <td>100</td>\n",
       "      <td>T916</td>\n",
       "      <td>GRAVID</td>\n",
       "      <td>2016-07-27 00:07:00</td>\n",
       "      <td>50</td>\n",
       "      <td>Res</td>\n",
       "      <td>positive</td>\n",
       "      <td>CULEX RESTUANS</td>\n",
       "      <td>NaN</td>\n",
       "      <td>NaN</td>\n",
       "    </tr>\n",
       "    <tr>\n",
       "      <th>18476</th>\n",
       "      <td>2013</td>\n",
       "      <td>29</td>\n",
       "      <td>100XX W OHARE AIRPORT</td>\n",
       "      <td>100</td>\n",
       "      <td>T912</td>\n",
       "      <td>GRAVID</td>\n",
       "      <td>2013-07-19 00:07:00</td>\n",
       "      <td>46</td>\n",
       "      <td>Res</td>\n",
       "      <td>positive</td>\n",
       "      <td>CULEX RESTUANS</td>\n",
       "      <td>NaN</td>\n",
       "      <td>NaN</td>\n",
       "    </tr>\n",
       "    <tr>\n",
       "      <th>18477</th>\n",
       "      <td>2013</td>\n",
       "      <td>35</td>\n",
       "      <td>100XX W OHARE AIRPORT</td>\n",
       "      <td>100</td>\n",
       "      <td>T906</td>\n",
       "      <td>GRAVID</td>\n",
       "      <td>2013-08-29 00:08:00</td>\n",
       "      <td>50</td>\n",
       "      <td>Pip</td>\n",
       "      <td>positive</td>\n",
       "      <td>CULEX PIPIENS</td>\n",
       "      <td>NaN</td>\n",
       "      <td>NaN</td>\n",
       "    </tr>\n",
       "    <tr>\n",
       "      <th>18486</th>\n",
       "      <td>2016</td>\n",
       "      <td>29</td>\n",
       "      <td>100XX W OHARE AIRPORT</td>\n",
       "      <td>100</td>\n",
       "      <td>T911</td>\n",
       "      <td>GRAVID</td>\n",
       "      <td>2016-07-21 00:07:00</td>\n",
       "      <td>47</td>\n",
       "      <td>Res</td>\n",
       "      <td>positive</td>\n",
       "      <td>CULEX RESTUANS</td>\n",
       "      <td>NaN</td>\n",
       "      <td>NaN</td>\n",
       "    </tr>\n",
       "    <tr>\n",
       "      <th>18488</th>\n",
       "      <td>2017</td>\n",
       "      <td>30</td>\n",
       "      <td>100XX W OHARE AIRPORT</td>\n",
       "      <td>100</td>\n",
       "      <td>T900</td>\n",
       "      <td>GRAVID</td>\n",
       "      <td>2017-07-27 00:07:00</td>\n",
       "      <td>17</td>\n",
       "      <td>Res</td>\n",
       "      <td>positive</td>\n",
       "      <td>CULEX RESTUANS</td>\n",
       "      <td>NaN</td>\n",
       "      <td>NaN</td>\n",
       "    </tr>\n",
       "    <tr>\n",
       "      <th>18494</th>\n",
       "      <td>2015</td>\n",
       "      <td>33</td>\n",
       "      <td>100XX W OHARE AIRPORT</td>\n",
       "      <td>100</td>\n",
       "      <td>T902</td>\n",
       "      <td>GRAVID</td>\n",
       "      <td>2015-08-20 00:08:00</td>\n",
       "      <td>6</td>\n",
       "      <td>Res</td>\n",
       "      <td>positive</td>\n",
       "      <td>CULEX RESTUANS</td>\n",
       "      <td>NaN</td>\n",
       "      <td>NaN</td>\n",
       "    </tr>\n",
       "  </tbody>\n",
       "</table>\n",
       "</div>"
      ],
      "text/plain": [
       "       Year  Week          Address Block  Block  Trap Trap type  \\\n",
       "18382  2018    30  100XX W OHARE AIRPORT    100  T913    GRAVID   \n",
       "18387  2016    30  100XX W OHARE AIRPORT    100  T913    GRAVID   \n",
       "18391  2013    35  100XX W OHARE AIRPORT    100  T902    GRAVID   \n",
       "18393  2016    36  100XX W OHARE AIRPORT    100  T902    GRAVID   \n",
       "18394  2016    32  100XX W OHARE AIRPORT    100  T917    GRAVID   \n",
       "18396  2018    32  100XX W OHARE AIRPORT    100  T913    GRAVID   \n",
       "18399  2009    33          100XX W OHARE    100  T903    GRAVID   \n",
       "18427  2012    30          100XX W OHARE    100  T903    GRAVID   \n",
       "18430  2007    32           30XX S HOYNE     30  T035    GRAVID   \n",
       "18432  2018    29  100XX W OHARE AIRPORT    100  T910    GRAVID   \n",
       "18440  2012    30  100XX W OHARE AIRPORT    100  T906    GRAVID   \n",
       "18459  2015    29  100XX W OHARE AIRPORT    100  T925    GRAVID   \n",
       "18466  2007    35       115XX S AVENUE L    115  T103    GRAVID   \n",
       "18467  2010    33  100XX W OHARE AIRPORT    100  T908       CDC   \n",
       "18473  2016    30  100XX W OHARE AIRPORT    100  T916    GRAVID   \n",
       "18476  2013    29  100XX W OHARE AIRPORT    100  T912    GRAVID   \n",
       "18477  2013    35  100XX W OHARE AIRPORT    100  T906    GRAVID   \n",
       "18486  2016    29  100XX W OHARE AIRPORT    100  T911    GRAVID   \n",
       "18488  2017    30  100XX W OHARE AIRPORT    100  T900    GRAVID   \n",
       "18494  2015    33  100XX W OHARE AIRPORT    100  T902    GRAVID   \n",
       "\n",
       "                     Date  Mosquito number Mosquito ID WNV Present  \\\n",
       "18382 2018-07-26 00:07:00                8         Res    positive   \n",
       "18387 2016-07-27 00:07:00               50         Pip    positive   \n",
       "18391 2013-08-29 00:08:00               48         Pip    positive   \n",
       "18393 2016-09-08 00:09:00               24         Res    positive   \n",
       "18394 2016-08-11 00:08:00               39         Pip    positive   \n",
       "18396 2018-08-09 00:08:00                5         Pip    positive   \n",
       "18399 2009-08-25 00:08:00               14         Res    positive   \n",
       "18427 2012-07-27 00:07:00                4         Res    positive   \n",
       "18430 2007-08-15 00:08:00                1         Res    positive   \n",
       "18432 2018-07-19 00:07:00               42         Res    positive   \n",
       "18440 2012-07-27 00:07:00                2         Pip    positive   \n",
       "18459 2015-07-23 00:07:00               34         Res    positive   \n",
       "18466 2007-09-05 00:09:00               23         Pip    positive   \n",
       "18467 2010-08-20 00:08:00                5         Pip    positive   \n",
       "18473 2016-07-27 00:07:00               50         Res    positive   \n",
       "18476 2013-07-19 00:07:00               46         Res    positive   \n",
       "18477 2013-08-29 00:08:00               50         Pip    positive   \n",
       "18486 2016-07-21 00:07:00               47         Res    positive   \n",
       "18488 2017-07-27 00:07:00               17         Res    positive   \n",
       "18494 2015-08-20 00:08:00                6         Res    positive   \n",
       "\n",
       "              Species  Lat  Lon  \n",
       "18382  CULEX RESTUANS  NaN  NaN  \n",
       "18387   CULEX PIPIENS  NaN  NaN  \n",
       "18391   CULEX PIPIENS  NaN  NaN  \n",
       "18393  CULEX RESTUANS  NaN  NaN  \n",
       "18394   CULEX PIPIENS  NaN  NaN  \n",
       "18396   CULEX PIPIENS  NaN  NaN  \n",
       "18399  CULEX RESTUANS  NaN  NaN  \n",
       "18427  CULEX RESTUANS  NaN  NaN  \n",
       "18430  CULEX RESTUANS  NaN  NaN  \n",
       "18432  CULEX RESTUANS  NaN  NaN  \n",
       "18440   CULEX PIPIENS  NaN  NaN  \n",
       "18459  CULEX RESTUANS  NaN  NaN  \n",
       "18466   CULEX PIPIENS  NaN  NaN  \n",
       "18467   CULEX PIPIENS  NaN  NaN  \n",
       "18473  CULEX RESTUANS  NaN  NaN  \n",
       "18476  CULEX RESTUANS  NaN  NaN  \n",
       "18477   CULEX PIPIENS  NaN  NaN  \n",
       "18486  CULEX RESTUANS  NaN  NaN  \n",
       "18488  CULEX RESTUANS  NaN  NaN  \n",
       "18494  CULEX RESTUANS  NaN  NaN  "
      ]
     },
     "execution_count": 37,
     "metadata": {},
     "output_type": "execute_result"
    }
   ],
   "source": [
    "dupli.tail(20)"
   ]
  },
  {
   "cell_type": "code",
   "execution_count": 38,
   "id": "f5b21aae",
   "metadata": {},
   "outputs": [],
   "source": [
    "df = df.drop_duplicates()"
   ]
  },
  {
   "cell_type": "code",
   "execution_count": 39,
   "id": "d1dc04f0",
   "metadata": {},
   "outputs": [
    {
     "data": {
      "text/plain": [
       "0"
      ]
     },
     "execution_count": 39,
     "metadata": {},
     "output_type": "execute_result"
    }
   ],
   "source": [
    "df.duplicated().sum() #Sanity check"
   ]
  },
  {
   "cell_type": "code",
   "execution_count": 40,
   "id": "cf4a9021",
   "metadata": {},
   "outputs": [
    {
     "data": {
      "text/html": [
       "<div>\n",
       "<style scoped>\n",
       "    .dataframe tbody tr th:only-of-type {\n",
       "        vertical-align: middle;\n",
       "    }\n",
       "\n",
       "    .dataframe tbody tr th {\n",
       "        vertical-align: top;\n",
       "    }\n",
       "\n",
       "    .dataframe thead th {\n",
       "        text-align: right;\n",
       "    }\n",
       "</style>\n",
       "<table border=\"1\" class=\"dataframe\">\n",
       "  <thead>\n",
       "    <tr style=\"text-align: right;\">\n",
       "      <th></th>\n",
       "      <th>Year</th>\n",
       "      <th>Week</th>\n",
       "      <th>Block</th>\n",
       "      <th>Mosquito number</th>\n",
       "      <th>Lat</th>\n",
       "      <th>Lon</th>\n",
       "    </tr>\n",
       "  </thead>\n",
       "  <tbody>\n",
       "    <tr>\n",
       "      <th>Year</th>\n",
       "      <td>1.000000</td>\n",
       "      <td>-0.022322</td>\n",
       "      <td>-0.037443</td>\n",
       "      <td>0.119070</td>\n",
       "      <td>0.064088</td>\n",
       "      <td>-0.040140</td>\n",
       "    </tr>\n",
       "    <tr>\n",
       "      <th>Week</th>\n",
       "      <td>-0.022322</td>\n",
       "      <td>1.000000</td>\n",
       "      <td>-0.018209</td>\n",
       "      <td>-0.033293</td>\n",
       "      <td>-0.001914</td>\n",
       "      <td>-0.009174</td>\n",
       "    </tr>\n",
       "    <tr>\n",
       "      <th>Block</th>\n",
       "      <td>-0.037443</td>\n",
       "      <td>-0.018209</td>\n",
       "      <td>1.000000</td>\n",
       "      <td>0.094457</td>\n",
       "      <td>-0.261829</td>\n",
       "      <td>0.099292</td>\n",
       "    </tr>\n",
       "    <tr>\n",
       "      <th>Mosquito number</th>\n",
       "      <td>0.119070</td>\n",
       "      <td>-0.033293</td>\n",
       "      <td>0.094457</td>\n",
       "      <td>1.000000</td>\n",
       "      <td>0.059195</td>\n",
       "      <td>-0.100425</td>\n",
       "    </tr>\n",
       "    <tr>\n",
       "      <th>Lat</th>\n",
       "      <td>0.064088</td>\n",
       "      <td>-0.001914</td>\n",
       "      <td>-0.261829</td>\n",
       "      <td>0.059195</td>\n",
       "      <td>1.000000</td>\n",
       "      <td>-0.695048</td>\n",
       "    </tr>\n",
       "    <tr>\n",
       "      <th>Lon</th>\n",
       "      <td>-0.040140</td>\n",
       "      <td>-0.009174</td>\n",
       "      <td>0.099292</td>\n",
       "      <td>-0.100425</td>\n",
       "      <td>-0.695048</td>\n",
       "      <td>1.000000</td>\n",
       "    </tr>\n",
       "  </tbody>\n",
       "</table>\n",
       "</div>"
      ],
      "text/plain": [
       "                     Year      Week     Block  Mosquito number       Lat  \\\n",
       "Year             1.000000 -0.022322 -0.037443         0.119070  0.064088   \n",
       "Week            -0.022322  1.000000 -0.018209        -0.033293 -0.001914   \n",
       "Block           -0.037443 -0.018209  1.000000         0.094457 -0.261829   \n",
       "Mosquito number  0.119070 -0.033293  0.094457         1.000000  0.059195   \n",
       "Lat              0.064088 -0.001914 -0.261829         0.059195  1.000000   \n",
       "Lon             -0.040140 -0.009174  0.099292        -0.100425 -0.695048   \n",
       "\n",
       "                      Lon  \n",
       "Year            -0.040140  \n",
       "Week            -0.009174  \n",
       "Block            0.099292  \n",
       "Mosquito number -0.100425  \n",
       "Lat             -0.695048  \n",
       "Lon              1.000000  "
      ]
     },
     "execution_count": 40,
     "metadata": {},
     "output_type": "execute_result"
    }
   ],
   "source": [
    "df.corr()"
   ]
  },
  {
   "cell_type": "code",
   "execution_count": 14,
   "id": "794178f5",
   "metadata": {},
   "outputs": [
    {
     "data": {
      "image/png": "[encoded data removed]",
      "text/plain": [
       "<Figure size 1080x360 with 2 Axes>"
      ]
     },
     "metadata": {
      "needs_background": "light"
     },
     "output_type": "display_data"
    }
   ],
   "source": [
    "plt.figure(figsize=(15, 5))\n",
    "sns.heatmap(df.corr(), cmap=\"coolwarm\", vmax=1.0, vmin=-1.0)\n",
    "plt.show()"
   ]
  },
  {
   "cell_type": "markdown",
   "id": "c6c975f3",
   "metadata": {},
   "source": [
    "A further sanity check was conducted checking the correlation between specific columns. This was just another to check if there were any duplicate columns and the output was plotted with a heatmap. If there were any duplicate columns or columns which shared a large amount of information the value would be closer to 1. Which is evident with the Lat and Lon columns as they shared values for location, however, from the heatmap it is evident that there are no duplicate columns."
   ]
  },
  {
   "cell_type": "code",
   "execution_count": 42,
   "id": "65a97baf",
   "metadata": {},
   "outputs": [
    {
     "data": {
      "text/plain": [
       "T002     406\n",
       "T114     340\n",
       "T031     333\n",
       "T008     326\n",
       "T138     304\n",
       "        ... \n",
       "T167       1\n",
       "T135B      1\n",
       "T241       1\n",
       "T128A      1\n",
       "T040       1\n",
       "Name: Trap, Length: 190, dtype: int64"
      ]
     },
     "execution_count": 42,
     "metadata": {},
     "output_type": "execute_result"
    }
   ],
   "source": [
    "df['Trap'].value_counts()"
   ]
  },
  {
   "cell_type": "code",
   "execution_count": 43,
   "id": "490fb271",
   "metadata": {},
   "outputs": [
    {
     "data": {
      "text/plain": [
       "GRAVID      17098\n",
       "CDC           529\n",
       "SENTINEL      209\n",
       "OVI             1\n",
       "Name: Trap type, dtype: int64"
      ]
     },
     "execution_count": 43,
     "metadata": {},
     "output_type": "execute_result"
    }
   ],
   "source": [
    "df['Trap type'].value_counts()"
   ]
  },
  {
   "cell_type": "code",
   "execution_count": 44,
   "id": "769f0881",
   "metadata": {},
   "outputs": [
    {
     "data": {
      "text/plain": [
       "100    1677\n",
       "22      715\n",
       "58      636\n",
       "70      629\n",
       "52      577\n",
       "       ... \n",
       "129       5\n",
       "29        2\n",
       "112       2\n",
       "88        2\n",
       "54        1\n",
       "Name: Block, Length: 87, dtype: int64"
      ]
     },
     "execution_count": 44,
     "metadata": {},
     "output_type": "execute_result"
    }
   ],
   "source": [
    "df['Block'].value_counts()"
   ]
  },
  {
   "cell_type": "code",
   "execution_count": 45,
   "id": "a7ae76a6",
   "metadata": {},
   "outputs": [
    {
     "data": {
      "text/plain": [
       "100XX W OHARE AIRPORT       1499\n",
       "41XX N OAK PARK AVE          408\n",
       "101XX S STONY ISLAND AVE     369\n",
       "52XX S KOLMAR AVE            349\n",
       "1XX N CENTRAL PARK DR        335\n",
       "                            ... \n",
       "29XX N KENNETH AVE             2\n",
       "54XX W PARKER AVE              1\n",
       "4XX W 127TH ST                 1\n",
       "104XX S OGLESBY AVE            1\n",
       "21XX S HAMLIN AVE              1\n",
       "Name: Address Block, Length: 154, dtype: int64"
      ]
     },
     "execution_count": 45,
     "metadata": {},
     "output_type": "execute_result"
    }
   ],
   "source": [
    "df['Address Block'].value_counts()"
   ]
  },
  {
   "cell_type": "code",
   "execution_count": 46,
   "id": "502798c0",
   "metadata": {},
   "outputs": [
    {
     "data": {
      "text/html": [
       "<div>\n",
       "<style scoped>\n",
       "    .dataframe tbody tr th:only-of-type {\n",
       "        vertical-align: middle;\n",
       "    }\n",
       "\n",
       "    .dataframe tbody tr th {\n",
       "        vertical-align: top;\n",
       "    }\n",
       "\n",
       "    .dataframe thead th {\n",
       "        text-align: right;\n",
       "    }\n",
       "</style>\n",
       "<table border=\"1\" class=\"dataframe\">\n",
       "  <thead>\n",
       "    <tr style=\"text-align: right;\">\n",
       "      <th></th>\n",
       "      <th>Address Block</th>\n",
       "      <th>Block</th>\n",
       "    </tr>\n",
       "  </thead>\n",
       "  <tbody>\n",
       "    <tr>\n",
       "      <th>0</th>\n",
       "      <td>100XX W OHARE AIRPORT</td>\n",
       "      <td>100</td>\n",
       "    </tr>\n",
       "    <tr>\n",
       "      <th>1</th>\n",
       "      <td>52XX S KOLMAR AVE</td>\n",
       "      <td>52</td>\n",
       "    </tr>\n",
       "    <tr>\n",
       "      <th>2</th>\n",
       "      <td>58XX N WESTERN AVE</td>\n",
       "      <td>58</td>\n",
       "    </tr>\n",
       "    <tr>\n",
       "      <th>3</th>\n",
       "      <td>39XX N SPRINGFIELD AVE</td>\n",
       "      <td>39</td>\n",
       "    </tr>\n",
       "    <tr>\n",
       "      <th>4</th>\n",
       "      <td>131XX S BRANDON AVE</td>\n",
       "      <td>131</td>\n",
       "    </tr>\n",
       "    <tr>\n",
       "      <th>...</th>\n",
       "      <td>...</td>\n",
       "      <td>...</td>\n",
       "    </tr>\n",
       "    <tr>\n",
       "      <th>18489</th>\n",
       "      <td>63XX W 64TH ST</td>\n",
       "      <td>63</td>\n",
       "    </tr>\n",
       "    <tr>\n",
       "      <th>18490</th>\n",
       "      <td>3XX W 18TH ST</td>\n",
       "      <td>3</td>\n",
       "    </tr>\n",
       "    <tr>\n",
       "      <th>18491</th>\n",
       "      <td>46XX N MILWAUKEE AVE</td>\n",
       "      <td>46</td>\n",
       "    </tr>\n",
       "    <tr>\n",
       "      <th>18492</th>\n",
       "      <td>127XX S DOTY AVE</td>\n",
       "      <td>127</td>\n",
       "    </tr>\n",
       "    <tr>\n",
       "      <th>18493</th>\n",
       "      <td>20XX N DOMINICK ST</td>\n",
       "      <td>20</td>\n",
       "    </tr>\n",
       "  </tbody>\n",
       "</table>\n",
       "<p>17837 rows × 2 columns</p>\n",
       "</div>"
      ],
      "text/plain": [
       "                Address Block  Block\n",
       "0       100XX W OHARE AIRPORT    100\n",
       "1           52XX S KOLMAR AVE     52\n",
       "2          58XX N WESTERN AVE     58\n",
       "3      39XX N SPRINGFIELD AVE     39\n",
       "4         131XX S BRANDON AVE    131\n",
       "...                       ...    ...\n",
       "18489          63XX W 64TH ST     63\n",
       "18490           3XX W 18TH ST      3\n",
       "18491    46XX N MILWAUKEE AVE     46\n",
       "18492        127XX S DOTY AVE    127\n",
       "18493      20XX N DOMINICK ST     20\n",
       "\n",
       "[17837 rows x 2 columns]"
      ]
     },
     "execution_count": 46,
     "metadata": {},
     "output_type": "execute_result"
    }
   ],
   "source": [
    "df[['Address Block','Block']]"
   ]
  },
  {
   "cell_type": "code",
   "execution_count": 47,
   "id": "779a8647",
   "metadata": {},
   "outputs": [
    {
     "data": {
      "text/plain": [
       "Res    11387\n",
       "Pip     5311\n",
       "Ter      917\n",
       "Sal      222\n",
       "Name: Mosquito ID, dtype: int64"
      ]
     },
     "execution_count": 47,
     "metadata": {},
     "output_type": "execute_result"
    }
   ],
   "source": [
    "df['Mosquito ID'].value_counts()"
   ]
  },
  {
   "cell_type": "code",
   "execution_count": 48,
   "id": "77f2ccff",
   "metadata": {},
   "outputs": [
    {
     "data": {
      "text/plain": [
       "CULEX RESTUANS      11387\n",
       "CULEX PIPIENS        5311\n",
       "CULEX TERRITANS       917\n",
       "CULEX SALINARIUS      222\n",
       "Name: Species, dtype: int64"
      ]
     },
     "execution_count": 48,
     "metadata": {},
     "output_type": "execute_result"
    }
   ],
   "source": [
    "df['Species'].value_counts()"
   ]
  },
  {
   "cell_type": "code",
   "execution_count": 49,
   "id": "ddb5ca4a",
   "metadata": {},
   "outputs": [
    {
     "data": {
      "text/html": [
       "<div>\n",
       "<style scoped>\n",
       "    .dataframe tbody tr th:only-of-type {\n",
       "        vertical-align: middle;\n",
       "    }\n",
       "\n",
       "    .dataframe tbody tr th {\n",
       "        vertical-align: top;\n",
       "    }\n",
       "\n",
       "    .dataframe thead th {\n",
       "        text-align: right;\n",
       "    }\n",
       "</style>\n",
       "<table border=\"1\" class=\"dataframe\">\n",
       "  <thead>\n",
       "    <tr style=\"text-align: right;\">\n",
       "      <th></th>\n",
       "      <th>Mosquito ID</th>\n",
       "      <th>Species</th>\n",
       "    </tr>\n",
       "  </thead>\n",
       "  <tbody>\n",
       "    <tr>\n",
       "      <th>0</th>\n",
       "      <td>Res</td>\n",
       "      <td>CULEX RESTUANS</td>\n",
       "    </tr>\n",
       "    <tr>\n",
       "      <th>1</th>\n",
       "      <td>Res</td>\n",
       "      <td>CULEX RESTUANS</td>\n",
       "    </tr>\n",
       "    <tr>\n",
       "      <th>2</th>\n",
       "      <td>Res</td>\n",
       "      <td>CULEX RESTUANS</td>\n",
       "    </tr>\n",
       "    <tr>\n",
       "      <th>3</th>\n",
       "      <td>Res</td>\n",
       "      <td>CULEX RESTUANS</td>\n",
       "    </tr>\n",
       "    <tr>\n",
       "      <th>4</th>\n",
       "      <td>Res</td>\n",
       "      <td>CULEX RESTUANS</td>\n",
       "    </tr>\n",
       "    <tr>\n",
       "      <th>...</th>\n",
       "      <td>...</td>\n",
       "      <td>...</td>\n",
       "    </tr>\n",
       "    <tr>\n",
       "      <th>18489</th>\n",
       "      <td>Pip</td>\n",
       "      <td>CULEX PIPIENS</td>\n",
       "    </tr>\n",
       "    <tr>\n",
       "      <th>18490</th>\n",
       "      <td>Pip</td>\n",
       "      <td>CULEX PIPIENS</td>\n",
       "    </tr>\n",
       "    <tr>\n",
       "      <th>18491</th>\n",
       "      <td>Pip</td>\n",
       "      <td>CULEX PIPIENS</td>\n",
       "    </tr>\n",
       "    <tr>\n",
       "      <th>18492</th>\n",
       "      <td>Res</td>\n",
       "      <td>CULEX RESTUANS</td>\n",
       "    </tr>\n",
       "    <tr>\n",
       "      <th>18493</th>\n",
       "      <td>Res</td>\n",
       "      <td>CULEX RESTUANS</td>\n",
       "    </tr>\n",
       "  </tbody>\n",
       "</table>\n",
       "<p>17837 rows × 2 columns</p>\n",
       "</div>"
      ],
      "text/plain": [
       "      Mosquito ID         Species\n",
       "0             Res  CULEX RESTUANS\n",
       "1             Res  CULEX RESTUANS\n",
       "2             Res  CULEX RESTUANS\n",
       "3             Res  CULEX RESTUANS\n",
       "4             Res  CULEX RESTUANS\n",
       "...           ...             ...\n",
       "18489         Pip   CULEX PIPIENS\n",
       "18490         Pip   CULEX PIPIENS\n",
       "18491         Pip   CULEX PIPIENS\n",
       "18492         Res  CULEX RESTUANS\n",
       "18493         Res  CULEX RESTUANS\n",
       "\n",
       "[17837 rows x 2 columns]"
      ]
     },
     "execution_count": 49,
     "metadata": {},
     "output_type": "execute_result"
    }
   ],
   "source": [
    "df[['Mosquito ID','Species']]"
   ]
  },
  {
   "cell_type": "markdown",
   "id": "b40027bb",
   "metadata": {},
   "source": [
    "Looking at the code above it is clear to see that the block column is redundant. It is repeating the same values as in the address block so can be removed which is done with the code below. Also, the Mosquito ID and Species are repeating the same information. The Mosquito ID column is just a shorthand of the species column. Furthermore, I thought the year and week column were also redundant as they are part of the Date column, however, as seen later on the notebook the year was needed to for plotting distributions. So I chose not to remove the year row but did the week column. All the redundant columns were removed with the drop column and axis = 1, to ensure that it was the column that was removed not the row. "
   ]
  },
  {
   "cell_type": "code",
   "execution_count": 50,
   "id": "7f149687",
   "metadata": {},
   "outputs": [],
   "source": [
    "df = df.drop('Block', axis=1)"
   ]
  },
  {
   "cell_type": "code",
   "execution_count": 51,
   "id": "fd52b03f",
   "metadata": {},
   "outputs": [],
   "source": [
    "df = df.drop('Mosquito ID', axis=1)"
   ]
  },
  {
   "cell_type": "code",
   "execution_count": 52,
   "id": "e2f32da2",
   "metadata": {},
   "outputs": [],
   "source": [
    "df = df.drop('Week', axis=1)"
   ]
  },
  {
   "cell_type": "code",
   "execution_count": 53,
   "id": "895342c5",
   "metadata": {},
   "outputs": [
    {
     "data": {
      "text/html": [
       "<div>\n",
       "<style scoped>\n",
       "    .dataframe tbody tr th:only-of-type {\n",
       "        vertical-align: middle;\n",
       "    }\n",
       "\n",
       "    .dataframe tbody tr th {\n",
       "        vertical-align: top;\n",
       "    }\n",
       "\n",
       "    .dataframe thead th {\n",
       "        text-align: right;\n",
       "    }\n",
       "</style>\n",
       "<table border=\"1\" class=\"dataframe\">\n",
       "  <thead>\n",
       "    <tr style=\"text-align: right;\">\n",
       "      <th></th>\n",
       "      <th>Year</th>\n",
       "      <th>Address Block</th>\n",
       "      <th>Trap</th>\n",
       "      <th>Trap type</th>\n",
       "      <th>Date</th>\n",
       "      <th>Mosquito number</th>\n",
       "      <th>WNV Present</th>\n",
       "      <th>Species</th>\n",
       "      <th>Lat</th>\n",
       "      <th>Lon</th>\n",
       "    </tr>\n",
       "  </thead>\n",
       "  <tbody>\n",
       "    <tr>\n",
       "      <th>0</th>\n",
       "      <td>2019</td>\n",
       "      <td>100XX W OHARE AIRPORT</td>\n",
       "      <td>T910</td>\n",
       "      <td>GRAVID</td>\n",
       "      <td>2019-09-26 00:09:00</td>\n",
       "      <td>2</td>\n",
       "      <td>negative</td>\n",
       "      <td>CULEX RESTUANS</td>\n",
       "      <td>NaN</td>\n",
       "      <td>NaN</td>\n",
       "    </tr>\n",
       "    <tr>\n",
       "      <th>1</th>\n",
       "      <td>2019</td>\n",
       "      <td>52XX S KOLMAR AVE</td>\n",
       "      <td>T114</td>\n",
       "      <td>GRAVID</td>\n",
       "      <td>2019-09-26 00:09:00</td>\n",
       "      <td>1</td>\n",
       "      <td>negative</td>\n",
       "      <td>CULEX RESTUANS</td>\n",
       "      <td>41.798211</td>\n",
       "      <td>-87.736925</td>\n",
       "    </tr>\n",
       "    <tr>\n",
       "      <th>2</th>\n",
       "      <td>2019</td>\n",
       "      <td>58XX N WESTERN AVE</td>\n",
       "      <td>T028</td>\n",
       "      <td>GRAVID</td>\n",
       "      <td>2019-09-26 00:09:00</td>\n",
       "      <td>2</td>\n",
       "      <td>negative</td>\n",
       "      <td>CULEX RESTUANS</td>\n",
       "      <td>41.987245</td>\n",
       "      <td>-87.689417</td>\n",
       "    </tr>\n",
       "    <tr>\n",
       "      <th>3</th>\n",
       "      <td>2019</td>\n",
       "      <td>39XX N SPRINGFIELD AVE</td>\n",
       "      <td>T228</td>\n",
       "      <td>GRAVID</td>\n",
       "      <td>2019-09-26 00:09:00</td>\n",
       "      <td>1</td>\n",
       "      <td>negative</td>\n",
       "      <td>CULEX RESTUANS</td>\n",
       "      <td>41.953664</td>\n",
       "      <td>-87.724987</td>\n",
       "    </tr>\n",
       "    <tr>\n",
       "      <th>4</th>\n",
       "      <td>2019</td>\n",
       "      <td>131XX S BRANDON AVE</td>\n",
       "      <td>T209</td>\n",
       "      <td>GRAVID</td>\n",
       "      <td>2019-09-26 00:09:00</td>\n",
       "      <td>9</td>\n",
       "      <td>negative</td>\n",
       "      <td>CULEX RESTUANS</td>\n",
       "      <td>41.657069</td>\n",
       "      <td>-87.546049</td>\n",
       "    </tr>\n",
       "    <tr>\n",
       "      <th>...</th>\n",
       "      <td>...</td>\n",
       "      <td>...</td>\n",
       "      <td>...</td>\n",
       "      <td>...</td>\n",
       "      <td>...</td>\n",
       "      <td>...</td>\n",
       "      <td>...</td>\n",
       "      <td>...</td>\n",
       "      <td>...</td>\n",
       "      <td>...</td>\n",
       "    </tr>\n",
       "    <tr>\n",
       "      <th>18489</th>\n",
       "      <td>2013</td>\n",
       "      <td>63XX W 64TH ST</td>\n",
       "      <td>T155</td>\n",
       "      <td>GRAVID</td>\n",
       "      <td>2013-08-29 00:08:00</td>\n",
       "      <td>3</td>\n",
       "      <td>positive</td>\n",
       "      <td>CULEX PIPIENS</td>\n",
       "      <td>41.776009</td>\n",
       "      <td>-87.779408</td>\n",
       "    </tr>\n",
       "    <tr>\n",
       "      <th>18490</th>\n",
       "      <td>2016</td>\n",
       "      <td>3XX W 18TH ST</td>\n",
       "      <td>T043</td>\n",
       "      <td>GRAVID</td>\n",
       "      <td>2016-09-09 00:09:00</td>\n",
       "      <td>4</td>\n",
       "      <td>positive</td>\n",
       "      <td>CULEX PIPIENS</td>\n",
       "      <td>41.857843</td>\n",
       "      <td>-87.635858</td>\n",
       "    </tr>\n",
       "    <tr>\n",
       "      <th>18491</th>\n",
       "      <td>2007</td>\n",
       "      <td>46XX N MILWAUKEE AVE</td>\n",
       "      <td>T003</td>\n",
       "      <td>GRAVID</td>\n",
       "      <td>2007-08-24 00:08:00</td>\n",
       "      <td>19</td>\n",
       "      <td>positive</td>\n",
       "      <td>CULEX PIPIENS</td>\n",
       "      <td>41.965376</td>\n",
       "      <td>-87.758403</td>\n",
       "    </tr>\n",
       "    <tr>\n",
       "      <th>18492</th>\n",
       "      <td>2016</td>\n",
       "      <td>127XX S DOTY AVE</td>\n",
       "      <td>T115</td>\n",
       "      <td>GRAVID</td>\n",
       "      <td>2016-07-27 00:07:00</td>\n",
       "      <td>34</td>\n",
       "      <td>positive</td>\n",
       "      <td>CULEX RESTUANS</td>\n",
       "      <td>41.662395</td>\n",
       "      <td>-87.590176</td>\n",
       "    </tr>\n",
       "    <tr>\n",
       "      <th>18493</th>\n",
       "      <td>2017</td>\n",
       "      <td>20XX N DOMINICK ST</td>\n",
       "      <td>T240B</td>\n",
       "      <td>SENTINEL</td>\n",
       "      <td>2017-08-17 00:08:00</td>\n",
       "      <td>50</td>\n",
       "      <td>positive</td>\n",
       "      <td>CULEX RESTUANS</td>\n",
       "      <td>41.919197</td>\n",
       "      <td>-87.664758</td>\n",
       "    </tr>\n",
       "  </tbody>\n",
       "</table>\n",
       "<p>17837 rows × 10 columns</p>\n",
       "</div>"
      ],
      "text/plain": [
       "       Year           Address Block   Trap Trap type                Date  \\\n",
       "0      2019   100XX W OHARE AIRPORT   T910    GRAVID 2019-09-26 00:09:00   \n",
       "1      2019       52XX S KOLMAR AVE   T114    GRAVID 2019-09-26 00:09:00   \n",
       "2      2019      58XX N WESTERN AVE   T028    GRAVID 2019-09-26 00:09:00   \n",
       "3      2019  39XX N SPRINGFIELD AVE   T228    GRAVID 2019-09-26 00:09:00   \n",
       "4      2019     131XX S BRANDON AVE   T209    GRAVID 2019-09-26 00:09:00   \n",
       "...     ...                     ...    ...       ...                 ...   \n",
       "18489  2013          63XX W 64TH ST   T155    GRAVID 2013-08-29 00:08:00   \n",
       "18490  2016           3XX W 18TH ST   T043    GRAVID 2016-09-09 00:09:00   \n",
       "18491  2007    46XX N MILWAUKEE AVE   T003    GRAVID 2007-08-24 00:08:00   \n",
       "18492  2016        127XX S DOTY AVE   T115    GRAVID 2016-07-27 00:07:00   \n",
       "18493  2017      20XX N DOMINICK ST  T240B  SENTINEL 2017-08-17 00:08:00   \n",
       "\n",
       "       Mosquito number WNV Present         Species        Lat        Lon  \n",
       "0                    2    negative  CULEX RESTUANS        NaN        NaN  \n",
       "1                    1    negative  CULEX RESTUANS  41.798211 -87.736925  \n",
       "2                    2    negative  CULEX RESTUANS  41.987245 -87.689417  \n",
       "3                    1    negative  CULEX RESTUANS  41.953664 -87.724987  \n",
       "4                    9    negative  CULEX RESTUANS  41.657069 -87.546049  \n",
       "...                ...         ...             ...        ...        ...  \n",
       "18489                3    positive   CULEX PIPIENS  41.776009 -87.779408  \n",
       "18490                4    positive   CULEX PIPIENS  41.857843 -87.635858  \n",
       "18491               19    positive   CULEX PIPIENS  41.965376 -87.758403  \n",
       "18492               34    positive  CULEX RESTUANS  41.662395 -87.590176  \n",
       "18493               50    positive  CULEX RESTUANS  41.919197 -87.664758  \n",
       "\n",
       "[17837 rows x 10 columns]"
      ]
     },
     "execution_count": 53,
     "metadata": {},
     "output_type": "execute_result"
    }
   ],
   "source": [
    "#Sanity check to ensure that the columns were removed\n",
    "df"
   ]
  },
  {
   "cell_type": "markdown",
   "id": "ddf33ebc",
   "metadata": {},
   "source": [
    "Lastly, the final part of the EDA process was to check for null values. Null values can skew results and can affect the insights made. So the first step is to use the isna() function which goes through the dataframe by row and returns the number of null values in each row. We can then calculate the mean number of null values for each row to determine what method to go forward to deal with the null values, for example, with the impute method or deleting the rows completely. "
   ]
  },
  {
   "cell_type": "code",
   "execution_count": 54,
   "id": "7d59b9fb",
   "metadata": {
    "scrolled": true
   },
   "outputs": [
    {
     "data": {
      "text/plain": [
       "Year                  0\n",
       "Address Block         0\n",
       "Trap                  0\n",
       "Trap type             0\n",
       "Date                  0\n",
       "Mosquito number       0\n",
       "WNV Present           0\n",
       "Species               0\n",
       "Lat                2266\n",
       "Lon                2266\n",
       "dtype: int64"
      ]
     },
     "execution_count": 54,
     "metadata": {},
     "output_type": "execute_result"
    }
   ],
   "source": [
    "df.isna().sum()"
   ]
  },
  {
   "cell_type": "code",
   "execution_count": 55,
   "id": "7437fc43",
   "metadata": {},
   "outputs": [
    {
     "data": {
      "text/plain": [
       "Year                0.00000\n",
       "Address Block       0.00000\n",
       "Trap                0.00000\n",
       "Trap type           0.00000\n",
       "Date                0.00000\n",
       "Mosquito number     0.00000\n",
       "WNV Present         0.00000\n",
       "Species             0.00000\n",
       "Lat                12.70393\n",
       "Lon                12.70393\n",
       "dtype: float64"
      ]
     },
     "execution_count": 55,
     "metadata": {},
     "output_type": "execute_result"
    }
   ],
   "source": [
    "df.isna().mean()*100"
   ]
  },
  {
   "cell_type": "markdown",
   "id": "eb305a80",
   "metadata": {},
   "source": [
    "Given that there are 15% of the rows in the lat and lon column are null, this is too high a value to just drop these values. It is much more efficient to impute the values into the null column. "
   ]
  },
  {
   "cell_type": "code",
   "execution_count": 56,
   "id": "6a501fb8",
   "metadata": {},
   "outputs": [
    {
     "data": {
      "text/plain": [
       "count    15571.000000\n",
       "mean        41.839963\n",
       "std          0.111374\n",
       "min         41.644720\n",
       "25%         41.742670\n",
       "50%         41.845715\n",
       "75%         41.945961\n",
       "max         42.017801\n",
       "Name: Lat, dtype: float64"
      ]
     },
     "execution_count": 56,
     "metadata": {},
     "output_type": "execute_result"
    }
   ],
   "source": [
    "df['Lat'].describe()"
   ]
  },
  {
   "cell_type": "code",
   "execution_count": 57,
   "id": "fe864344",
   "metadata": {},
   "outputs": [
    {
     "data": {
      "text/plain": [
       "True"
      ]
     },
     "execution_count": 57,
     "metadata": {},
     "output_type": "execute_result"
    }
   ],
   "source": [
    "all(df['Lon'].isna() == df['Lat'].isna())"
   ]
  },
  {
   "cell_type": "markdown",
   "id": "6bcc82c0",
   "metadata": {},
   "source": [
    "The above code is to check that where there are missing values for the latitude there are missing values for the longitude. The all function returns True if all the lat and lon values match each other or false if they do not. In this case they all match each other which means that whenever we input the lat values then we can input the lon values as well. "
   ]
  },
  {
   "cell_type": "code",
   "execution_count": 58,
   "id": "3cf05b7f",
   "metadata": {},
   "outputs": [
    {
     "name": "stdout",
     "output_type": "stream",
     "text": [
      "100XX W OHARE AIRPORT\n",
      "4XX W 127TH\n",
      "100XX W OHARE\n",
      "79XX S CHICAGO\n",
      "81XX S ASHLAND\n",
      "115XX S AVENUE L\n",
      "65XX N OAK PARK AVE\n",
      "30XX S HOYNE\n",
      "98XX S AVENUE G\n",
      "43XX N ASHLAND\n"
     ]
    }
   ],
   "source": [
    "null_cols = df['Lat'].isna()\n",
    "address_totals = df[null_cols]['Address Block'].value_counts()\n",
    "address_totals\n",
    "for x in address_totals.index:\n",
    "    print(x)"
   ]
  },
  {
   "cell_type": "markdown",
   "id": "7668e2e1",
   "metadata": {},
   "source": [
    "Firstly, the above code goes through the Lat column and returns true or false for each row if there is a null value or not. It then groups all the addresses with the null values, with this information I can create a dictionary that can loop through the dictionary with the specific lat and lon value for each address. Then I can loop through the dataframe and when there is a null value, I can match the address with the one in the dictionary and impute the lat/lon values."
   ]
  },
  {
   "cell_type": "code",
   "execution_count": 59,
   "id": "8f0ee5a6",
   "metadata": {},
   "outputs": [],
   "source": [
    "address_dictionary = {'100XX W OHARE AIRPORT': [41.978611,-87.904724],\n",
    " '4XX W 127TH': [41.663278,-87.633214],\n",
    " '100XX W OHARE': [41.978611,-87.904724] ,\n",
    " '79XX S CHICAGO': [42.2650026,-87.0639159],\n",
    " '81XX S ASHLAND': [41.870436,-87.665853],\n",
    " '115XX S AVENUE L': [41.697376, -87.528177],\n",
    " '65XX N OAK PARK AVE': [41.935567,-87.795257],\n",
    " '30XX S HOYNE': [41.833866,-87.678173],\n",
    " '98XX S AVENUE G': [41.709293,-87.5315843],\n",
    " '43XX N ASHLAND': [41.882612,-87.667027]}"
   ]
  },
  {
   "cell_type": "code",
   "execution_count": 60,
   "id": "da8971f1",
   "metadata": {
    "scrolled": true
   },
   "outputs": [
    {
     "data": {
      "text/plain": [
       "False    15571\n",
       "True      2266\n",
       "Name: Lat, dtype: int64"
      ]
     },
     "execution_count": 60,
     "metadata": {},
     "output_type": "execute_result"
    }
   ],
   "source": [
    "df['Lat'].isna().value_counts() #To check that how many null values there are in lat column. True if null"
   ]
  },
  {
   "cell_type": "code",
   "execution_count": null,
   "id": "a20ab31e",
   "metadata": {},
   "outputs": [],
   "source": [
    "df.loc[df['Address Block'] == '100XX W OHARE AIRPORT'['Lat','Lon']] =[41.978611,-87.904724] #another way "
   ]
  },
  {
   "cell_type": "code",
   "execution_count": 61,
   "id": "dec1964c",
   "metadata": {},
   "outputs": [],
   "source": [
    "isna = df[df['Lat'].isna()]"
   ]
  },
  {
   "cell_type": "code",
   "execution_count": 62,
   "id": "92089e75",
   "metadata": {
    "scrolled": true
   },
   "outputs": [
    {
     "data": {
      "text/html": [
       "<div>\n",
       "<style scoped>\n",
       "    .dataframe tbody tr th:only-of-type {\n",
       "        vertical-align: middle;\n",
       "    }\n",
       "\n",
       "    .dataframe tbody tr th {\n",
       "        vertical-align: top;\n",
       "    }\n",
       "\n",
       "    .dataframe thead th {\n",
       "        text-align: right;\n",
       "    }\n",
       "</style>\n",
       "<table border=\"1\" class=\"dataframe\">\n",
       "  <thead>\n",
       "    <tr style=\"text-align: right;\">\n",
       "      <th></th>\n",
       "      <th>Year</th>\n",
       "      <th>Address Block</th>\n",
       "      <th>Trap</th>\n",
       "      <th>Trap type</th>\n",
       "      <th>Date</th>\n",
       "      <th>Mosquito number</th>\n",
       "      <th>WNV Present</th>\n",
       "      <th>Species</th>\n",
       "      <th>Lat</th>\n",
       "      <th>Lon</th>\n",
       "    </tr>\n",
       "  </thead>\n",
       "  <tbody>\n",
       "    <tr>\n",
       "      <th>0</th>\n",
       "      <td>2019</td>\n",
       "      <td>100XX W OHARE AIRPORT</td>\n",
       "      <td>T910</td>\n",
       "      <td>GRAVID</td>\n",
       "      <td>2019-09-26 00:09:00</td>\n",
       "      <td>2</td>\n",
       "      <td>negative</td>\n",
       "      <td>CULEX RESTUANS</td>\n",
       "      <td>NaN</td>\n",
       "      <td>NaN</td>\n",
       "    </tr>\n",
       "    <tr>\n",
       "      <th>44</th>\n",
       "      <td>2019</td>\n",
       "      <td>100XX W OHARE AIRPORT</td>\n",
       "      <td>T910</td>\n",
       "      <td>GRAVID</td>\n",
       "      <td>2019-09-19 00:09:00</td>\n",
       "      <td>3</td>\n",
       "      <td>negative</td>\n",
       "      <td>CULEX RESTUANS</td>\n",
       "      <td>NaN</td>\n",
       "      <td>NaN</td>\n",
       "    </tr>\n",
       "    <tr>\n",
       "      <th>55</th>\n",
       "      <td>2019</td>\n",
       "      <td>100XX W OHARE AIRPORT</td>\n",
       "      <td>T905</td>\n",
       "      <td>GRAVID</td>\n",
       "      <td>2019-09-19 00:09:00</td>\n",
       "      <td>2</td>\n",
       "      <td>negative</td>\n",
       "      <td>CULEX TERRITANS</td>\n",
       "      <td>NaN</td>\n",
       "      <td>NaN</td>\n",
       "    </tr>\n",
       "    <tr>\n",
       "      <th>57</th>\n",
       "      <td>2019</td>\n",
       "      <td>100XX W OHARE AIRPORT</td>\n",
       "      <td>T905</td>\n",
       "      <td>GRAVID</td>\n",
       "      <td>2019-09-19 00:09:00</td>\n",
       "      <td>4</td>\n",
       "      <td>negative</td>\n",
       "      <td>CULEX RESTUANS</td>\n",
       "      <td>NaN</td>\n",
       "      <td>NaN</td>\n",
       "    </tr>\n",
       "    <tr>\n",
       "      <th>93</th>\n",
       "      <td>2019</td>\n",
       "      <td>100XX W OHARE AIRPORT</td>\n",
       "      <td>T905</td>\n",
       "      <td>GRAVID</td>\n",
       "      <td>2019-09-12 00:09:00</td>\n",
       "      <td>2</td>\n",
       "      <td>negative</td>\n",
       "      <td>CULEX RESTUANS</td>\n",
       "      <td>NaN</td>\n",
       "      <td>NaN</td>\n",
       "    </tr>\n",
       "    <tr>\n",
       "      <th>...</th>\n",
       "      <td>...</td>\n",
       "      <td>...</td>\n",
       "      <td>...</td>\n",
       "      <td>...</td>\n",
       "      <td>...</td>\n",
       "      <td>...</td>\n",
       "      <td>...</td>\n",
       "      <td>...</td>\n",
       "      <td>...</td>\n",
       "      <td>...</td>\n",
       "    </tr>\n",
       "    <tr>\n",
       "      <th>15430</th>\n",
       "      <td>2007</td>\n",
       "      <td>4XX W 127TH</td>\n",
       "      <td>T135</td>\n",
       "      <td>CDC</td>\n",
       "      <td>2007-06-26 04:06:06</td>\n",
       "      <td>25</td>\n",
       "      <td>negative</td>\n",
       "      <td>CULEX RESTUANS</td>\n",
       "      <td>NaN</td>\n",
       "      <td>NaN</td>\n",
       "    </tr>\n",
       "    <tr>\n",
       "      <th>15439</th>\n",
       "      <td>2007</td>\n",
       "      <td>4XX W 127TH</td>\n",
       "      <td>T135</td>\n",
       "      <td>CDC</td>\n",
       "      <td>2007-06-05 00:06:00</td>\n",
       "      <td>4</td>\n",
       "      <td>negative</td>\n",
       "      <td>CULEX RESTUANS</td>\n",
       "      <td>NaN</td>\n",
       "      <td>NaN</td>\n",
       "    </tr>\n",
       "    <tr>\n",
       "      <th>15441</th>\n",
       "      <td>2007</td>\n",
       "      <td>43XX N ASHLAND</td>\n",
       "      <td>T145</td>\n",
       "      <td>GRAVID</td>\n",
       "      <td>2007-06-05 00:06:00</td>\n",
       "      <td>3</td>\n",
       "      <td>negative</td>\n",
       "      <td>CULEX RESTUANS</td>\n",
       "      <td>NaN</td>\n",
       "      <td>NaN</td>\n",
       "    </tr>\n",
       "    <tr>\n",
       "      <th>15452</th>\n",
       "      <td>2007</td>\n",
       "      <td>65XX N OAK PARK AVE</td>\n",
       "      <td>T143</td>\n",
       "      <td>GRAVID</td>\n",
       "      <td>2007-06-05 00:06:00</td>\n",
       "      <td>9</td>\n",
       "      <td>negative</td>\n",
       "      <td>CULEX RESTUANS</td>\n",
       "      <td>NaN</td>\n",
       "      <td>NaN</td>\n",
       "    </tr>\n",
       "    <tr>\n",
       "      <th>15457</th>\n",
       "      <td>2007</td>\n",
       "      <td>4XX W 127TH</td>\n",
       "      <td>T135</td>\n",
       "      <td>CDC</td>\n",
       "      <td>2007-06-05 00:06:00</td>\n",
       "      <td>1</td>\n",
       "      <td>negative</td>\n",
       "      <td>CULEX PIPIENS</td>\n",
       "      <td>NaN</td>\n",
       "      <td>NaN</td>\n",
       "    </tr>\n",
       "  </tbody>\n",
       "</table>\n",
       "<p>2266 rows × 10 columns</p>\n",
       "</div>"
      ],
      "text/plain": [
       "       Year          Address Block  Trap Trap type                Date  \\\n",
       "0      2019  100XX W OHARE AIRPORT  T910    GRAVID 2019-09-26 00:09:00   \n",
       "44     2019  100XX W OHARE AIRPORT  T910    GRAVID 2019-09-19 00:09:00   \n",
       "55     2019  100XX W OHARE AIRPORT  T905    GRAVID 2019-09-19 00:09:00   \n",
       "57     2019  100XX W OHARE AIRPORT  T905    GRAVID 2019-09-19 00:09:00   \n",
       "93     2019  100XX W OHARE AIRPORT  T905    GRAVID 2019-09-12 00:09:00   \n",
       "...     ...                    ...   ...       ...                 ...   \n",
       "15430  2007            4XX W 127TH  T135       CDC 2007-06-26 04:06:06   \n",
       "15439  2007            4XX W 127TH  T135       CDC 2007-06-05 00:06:00   \n",
       "15441  2007         43XX N ASHLAND  T145    GRAVID 2007-06-05 00:06:00   \n",
       "15452  2007    65XX N OAK PARK AVE  T143    GRAVID 2007-06-05 00:06:00   \n",
       "15457  2007            4XX W 127TH  T135       CDC 2007-06-05 00:06:00   \n",
       "\n",
       "       Mosquito number WNV Present          Species  Lat  Lon  \n",
       "0                    2    negative   CULEX RESTUANS  NaN  NaN  \n",
       "44                   3    negative   CULEX RESTUANS  NaN  NaN  \n",
       "55                   2    negative  CULEX TERRITANS  NaN  NaN  \n",
       "57                   4    negative   CULEX RESTUANS  NaN  NaN  \n",
       "93                   2    negative   CULEX RESTUANS  NaN  NaN  \n",
       "...                ...         ...              ...  ...  ...  \n",
       "15430               25    negative   CULEX RESTUANS  NaN  NaN  \n",
       "15439                4    negative   CULEX RESTUANS  NaN  NaN  \n",
       "15441                3    negative   CULEX RESTUANS  NaN  NaN  \n",
       "15452                9    negative   CULEX RESTUANS  NaN  NaN  \n",
       "15457                1    negative    CULEX PIPIENS  NaN  NaN  \n",
       "\n",
       "[2266 rows x 10 columns]"
      ]
     },
     "execution_count": 62,
     "metadata": {},
     "output_type": "execute_result"
    }
   ],
   "source": [
    "isna"
   ]
  },
  {
   "cell_type": "markdown",
   "id": "e6430059",
   "metadata": {},
   "source": [
    "I assigned a isna the output dataframe of when a lat column has a null value. I wanted to understand the data, if there was any correlation between the null values and another data in the rows. From this I could not see that there was anything related to the null value. "
   ]
  },
  {
   "cell_type": "code",
   "execution_count": 63,
   "id": "8ade7cb1",
   "metadata": {
    "scrolled": true
   },
   "outputs": [
    {
     "data": {
      "text/html": [
       "<div>\n",
       "<style scoped>\n",
       "    .dataframe tbody tr th:only-of-type {\n",
       "        vertical-align: middle;\n",
       "    }\n",
       "\n",
       "    .dataframe tbody tr th {\n",
       "        vertical-align: top;\n",
       "    }\n",
       "\n",
       "    .dataframe thead th {\n",
       "        text-align: right;\n",
       "    }\n",
       "</style>\n",
       "<table border=\"1\" class=\"dataframe\">\n",
       "  <thead>\n",
       "    <tr style=\"text-align: right;\">\n",
       "      <th></th>\n",
       "      <th>Year</th>\n",
       "      <th>Address Block</th>\n",
       "      <th>Trap</th>\n",
       "      <th>Trap type</th>\n",
       "      <th>Date</th>\n",
       "      <th>Mosquito number</th>\n",
       "      <th>WNV Present</th>\n",
       "      <th>Species</th>\n",
       "      <th>Lat</th>\n",
       "      <th>Lon</th>\n",
       "    </tr>\n",
       "  </thead>\n",
       "  <tbody>\n",
       "    <tr>\n",
       "      <th>0</th>\n",
       "      <td>2019</td>\n",
       "      <td>100XX W OHARE AIRPORT</td>\n",
       "      <td>T910</td>\n",
       "      <td>GRAVID</td>\n",
       "      <td>2019-09-26 00:09:00</td>\n",
       "      <td>2</td>\n",
       "      <td>negative</td>\n",
       "      <td>CULEX RESTUANS</td>\n",
       "      <td>41.978611</td>\n",
       "      <td>-87.904724</td>\n",
       "    </tr>\n",
       "    <tr>\n",
       "      <th>1</th>\n",
       "      <td>2019</td>\n",
       "      <td>52XX S KOLMAR AVE</td>\n",
       "      <td>T114</td>\n",
       "      <td>GRAVID</td>\n",
       "      <td>2019-09-26 00:09:00</td>\n",
       "      <td>1</td>\n",
       "      <td>negative</td>\n",
       "      <td>CULEX RESTUANS</td>\n",
       "      <td>41.798211</td>\n",
       "      <td>-87.736925</td>\n",
       "    </tr>\n",
       "    <tr>\n",
       "      <th>2</th>\n",
       "      <td>2019</td>\n",
       "      <td>58XX N WESTERN AVE</td>\n",
       "      <td>T028</td>\n",
       "      <td>GRAVID</td>\n",
       "      <td>2019-09-26 00:09:00</td>\n",
       "      <td>2</td>\n",
       "      <td>negative</td>\n",
       "      <td>CULEX RESTUANS</td>\n",
       "      <td>41.987245</td>\n",
       "      <td>-87.689417</td>\n",
       "    </tr>\n",
       "    <tr>\n",
       "      <th>3</th>\n",
       "      <td>2019</td>\n",
       "      <td>39XX N SPRINGFIELD AVE</td>\n",
       "      <td>T228</td>\n",
       "      <td>GRAVID</td>\n",
       "      <td>2019-09-26 00:09:00</td>\n",
       "      <td>1</td>\n",
       "      <td>negative</td>\n",
       "      <td>CULEX RESTUANS</td>\n",
       "      <td>41.953664</td>\n",
       "      <td>-87.724987</td>\n",
       "    </tr>\n",
       "    <tr>\n",
       "      <th>4</th>\n",
       "      <td>2019</td>\n",
       "      <td>131XX S BRANDON AVE</td>\n",
       "      <td>T209</td>\n",
       "      <td>GRAVID</td>\n",
       "      <td>2019-09-26 00:09:00</td>\n",
       "      <td>9</td>\n",
       "      <td>negative</td>\n",
       "      <td>CULEX RESTUANS</td>\n",
       "      <td>41.657069</td>\n",
       "      <td>-87.546049</td>\n",
       "    </tr>\n",
       "    <tr>\n",
       "      <th>...</th>\n",
       "      <td>...</td>\n",
       "      <td>...</td>\n",
       "      <td>...</td>\n",
       "      <td>...</td>\n",
       "      <td>...</td>\n",
       "      <td>...</td>\n",
       "      <td>...</td>\n",
       "      <td>...</td>\n",
       "      <td>...</td>\n",
       "      <td>...</td>\n",
       "    </tr>\n",
       "    <tr>\n",
       "      <th>18489</th>\n",
       "      <td>2013</td>\n",
       "      <td>63XX W 64TH ST</td>\n",
       "      <td>T155</td>\n",
       "      <td>GRAVID</td>\n",
       "      <td>2013-08-29 00:08:00</td>\n",
       "      <td>3</td>\n",
       "      <td>positive</td>\n",
       "      <td>CULEX PIPIENS</td>\n",
       "      <td>41.776009</td>\n",
       "      <td>-87.779408</td>\n",
       "    </tr>\n",
       "    <tr>\n",
       "      <th>18490</th>\n",
       "      <td>2016</td>\n",
       "      <td>3XX W 18TH ST</td>\n",
       "      <td>T043</td>\n",
       "      <td>GRAVID</td>\n",
       "      <td>2016-09-09 00:09:00</td>\n",
       "      <td>4</td>\n",
       "      <td>positive</td>\n",
       "      <td>CULEX PIPIENS</td>\n",
       "      <td>41.857843</td>\n",
       "      <td>-87.635858</td>\n",
       "    </tr>\n",
       "    <tr>\n",
       "      <th>18491</th>\n",
       "      <td>2007</td>\n",
       "      <td>46XX N MILWAUKEE AVE</td>\n",
       "      <td>T003</td>\n",
       "      <td>GRAVID</td>\n",
       "      <td>2007-08-24 00:08:00</td>\n",
       "      <td>19</td>\n",
       "      <td>positive</td>\n",
       "      <td>CULEX PIPIENS</td>\n",
       "      <td>41.965376</td>\n",
       "      <td>-87.758403</td>\n",
       "    </tr>\n",
       "    <tr>\n",
       "      <th>18492</th>\n",
       "      <td>2016</td>\n",
       "      <td>127XX S DOTY AVE</td>\n",
       "      <td>T115</td>\n",
       "      <td>GRAVID</td>\n",
       "      <td>2016-07-27 00:07:00</td>\n",
       "      <td>34</td>\n",
       "      <td>positive</td>\n",
       "      <td>CULEX RESTUANS</td>\n",
       "      <td>41.662395</td>\n",
       "      <td>-87.590176</td>\n",
       "    </tr>\n",
       "    <tr>\n",
       "      <th>18493</th>\n",
       "      <td>2017</td>\n",
       "      <td>20XX N DOMINICK ST</td>\n",
       "      <td>T240B</td>\n",
       "      <td>SENTINEL</td>\n",
       "      <td>2017-08-17 00:08:00</td>\n",
       "      <td>50</td>\n",
       "      <td>positive</td>\n",
       "      <td>CULEX RESTUANS</td>\n",
       "      <td>41.919197</td>\n",
       "      <td>-87.664758</td>\n",
       "    </tr>\n",
       "  </tbody>\n",
       "</table>\n",
       "<p>17837 rows × 10 columns</p>\n",
       "</div>"
      ],
      "text/plain": [
       "       Year           Address Block   Trap Trap type                Date  \\\n",
       "0      2019   100XX W OHARE AIRPORT   T910    GRAVID 2019-09-26 00:09:00   \n",
       "1      2019       52XX S KOLMAR AVE   T114    GRAVID 2019-09-26 00:09:00   \n",
       "2      2019      58XX N WESTERN AVE   T028    GRAVID 2019-09-26 00:09:00   \n",
       "3      2019  39XX N SPRINGFIELD AVE   T228    GRAVID 2019-09-26 00:09:00   \n",
       "4      2019     131XX S BRANDON AVE   T209    GRAVID 2019-09-26 00:09:00   \n",
       "...     ...                     ...    ...       ...                 ...   \n",
       "18489  2013          63XX W 64TH ST   T155    GRAVID 2013-08-29 00:08:00   \n",
       "18490  2016           3XX W 18TH ST   T043    GRAVID 2016-09-09 00:09:00   \n",
       "18491  2007    46XX N MILWAUKEE AVE   T003    GRAVID 2007-08-24 00:08:00   \n",
       "18492  2016        127XX S DOTY AVE   T115    GRAVID 2016-07-27 00:07:00   \n",
       "18493  2017      20XX N DOMINICK ST  T240B  SENTINEL 2017-08-17 00:08:00   \n",
       "\n",
       "       Mosquito number WNV Present         Species        Lat        Lon  \n",
       "0                    2    negative  CULEX RESTUANS  41.978611 -87.904724  \n",
       "1                    1    negative  CULEX RESTUANS  41.798211 -87.736925  \n",
       "2                    2    negative  CULEX RESTUANS  41.987245 -87.689417  \n",
       "3                    1    negative  CULEX RESTUANS  41.953664 -87.724987  \n",
       "4                    9    negative  CULEX RESTUANS  41.657069 -87.546049  \n",
       "...                ...         ...             ...        ...        ...  \n",
       "18489                3    positive   CULEX PIPIENS  41.776009 -87.779408  \n",
       "18490                4    positive   CULEX PIPIENS  41.857843 -87.635858  \n",
       "18491               19    positive   CULEX PIPIENS  41.965376 -87.758403  \n",
       "18492               34    positive  CULEX RESTUANS  41.662395 -87.590176  \n",
       "18493               50    positive  CULEX RESTUANS  41.919197 -87.664758  \n",
       "\n",
       "[17837 rows x 10 columns]"
      ]
     },
     "execution_count": 63,
     "metadata": {},
     "output_type": "execute_result"
    }
   ],
   "source": [
    "for address in address_dictionary.keys():\n",
    "    df.loc[df[\"Address Block\"] == address, 'Lat'] = address_dictionary[address][0]\n",
    "           \n",
    "for address in address_dictionary.keys():\n",
    "    df.loc[df[\"Address Block\"] == address, 'Lon'] = address_dictionary[address][1]\n",
    "    \n",
    "df"
   ]
  },
  {
   "cell_type": "markdown",
   "id": "c8288058",
   "metadata": {},
   "source": [
    "My method was to loop through the keys address dictionary I created with all the addresses that had null values. If the address in the dataframe matched the address in the address_dictionary it imputed the the lat and lon values. Although this meant that it imputed values which may not have had null values for that specific address, this seemed like the easiest option. I then did a sanity check below to ensure that there were no more null values in the dataframe. "
   ]
  },
  {
   "cell_type": "code",
   "execution_count": 64,
   "id": "793a7986",
   "metadata": {},
   "outputs": [
    {
     "data": {
      "text/plain": [
       "Year               0\n",
       "Address Block      0\n",
       "Trap               0\n",
       "Trap type          0\n",
       "Date               0\n",
       "Mosquito number    0\n",
       "WNV Present        0\n",
       "Species            0\n",
       "Lat                0\n",
       "Lon                0\n",
       "dtype: int64"
      ]
     },
     "execution_count": 64,
     "metadata": {},
     "output_type": "execute_result"
    }
   ],
   "source": [
    "#SANITY CHECK\n",
    "\n",
    "df.isna().sum()"
   ]
  },
  {
   "cell_type": "markdown",
   "id": "8545c849",
   "metadata": {},
   "source": [
    "## Insights and Analysis"
   ]
  },
  {
   "cell_type": "markdown",
   "id": "b9718320",
   "metadata": {},
   "source": [
    "To demonstrate the relationship between mosquito number and the date I used certain viusals. "
   ]
  },
  {
   "cell_type": "markdown",
   "id": "bb901fd8",
   "metadata": {},
   "source": [
    "I initially got rid of the year and month column as I thought they were redundant data, but then I needed those values to plot the data which I extracted with the pandas.Series.dt.year and month code. So I went through the notebook again and took out those commands and used the year and month columns to plot the data in bar charts which help to demonstrate the relationships much more clearly than above. I was able to use the groupby function to group by the month and year, which categorised the data meaning that bar charts were the obvious choice for presenting the data. "
   ]
  },
  {
   "cell_type": "code",
   "execution_count": 65,
   "id": "ab8eb5fe",
   "metadata": {},
   "outputs": [
    {
     "data": {
      "text/plain": [
       "Year\n",
       "2007    24156\n",
       "2008     3882\n",
       "2009     5462\n",
       "2010     7363\n",
       "2011     7256\n",
       "2012    10703\n",
       "2013    22855\n",
       "2014    29767\n",
       "2015    10332\n",
       "2016    32454\n",
       "2017     9104\n",
       "2018    13364\n",
       "2019     9856\n",
       "Name: Mosquito number, dtype: int64"
      ]
     },
     "execution_count": 65,
     "metadata": {},
     "output_type": "execute_result"
    }
   ],
   "source": [
    "df.groupby([\"Year\"])[\"Mosquito number\"].sum()"
   ]
  },
  {
   "cell_type": "code",
   "execution_count": 66,
   "id": "e327c9ea",
   "metadata": {},
   "outputs": [
    {
     "data": {
      "text/plain": [
       "<AxesSubplot:xlabel='Year'>"
      ]
     },
     "execution_count": 66,
     "metadata": {},
     "output_type": "execute_result"
    },
    {
     "data": {
      "image/png": "[encoded data removed]",
      "text/plain": [
       "<Figure size 432x288 with 1 Axes>"
      ]
     },
     "metadata": {
      "needs_background": "light"
     },
     "output_type": "display_data"
    }
   ],
   "source": [
    "df.groupby([\"Year\"])[\"Mosquito number\"].sum().plot(kind = 'bar')"
   ]
  },
  {
   "cell_type": "code",
   "execution_count": 67,
   "id": "451cedfb",
   "metadata": {},
   "outputs": [
    {
     "name": "stdout",
     "output_type": "stream",
     "text": [
      "0.11906957370528921\n"
     ]
    }
   ],
   "source": [
    "corr = df['Year'].corr(df['Mosquito number'])\n",
    "print(corr)"
   ]
  },
  {
   "cell_type": "code",
   "execution_count": 68,
   "id": "5d8aec52",
   "metadata": {},
   "outputs": [
    {
     "data": {
      "text/plain": [
       "<AxesSubplot:xlabel='Month'>"
      ]
     },
     "execution_count": 68,
     "metadata": {},
     "output_type": "execute_result"
    },
    {
     "data": {
      "image/png": "[encoded data removed]",
      "text/plain": [
       "<Figure size 432x288 with 1 Axes>"
      ]
     },
     "metadata": {
      "needs_background": "light"
     },
     "output_type": "display_data"
    }
   ],
   "source": [
    "df['Month'] = df['Date'].dt.month\n",
    "df.groupby([\"Month\"])[\"Mosquito number\"].sum().plot(kind = \"bar\")"
   ]
  },
  {
   "cell_type": "code",
   "execution_count": 69,
   "id": "0af805f1",
   "metadata": {},
   "outputs": [
    {
     "name": "stdout",
     "output_type": "stream",
     "text": [
      "-0.04094150320273147\n"
     ]
    }
   ],
   "source": [
    "corr1 = df['Month'].corr(df['Mosquito number'])\n",
    "print(corr1)"
   ]
  },
  {
   "cell_type": "markdown",
   "id": "997cae54",
   "metadata": {},
   "source": [
    "From the plots it is clear to see that there was a massive drop between 2007 and 2008. Environmental variables such as temperature, relative humidity and precipitation are known to impact mosquito activity, survival and distribution. From my research this was due to lower average temperatures which meant there were less mosquitos about. With 2016 being a hotter year compared to subsequent years, this explained the rise in numberes. However, there is a correlation between higher temperatures and the prevalence of mosquitos as demonstrated in the second bar chart describing months. In August there were a large number of mosquitos caught in the trap which follows trends, below 10 degrees celsius mosquitos are no longer present which supports the data for October where the number which were caught was below 10000. Furthermore, mosquitoes are most active between dusk and dawn. The days are longest during August which helps to describe why there were so many mosquitos caught in this month."
   ]
  },
  {
   "cell_type": "markdown",
   "id": "5beca76d",
   "metadata": {},
   "source": [
    "Given that the mosquito species was categorical data, the best method of plotting this data was with the use of a bar chart again. With each category having two bars dependent on whether the mosquito had WNV present in it or not. With the help of a group by I was able to group by species and the use of unstack command to split up the data for each species with positive or negative. "
   ]
  },
  {
   "cell_type": "code",
   "execution_count": null,
   "id": "5a5f26ce",
   "metadata": {},
   "outputs": [],
   "source": [
    "df['WNV Present digit '] = df[WNV Prsent].replace({positive:1,negative : 0}) #ANOTHER WAY "
   ]
  },
  {
   "cell_type": "code",
   "execution_count": 70,
   "id": "76ef1132",
   "metadata": {},
   "outputs": [
    {
     "data": {
      "text/plain": [
       "Species           WNV Present\n",
       "CULEX PIPIENS     negative       4074\n",
       "                  positive       1237\n",
       "CULEX RESTUANS    negative       9309\n",
       "                  positive       2078\n",
       "CULEX SALINARIUS  negative        215\n",
       "                  positive          7\n",
       "CULEX TERRITANS   negative        903\n",
       "                  positive         14\n",
       "Name: WNV Present, dtype: int64"
      ]
     },
     "execution_count": 70,
     "metadata": {},
     "output_type": "execute_result"
    }
   ],
   "source": [
    "df.groupby([\"Species\"])[\"WNV Present\"].value_counts()"
   ]
  },
  {
   "cell_type": "code",
   "execution_count": 71,
   "id": "9fd03126",
   "metadata": {},
   "outputs": [],
   "source": [
    "WNV_present = df.groupby([\"Species\"])[\"WNV Present\"].value_counts().unstack()"
   ]
  },
  {
   "cell_type": "code",
   "execution_count": 72,
   "id": "f29c147d",
   "metadata": {},
   "outputs": [
    {
     "data": {
      "text/plain": [
       "<AxesSubplot:xlabel='Species'>"
      ]
     },
     "execution_count": 72,
     "metadata": {},
     "output_type": "execute_result"
    },
    {
     "data": {
      "image/png": "[encoded data removed]",
      "text/plain": [
       "<Figure size 576x576 with 1 Axes>"
      ]
     },
     "metadata": {
      "needs_background": "light"
     },
     "output_type": "display_data"
    }
   ],
   "source": [
    "df.groupby([\"Species\"])[\"WNV Present\"].value_counts().unstack().plot(kind='bar', colormap = 'Paired', figsize = (8,8))"
   ]
  },
  {
   "cell_type": "code",
   "execution_count": 73,
   "id": "4983668e",
   "metadata": {},
   "outputs": [],
   "source": [
    "WNV_present['Percentage'] = round((WNV_present['positive']/WNV_present['negative'])*100,2)"
   ]
  },
  {
   "cell_type": "code",
   "execution_count": 74,
   "id": "3596af5f",
   "metadata": {},
   "outputs": [
    {
     "data": {
      "text/html": [
       "<div>\n",
       "<style scoped>\n",
       "    .dataframe tbody tr th:only-of-type {\n",
       "        vertical-align: middle;\n",
       "    }\n",
       "\n",
       "    .dataframe tbody tr th {\n",
       "        vertical-align: top;\n",
       "    }\n",
       "\n",
       "    .dataframe thead th {\n",
       "        text-align: right;\n",
       "    }\n",
       "</style>\n",
       "<table border=\"1\" class=\"dataframe\">\n",
       "  <thead>\n",
       "    <tr style=\"text-align: right;\">\n",
       "      <th>WNV Present</th>\n",
       "      <th>negative</th>\n",
       "      <th>positive</th>\n",
       "      <th>Percentage</th>\n",
       "    </tr>\n",
       "    <tr>\n",
       "      <th>Species</th>\n",
       "      <th></th>\n",
       "      <th></th>\n",
       "      <th></th>\n",
       "    </tr>\n",
       "  </thead>\n",
       "  <tbody>\n",
       "    <tr>\n",
       "      <th>CULEX PIPIENS</th>\n",
       "      <td>4074</td>\n",
       "      <td>1237</td>\n",
       "      <td>30.36</td>\n",
       "    </tr>\n",
       "    <tr>\n",
       "      <th>CULEX RESTUANS</th>\n",
       "      <td>9309</td>\n",
       "      <td>2078</td>\n",
       "      <td>22.32</td>\n",
       "    </tr>\n",
       "    <tr>\n",
       "      <th>CULEX SALINARIUS</th>\n",
       "      <td>215</td>\n",
       "      <td>7</td>\n",
       "      <td>3.26</td>\n",
       "    </tr>\n",
       "    <tr>\n",
       "      <th>CULEX TERRITANS</th>\n",
       "      <td>903</td>\n",
       "      <td>14</td>\n",
       "      <td>1.55</td>\n",
       "    </tr>\n",
       "  </tbody>\n",
       "</table>\n",
       "</div>"
      ],
      "text/plain": [
       "WNV Present       negative  positive  Percentage\n",
       "Species                                         \n",
       "CULEX PIPIENS         4074      1237       30.36\n",
       "CULEX RESTUANS        9309      2078       22.32\n",
       "CULEX SALINARIUS       215         7        3.26\n",
       "CULEX TERRITANS        903        14        1.55"
      ]
     },
     "execution_count": 74,
     "metadata": {},
     "output_type": "execute_result"
    }
   ],
   "source": [
    "WNV_present"
   ]
  },
  {
   "cell_type": "markdown",
   "id": "ee97cba8",
   "metadata": {},
   "source": [
    "I used colormap = 'Paired' to switch the colours around and present a different plot to previous ones. From the visualisation it is clear to see that both CULEX PIPENS and CULEX RESTUANS were the two sub-species which had a high prevalence of WNV. 34.66% of PIPENS and 27.47% of RESTUANS were positive with WNV. From external research it is thought that PIPENS and RESTUANS are more resilient to weather conditions and have adapted to bite mammals this may be due to a host of reasons from weather conditions to geographical position."
   ]
  },
  {
   "cell_type": "markdown",
   "id": "5aa22dbe",
   "metadata": {},
   "source": [
    "The following visual explores the relationship between the number of mosquitos caught and trap type."
   ]
  },
  {
   "cell_type": "code",
   "execution_count": 75,
   "id": "94703e2c",
   "metadata": {},
   "outputs": [
    {
     "data": {
      "text/plain": [
       "GRAVID      17098\n",
       "CDC           529\n",
       "SENTINEL      209\n",
       "OVI             1\n",
       "Name: Trap type, dtype: int64"
      ]
     },
     "execution_count": 75,
     "metadata": {},
     "output_type": "execute_result"
    }
   ],
   "source": [
    "df['Trap type'].value_counts()"
   ]
  },
  {
   "cell_type": "code",
   "execution_count": 76,
   "id": "f0d45b52",
   "metadata": {},
   "outputs": [
    {
     "data": {
      "text/plain": [
       "186554"
      ]
     },
     "execution_count": 76,
     "metadata": {},
     "output_type": "execute_result"
    }
   ],
   "source": [
    "df['Mosquito number'].sum()"
   ]
  },
  {
   "cell_type": "code",
   "execution_count": 91,
   "id": "5668fa04",
   "metadata": {},
   "outputs": [],
   "source": [
    "data = df.groupby('Trap type').sum()['Mosquito number']"
   ]
  },
  {
   "cell_type": "code",
   "execution_count": 78,
   "id": "35e391f5",
   "metadata": {},
   "outputs": [
    {
     "data": {
      "text/plain": [
       "GRAVID      17098\n",
       "CDC           529\n",
       "SENTINEL      209\n",
       "OVI             1\n",
       "Name: Trap type, dtype: int64"
      ]
     },
     "execution_count": 78,
     "metadata": {},
     "output_type": "execute_result"
    }
   ],
   "source": [
    "df['Trap type'].value_counts()"
   ]
  },
  {
   "cell_type": "code",
   "execution_count": 89,
   "id": "b33106dc",
   "metadata": {},
   "outputs": [
    {
     "data": {
      "image/png": "[encoded data removed]",
      "text/plain": [
       "<Figure size 648x648 with 1 Axes>"
      ]
     },
     "metadata": {},
     "output_type": "display_data"
    }
   ],
   "source": [
    "data.plot(kind='pie', figsize = (9,9), autopct = '%.0f%%')\n",
    "plt.title('Mosquito distribution per trap type')\n",
    "pylab.ylabel('')\n",
    "plt.show()"
   ]
  },
  {
   "cell_type": "markdown",
   "id": "61e57917",
   "metadata": {},
   "source": [
    "From the data visualisation above, it is clear to see that GRAVID traps are the most robust. With the largest portion of the pie chart followed by CDC, SENTINEL and then OVI. There was a y label on the pie chart which was overlapping the GRAVID label. To overcome this problem, I had to import the pylab library which and then set the ylabel to nothing to remove the axis label. This helped the visualisation to be much clearer. \n",
    "\n",
    "From external research, the best way to reduce the number of mosquitos is to eliminate all sources of standing water that can support mosquito breeding, including water in bird baths, ponds, flowerpots, wading pools, old tires and any other receptacles. In communities where there are organized mosquito control programs, contact your municipal government to report areas of stagnant water in roadside ditches, flooded yards and similar locations that may produce mosquitoes. Furthermore, the Gravid Mosquito trap is a plastic washbasin, filled with a liquid attractant fondly called \"Mosquito Soup\". This takes advantage of the fact that mosquitos are attracted to stagnant water and it is demonstrated by the numbers. The CDC trap uses light to atrract the mosquitos and captures them. Meanwhile, the sentinel trap uses an electric fan to to suck in the mosquitos into a pipe to capture them. Finally, OVI also adopts the use of liquid to attract mosquitos but it only attracts female mosquitos in an attempt to stop breeding. From the data it is clear to see that it doesn't do a very good a method of attracting mosquitos. With the data at hand, Gravid is the best method for attracting mosquitos and capturing them."
   ]
  },
  {
   "cell_type": "markdown",
   "id": "19358eeb",
   "metadata": {},
   "source": [
    "USE BOX PLOT INSTEAD OF PIE CHART"
   ]
  },
  {
   "cell_type": "code",
   "execution_count": 80,
   "id": "2fe7d3fd",
   "metadata": {},
   "outputs": [
    {
     "data": {
      "text/plain": [
       "Trap\n",
       "T002     9285\n",
       "T008     6618\n",
       "T138     5787\n",
       "T115     4822\n",
       "T114     4634\n",
       "         ... \n",
       "T241        2\n",
       "T078        2\n",
       "T128A       2\n",
       "T167        1\n",
       "T040        1\n",
       "Name: Mosquito number, Length: 190, dtype: int64"
      ]
     },
     "execution_count": 80,
     "metadata": {},
     "output_type": "execute_result"
    }
   ],
   "source": [
    "df.groupby('Trap').sum()['Mosquito number'].sort_values(ascending = False)"
   ]
  },
  {
   "cell_type": "code",
   "execution_count": 81,
   "id": "b8713340",
   "metadata": {},
   "outputs": [
    {
     "data": {
      "text/html": [
       "<div>\n",
       "<style scoped>\n",
       "    .dataframe tbody tr th:only-of-type {\n",
       "        vertical-align: middle;\n",
       "    }\n",
       "\n",
       "    .dataframe tbody tr th {\n",
       "        vertical-align: top;\n",
       "    }\n",
       "\n",
       "    .dataframe thead th {\n",
       "        text-align: right;\n",
       "    }\n",
       "</style>\n",
       "<table border=\"1\" class=\"dataframe\">\n",
       "  <thead>\n",
       "    <tr style=\"text-align: right;\">\n",
       "      <th></th>\n",
       "      <th></th>\n",
       "      <th>Year</th>\n",
       "      <th>Lat</th>\n",
       "      <th>Lon</th>\n",
       "      <th>Month</th>\n",
       "    </tr>\n",
       "    <tr>\n",
       "      <th>Mosquito number</th>\n",
       "      <th>Trap</th>\n",
       "      <th></th>\n",
       "      <th></th>\n",
       "      <th></th>\n",
       "      <th></th>\n",
       "    </tr>\n",
       "  </thead>\n",
       "  <tbody>\n",
       "    <tr>\n",
       "      <th rowspan=\"5\" valign=\"top\">1</th>\n",
       "      <th>220A</th>\n",
       "      <td>2008</td>\n",
       "      <td>41.987054</td>\n",
       "      <td>-87.728398</td>\n",
       "      <td>9</td>\n",
       "    </tr>\n",
       "    <tr>\n",
       "      <th>T001</th>\n",
       "      <td>12042</td>\n",
       "      <td>251.725695</td>\n",
       "      <td>-526.403057</td>\n",
       "      <td>51</td>\n",
       "    </tr>\n",
       "    <tr>\n",
       "      <th>T002</th>\n",
       "      <td>86498</td>\n",
       "      <td>1804.120851</td>\n",
       "      <td>-3775.293250</td>\n",
       "      <td>330</td>\n",
       "    </tr>\n",
       "    <tr>\n",
       "      <th>T002A</th>\n",
       "      <td>4020</td>\n",
       "      <td>83.930828</td>\n",
       "      <td>-175.564238</td>\n",
       "      <td>16</td>\n",
       "    </tr>\n",
       "    <tr>\n",
       "      <th>T003</th>\n",
       "      <td>90515</td>\n",
       "      <td>1888.441869</td>\n",
       "      <td>-3949.128527</td>\n",
       "      <td>349</td>\n",
       "    </tr>\n",
       "    <tr>\n",
       "      <th>...</th>\n",
       "      <th>...</th>\n",
       "      <td>...</td>\n",
       "      <td>...</td>\n",
       "      <td>...</td>\n",
       "      <td>...</td>\n",
       "    </tr>\n",
       "    <tr>\n",
       "      <th rowspan=\"5\" valign=\"top\">50</th>\n",
       "      <th>T917</th>\n",
       "      <td>2016</td>\n",
       "      <td>41.978611</td>\n",
       "      <td>-87.904724</td>\n",
       "      <td>8</td>\n",
       "    </tr>\n",
       "    <tr>\n",
       "      <th>T918</th>\n",
       "      <td>10057</td>\n",
       "      <td>209.893055</td>\n",
       "      <td>-439.523620</td>\n",
       "      <td>35</td>\n",
       "    </tr>\n",
       "    <tr>\n",
       "      <th>T923</th>\n",
       "      <td>4030</td>\n",
       "      <td>83.957222</td>\n",
       "      <td>-175.809448</td>\n",
       "      <td>16</td>\n",
       "    </tr>\n",
       "    <tr>\n",
       "      <th>T924</th>\n",
       "      <td>2015</td>\n",
       "      <td>41.978611</td>\n",
       "      <td>-87.904724</td>\n",
       "      <td>6</td>\n",
       "    </tr>\n",
       "    <tr>\n",
       "      <th>T925</th>\n",
       "      <td>4030</td>\n",
       "      <td>83.957222</td>\n",
       "      <td>-175.809448</td>\n",
       "      <td>14</td>\n",
       "    </tr>\n",
       "  </tbody>\n",
       "</table>\n",
       "<p>3261 rows × 4 columns</p>\n",
       "</div>"
      ],
      "text/plain": [
       "                        Year          Lat          Lon  Month\n",
       "Mosquito number Trap                                         \n",
       "1               220A    2008    41.987054   -87.728398      9\n",
       "                T001   12042   251.725695  -526.403057     51\n",
       "                T002   86498  1804.120851 -3775.293250    330\n",
       "                T002A   4020    83.930828  -175.564238     16\n",
       "                T003   90515  1888.441869 -3949.128527    349\n",
       "...                      ...          ...          ...    ...\n",
       "50              T917    2016    41.978611   -87.904724      8\n",
       "                T918   10057   209.893055  -439.523620     35\n",
       "                T923    4030    83.957222  -175.809448     16\n",
       "                T924    2015    41.978611   -87.904724      6\n",
       "                T925    4030    83.957222  -175.809448     14\n",
       "\n",
       "[3261 rows x 4 columns]"
      ]
     },
     "execution_count": 81,
     "metadata": {},
     "output_type": "execute_result"
    }
   ],
   "source": [
    "df.groupby(['Mosquito number','Trap']).sum()"
   ]
  },
  {
   "cell_type": "code",
   "execution_count": 82,
   "id": "09f70ca3",
   "metadata": {},
   "outputs": [
    {
     "data": {
      "text/plain": [
       "4    17251\n",
       "5      586\n",
       "Name: Trap, dtype: int64"
      ]
     },
     "execution_count": 82,
     "metadata": {},
     "output_type": "execute_result"
    }
   ],
   "source": [
    "df['Trap'].str.len().value_counts()"
   ]
  },
  {
   "cell_type": "code",
   "execution_count": 83,
   "id": "3f47cc4d",
   "metadata": {},
   "outputs": [],
   "source": [
    "df['Trap'] = df['Trap'].apply(lambda x : x[:4] if len(x) >4 else x)"
   ]
  },
  {
   "cell_type": "code",
   "execution_count": 84,
   "id": "8d1be76b",
   "metadata": {},
   "outputs": [
    {
     "data": {
      "text/plain": [
       "4    17837\n",
       "Name: Trap, dtype: int64"
      ]
     },
     "execution_count": 84,
     "metadata": {},
     "output_type": "execute_result"
    }
   ],
   "source": [
    "df['Trap'].str.len().value_counts()"
   ]
  },
  {
   "cell_type": "code",
   "execution_count": 85,
   "id": "30114d2a",
   "metadata": {},
   "outputs": [
    {
     "data": {
      "text/plain": [
       "False    17837\n",
       "Name: Trap, dtype: int64"
      ]
     },
     "execution_count": 85,
     "metadata": {},
     "output_type": "execute_result"
    }
   ],
   "source": [
    "df['Trap'].str.isalpha().value_counts() #Sanity check to ensure that all the letters have been removed."
   ]
  },
  {
   "cell_type": "code",
   "execution_count": 86,
   "id": "1854761a",
   "metadata": {},
   "outputs": [
    {
     "data": {
      "text/plain": [
       "T002    418\n",
       "T138    369\n",
       "T114    349\n",
       "T054    335\n",
       "T030    335\n",
       "       ... \n",
       "T229      2\n",
       "T078      2\n",
       "T241      1\n",
       "T167      1\n",
       "T040      1\n",
       "Name: Trap, Length: 165, dtype: int64"
      ]
     },
     "execution_count": 86,
     "metadata": {},
     "output_type": "execute_result"
    }
   ],
   "source": [
    "df['Trap'].value_counts()"
   ]
  },
  {
   "cell_type": "code",
   "execution_count": 87,
   "id": "f245ddba",
   "metadata": {
    "scrolled": false
   },
   "outputs": [
    {
     "data": {
      "text/plain": [
       "Trap\n",
       "T912    3041\n",
       "T225    3207\n",
       "T128    3243\n",
       "T066    3269\n",
       "T913    3696\n",
       "T028    4085\n",
       "T151    4289\n",
       "T011    4348\n",
       "T009    4382\n",
       "T030    4671\n",
       "T115    4822\n",
       "T114    4974\n",
       "T008    6618\n",
       "T138    8117\n",
       "T002    9342\n",
       "Name: Mosquito number, dtype: int64"
      ]
     },
     "execution_count": 87,
     "metadata": {},
     "output_type": "execute_result"
    }
   ],
   "source": [
    "df.groupby(\"Trap\")[\"Mosquito number\"].sum().sort_values()[-15:]"
   ]
  },
  {
   "cell_type": "code",
   "execution_count": 88,
   "id": "491915dc",
   "metadata": {},
   "outputs": [
    {
     "data": {
      "text/plain": [
       "Text(0.5, 1.0, 'Yearly distribution of mosquitos caught in trap T002')"
      ]
     },
     "execution_count": 88,
     "metadata": {},
     "output_type": "execute_result"
    },
    {
     "data": {
      "image/png": "[encoded data removed]",
      "text/plain": [
       "<Figure size 432x288 with 1 Axes>"
      ]
     },
     "metadata": {
      "needs_background": "light"
     },
     "output_type": "display_data"
    }
   ],
   "source": [
    "sns.lineplot(data= df[df['Trap'] == 'T002'], x=\"Year\", y=\"Mosquito number\")\n",
    "plt.title('Yearly distribution of mosquitos caught in trap T002')"
   ]
  },
  {
   "cell_type": "markdown",
   "id": "db415de8",
   "metadata": {},
   "source": [
    "Due to the data inputted in the Trap regarding satellite traps, there were certain letters at the end of specific traps. This skewed the results when grouping by Trap. Therefore, I first had to filter through the Trap column to ensure that these were removed. Given that the letter increased the length of the string to 5 this was the method which I reduced them all to 4. I then filtered the data to find the trap with the highest number of mosquitos caught in it and plotted against the year. \n",
    "\n",
    "Trap T002 was the most efficient and upon further analysis of the location of the trap it was identified that it was quite inland. It was not as close to the coast as expected. However, due to the attraction mosquitos have to urban environments with it being humid and warm this explains why so many were caught in this area. Furthermore, the fact that this trap type was GRAVID and from the pie chart earlier demonstrating how successful GRAVID mosquito traps are, this contributed to the high number of mosquitos caught. \n",
    "\n",
    "The visualisation followed the trends of the total number of mosquitos caught reachiing highs in 2014 and 2016 as expected. Although 2016 experienced higher temperatures than 2014 the trap still caught the same amount of mosquitos, demonstrating that in that certain Address block there wasn't a significant change in mosquito numbers even though it was an urban environment. However, this does compund the fact that mosquitos like warm conditions as the rise in the number caught correlates with the high temperatures of 2014 and 2016. "
   ]
  },
  {
   "cell_type": "markdown",
   "id": "09e08761",
   "metadata": {},
   "source": [
    "# Conclusion"
   ]
  },
  {
   "cell_type": "markdown",
   "id": "a210c8d0",
   "metadata": {},
   "source": [
    "To conlude, mosquitoes are more likely to bite when the weather is warm and sunny. This is because they like to breed in warm, humid areas. Mosquitoes are cold-blooded insects. They prefer to live in areas that are around 70-80 degrees fahrenheit. This is demonstrated by the bar chart visualisation the mosquito numbers for each month. Although it has been recorded that July is the hottest month of the year and the temperature is perfect for mosquitos the conditions are not right for mosquitos as they appreciate humidity as well. This is why there were a larger number of mosquitos caught in August as the humidity levels were perfect for mosquitos. Through external research, the pipens sub species of the Culex family is the biggest carrier of WNV, with 34.66% of the mosquitos caught testing positive. It is clear from the pie chart about the trap type that mosquitos are heavily attracted to water. With Chicago being so close to the water this explains the prevalence of WNV in the area, but reducing water ditches and areas of stagnant water will help to reduce the spread of the disease. Furthermore, increasing awareness about the disease in the summer months will help to stop the spread of the disease. Encouraging the use of insect repellent and usage of mosquito nets are necessary procedures to stop the spread.\n",
    "\n",
    "Finally, when analysing the data there multiple indentical rows with the only differing value being the Latitude and Longitude data. Initially I thought this contributed to the duplicate rows values, however, upon further analysis it was determined that traps were set in the same block area as the only differing value was the coordinates. "
   ]
  }
 ],
 "metadata": {
  "kernelspec": {
   "display_name": "Python 3.9.12 ('base')",
   "language": "python",
   "name": "python3"
  },
  "language_info": {
   "codemirror_mode": {
    "name": "ipython",
    "version": 3
   },
   "file_extension": ".py",
   "mimetype": "text/x-python",
   "name": "python",
   "nbconvert_exporter": "python",
   "pygments_lexer": "ipython3",
   "version": "3.9.12"
  },
  "vscode": {
   "interpreter": {
    "hash": "40d3a090f54c6569ab1632332b64b2c03c39dcf918b08424e98f38b5ae0af88f"
   }
  }
 },
 "nbformat": 4,
 "nbformat_minor": 5
}
