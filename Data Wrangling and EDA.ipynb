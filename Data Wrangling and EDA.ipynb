{
 "cells": [
  {
   "cell_type": "markdown",
   "id": "bbb2bd95",
   "metadata": {},
   "source": [
    "# Data Wrangling and EDA"
   ]
  },
  {
   "cell_type": "markdown",
   "id": "2f145919",
   "metadata": {},
   "source": [
    "## Introduction"
   ]
  },
  {
   "cell_type": "markdown",
   "id": "a09756d3",
   "metadata": {},
   "source": [
    "The West Nile Virus (WNV) is a viral illness largely spread by mosquitoes. The disease is transmitted to a person \n",
    "when an infected mosquito bites them.\n",
    "\n",
    "The city of Chicago, Illinois has been keeping track of mosquito populations and WNV prevalence using a series of \n",
    "traps that they place around the city. They are then able to study the captured specimens and monitor the state of \n",
    "WNV spread in the city.\n",
    "\n",
    "In this notebook, data from 2008 to 2019 I'll perform some basic EDA and Data Wrangling to get familiar with the dataset from the city of Chicago. "
   ]
  },
  {
   "cell_type": "markdown",
   "id": "c518ec41",
   "metadata": {},
   "source": [
    "### Data Wrangling"
   ]
  },
  {
   "cell_type": "markdown",
   "id": "623bf56b",
   "metadata": {},
   "source": [
    "First, the data needs to be cleaned/analysed to determine what the state of the data is in. To do this certain libraries need to imported."
   ]
  },
  {
   "cell_type": "markdown",
   "id": "919fc5bc",
   "metadata": {},
   "source": [
    "### Importing Libraries"
   ]
  },
  {
   "cell_type": "code",
   "execution_count": 61,
   "id": "b908535f",
   "metadata": {},
   "outputs": [],
   "source": [
    "import pandas as pd\n",
    "import numpy as np\n",
    "import matplotlib.pyplot as plt\n",
    "import seaborn as sns\n",
    "import pylab\n",
    "import utils\n",
    "\n",
    "%matplotlib inline"
   ]
  },
  {
   "cell_type": "code",
   "execution_count": 62,
   "id": "b1947d1f",
   "metadata": {},
   "outputs": [],
   "source": [
    "#Read the dataset in\n",
    "df = pd.read_csv('Data.csv')"
   ]
  },
  {
   "cell_type": "markdown",
   "id": "dd1b5ad7",
   "metadata": {},
   "source": [
    "I can now conduct some basic data analysis of the dataframe with the use of my utils library function. "
   ]
  },
  {
   "cell_type": "code",
   "execution_count": 63,
   "id": "33ac467f",
   "metadata": {},
   "outputs": [
    {
     "name": "stdout",
     "output_type": "stream",
     "text": [
      "\n",
      "Rows: 18495 \t Columns: 13\n",
      "\n",
      "Total null rows: 5848\n",
      "Percentage null rows: 31.62%\n",
      "\n",
      "Total duplicate rows: 862\n",
      "Percentage dupe rows: 4.66%\n",
      "\n",
      "Year                 int64\n",
      "Week                 int64\n",
      "Address Block       object\n",
      "Block                int64\n",
      "Trap                object\n",
      "Trap type           object\n",
      "Date                object\n",
      "Mosquito number      int64\n",
      "Mosquito ID         object\n",
      "WNV Present         object\n",
      "Species             object\n",
      "Lat                float64\n",
      "Lon                float64\n",
      "dtype: object\n",
      "-----\n",
      "\n",
      "\n",
      "The head of the dataframe is: \n"
     ]
    },
    {
     "data": {
      "text/html": [
       "<div>\n",
       "<style scoped>\n",
       "    .dataframe tbody tr th:only-of-type {\n",
       "        vertical-align: middle;\n",
       "    }\n",
       "\n",
       "    .dataframe tbody tr th {\n",
       "        vertical-align: top;\n",
       "    }\n",
       "\n",
       "    .dataframe thead th {\n",
       "        text-align: right;\n",
       "    }\n",
       "</style>\n",
       "<table border=\"1\" class=\"dataframe\">\n",
       "  <thead>\n",
       "    <tr style=\"text-align: right;\">\n",
       "      <th></th>\n",
       "      <th>Year</th>\n",
       "      <th>Week</th>\n",
       "      <th>Address Block</th>\n",
       "      <th>Block</th>\n",
       "      <th>Trap</th>\n",
       "      <th>Trap type</th>\n",
       "      <th>Date</th>\n",
       "      <th>Mosquito number</th>\n",
       "      <th>Mosquito ID</th>\n",
       "      <th>WNV Present</th>\n",
       "      <th>Species</th>\n",
       "      <th>Lat</th>\n",
       "      <th>Lon</th>\n",
       "    </tr>\n",
       "  </thead>\n",
       "  <tbody>\n",
       "    <tr>\n",
       "      <th>0</th>\n",
       "      <td>2019</td>\n",
       "      <td>39</td>\n",
       "      <td>100XX W OHARE AIRPORT</td>\n",
       "      <td>100</td>\n",
       "      <td>T910</td>\n",
       "      <td>GRAVID</td>\n",
       "      <td>2019-09-26 00:09:00</td>\n",
       "      <td>2</td>\n",
       "      <td>Res</td>\n",
       "      <td>negative</td>\n",
       "      <td>CULEX RESTUANS</td>\n",
       "      <td>NaN</td>\n",
       "      <td>NaN</td>\n",
       "    </tr>\n",
       "    <tr>\n",
       "      <th>1</th>\n",
       "      <td>2019</td>\n",
       "      <td>39</td>\n",
       "      <td>52XX S KOLMAR AVE</td>\n",
       "      <td>52</td>\n",
       "      <td>T114</td>\n",
       "      <td>GRAVID</td>\n",
       "      <td>2019-09-26 00:09:00</td>\n",
       "      <td>1</td>\n",
       "      <td>Res</td>\n",
       "      <td>negative</td>\n",
       "      <td>CULEX RESTUANS</td>\n",
       "      <td>41.798211</td>\n",
       "      <td>-87.736925</td>\n",
       "    </tr>\n",
       "    <tr>\n",
       "      <th>2</th>\n",
       "      <td>2019</td>\n",
       "      <td>39</td>\n",
       "      <td>58XX N WESTERN AVE</td>\n",
       "      <td>58</td>\n",
       "      <td>T028</td>\n",
       "      <td>GRAVID</td>\n",
       "      <td>2019-09-26 00:09:00</td>\n",
       "      <td>2</td>\n",
       "      <td>Res</td>\n",
       "      <td>negative</td>\n",
       "      <td>CULEX RESTUANS</td>\n",
       "      <td>41.987245</td>\n",
       "      <td>-87.689417</td>\n",
       "    </tr>\n",
       "    <tr>\n",
       "      <th>3</th>\n",
       "      <td>2019</td>\n",
       "      <td>39</td>\n",
       "      <td>39XX N SPRINGFIELD AVE</td>\n",
       "      <td>39</td>\n",
       "      <td>T228</td>\n",
       "      <td>GRAVID</td>\n",
       "      <td>2019-09-26 00:09:00</td>\n",
       "      <td>1</td>\n",
       "      <td>Res</td>\n",
       "      <td>negative</td>\n",
       "      <td>CULEX RESTUANS</td>\n",
       "      <td>41.953664</td>\n",
       "      <td>-87.724987</td>\n",
       "    </tr>\n",
       "    <tr>\n",
       "      <th>4</th>\n",
       "      <td>2019</td>\n",
       "      <td>39</td>\n",
       "      <td>131XX S BRANDON AVE</td>\n",
       "      <td>131</td>\n",
       "      <td>T209</td>\n",
       "      <td>GRAVID</td>\n",
       "      <td>2019-09-26 00:09:00</td>\n",
       "      <td>9</td>\n",
       "      <td>Res</td>\n",
       "      <td>negative</td>\n",
       "      <td>CULEX RESTUANS</td>\n",
       "      <td>41.657069</td>\n",
       "      <td>-87.546049</td>\n",
       "    </tr>\n",
       "  </tbody>\n",
       "</table>\n",
       "</div>"
      ],
      "text/plain": [
       "   Year  Week           Address Block  Block  Trap Trap type  \\\n",
       "0  2019    39   100XX W OHARE AIRPORT    100  T910    GRAVID   \n",
       "1  2019    39       52XX S KOLMAR AVE     52  T114    GRAVID   \n",
       "2  2019    39      58XX N WESTERN AVE     58  T028    GRAVID   \n",
       "3  2019    39  39XX N SPRINGFIELD AVE     39  T228    GRAVID   \n",
       "4  2019    39     131XX S BRANDON AVE    131  T209    GRAVID   \n",
       "\n",
       "                  Date  Mosquito number Mosquito ID WNV Present  \\\n",
       "0  2019-09-26 00:09:00                2         Res    negative   \n",
       "1  2019-09-26 00:09:00                1         Res    negative   \n",
       "2  2019-09-26 00:09:00                2         Res    negative   \n",
       "3  2019-09-26 00:09:00                1         Res    negative   \n",
       "4  2019-09-26 00:09:00                9         Res    negative   \n",
       "\n",
       "          Species        Lat        Lon  \n",
       "0  CULEX RESTUANS        NaN        NaN  \n",
       "1  CULEX RESTUANS  41.798211 -87.736925  \n",
       "2  CULEX RESTUANS  41.987245 -87.689417  \n",
       "3  CULEX RESTUANS  41.953664 -87.724987  \n",
       "4  CULEX RESTUANS  41.657069 -87.546049  "
      ]
     },
     "metadata": {},
     "output_type": "display_data"
    },
    {
     "name": "stdout",
     "output_type": "stream",
     "text": [
      "\n",
      "The tail of the dataframe is:\n"
     ]
    },
    {
     "data": {
      "text/html": [
       "<div>\n",
       "<style scoped>\n",
       "    .dataframe tbody tr th:only-of-type {\n",
       "        vertical-align: middle;\n",
       "    }\n",
       "\n",
       "    .dataframe tbody tr th {\n",
       "        vertical-align: top;\n",
       "    }\n",
       "\n",
       "    .dataframe thead th {\n",
       "        text-align: right;\n",
       "    }\n",
       "</style>\n",
       "<table border=\"1\" class=\"dataframe\">\n",
       "  <thead>\n",
       "    <tr style=\"text-align: right;\">\n",
       "      <th></th>\n",
       "      <th>Year</th>\n",
       "      <th>Week</th>\n",
       "      <th>Address Block</th>\n",
       "      <th>Block</th>\n",
       "      <th>Trap</th>\n",
       "      <th>Trap type</th>\n",
       "      <th>Date</th>\n",
       "      <th>Mosquito number</th>\n",
       "      <th>Mosquito ID</th>\n",
       "      <th>WNV Present</th>\n",
       "      <th>Species</th>\n",
       "      <th>Lat</th>\n",
       "      <th>Lon</th>\n",
       "    </tr>\n",
       "  </thead>\n",
       "  <tbody>\n",
       "    <tr>\n",
       "      <th>18490</th>\n",
       "      <td>2016</td>\n",
       "      <td>36</td>\n",
       "      <td>3XX W 18TH ST</td>\n",
       "      <td>3</td>\n",
       "      <td>T043</td>\n",
       "      <td>GRAVID</td>\n",
       "      <td>2016-09-09 00:09:00</td>\n",
       "      <td>4</td>\n",
       "      <td>Pip</td>\n",
       "      <td>positive</td>\n",
       "      <td>CULEX PIPIENS</td>\n",
       "      <td>41.857843</td>\n",
       "      <td>-87.635858</td>\n",
       "    </tr>\n",
       "    <tr>\n",
       "      <th>18491</th>\n",
       "      <td>2007</td>\n",
       "      <td>34</td>\n",
       "      <td>46XX N MILWAUKEE AVE</td>\n",
       "      <td>46</td>\n",
       "      <td>T003</td>\n",
       "      <td>GRAVID</td>\n",
       "      <td>2007-08-24 00:08:00</td>\n",
       "      <td>19</td>\n",
       "      <td>Pip</td>\n",
       "      <td>positive</td>\n",
       "      <td>CULEX PIPIENS</td>\n",
       "      <td>41.965376</td>\n",
       "      <td>-87.758403</td>\n",
       "    </tr>\n",
       "    <tr>\n",
       "      <th>18492</th>\n",
       "      <td>2016</td>\n",
       "      <td>30</td>\n",
       "      <td>127XX S DOTY AVE</td>\n",
       "      <td>127</td>\n",
       "      <td>T115</td>\n",
       "      <td>GRAVID</td>\n",
       "      <td>2016-07-27 00:07:00</td>\n",
       "      <td>34</td>\n",
       "      <td>Res</td>\n",
       "      <td>positive</td>\n",
       "      <td>CULEX RESTUANS</td>\n",
       "      <td>41.662395</td>\n",
       "      <td>-87.590176</td>\n",
       "    </tr>\n",
       "    <tr>\n",
       "      <th>18493</th>\n",
       "      <td>2017</td>\n",
       "      <td>33</td>\n",
       "      <td>20XX N DOMINICK ST</td>\n",
       "      <td>20</td>\n",
       "      <td>T240B</td>\n",
       "      <td>SENTINEL</td>\n",
       "      <td>2017-08-17 00:08:00</td>\n",
       "      <td>50</td>\n",
       "      <td>Res</td>\n",
       "      <td>positive</td>\n",
       "      <td>CULEX RESTUANS</td>\n",
       "      <td>41.919197</td>\n",
       "      <td>-87.664758</td>\n",
       "    </tr>\n",
       "    <tr>\n",
       "      <th>18494</th>\n",
       "      <td>2015</td>\n",
       "      <td>33</td>\n",
       "      <td>100XX W OHARE AIRPORT</td>\n",
       "      <td>100</td>\n",
       "      <td>T902</td>\n",
       "      <td>GRAVID</td>\n",
       "      <td>2015-08-20 00:08:00</td>\n",
       "      <td>6</td>\n",
       "      <td>Res</td>\n",
       "      <td>positive</td>\n",
       "      <td>CULEX RESTUANS</td>\n",
       "      <td>NaN</td>\n",
       "      <td>NaN</td>\n",
       "    </tr>\n",
       "  </tbody>\n",
       "</table>\n",
       "</div>"
      ],
      "text/plain": [
       "       Year  Week          Address Block  Block   Trap Trap type  \\\n",
       "18490  2016    36          3XX W 18TH ST      3   T043    GRAVID   \n",
       "18491  2007    34   46XX N MILWAUKEE AVE     46   T003    GRAVID   \n",
       "18492  2016    30       127XX S DOTY AVE    127   T115    GRAVID   \n",
       "18493  2017    33     20XX N DOMINICK ST     20  T240B  SENTINEL   \n",
       "18494  2015    33  100XX W OHARE AIRPORT    100   T902    GRAVID   \n",
       "\n",
       "                      Date  Mosquito number Mosquito ID WNV Present  \\\n",
       "18490  2016-09-09 00:09:00                4         Pip    positive   \n",
       "18491  2007-08-24 00:08:00               19         Pip    positive   \n",
       "18492  2016-07-27 00:07:00               34         Res    positive   \n",
       "18493  2017-08-17 00:08:00               50         Res    positive   \n",
       "18494  2015-08-20 00:08:00                6         Res    positive   \n",
       "\n",
       "              Species        Lat        Lon  \n",
       "18490   CULEX PIPIENS  41.857843 -87.635858  \n",
       "18491   CULEX PIPIENS  41.965376 -87.758403  \n",
       "18492  CULEX RESTUANS  41.662395 -87.590176  \n",
       "18493  CULEX RESTUANS  41.919197 -87.664758  \n",
       "18494  CULEX RESTUANS        NaN        NaN  "
      ]
     },
     "metadata": {},
     "output_type": "display_data"
    },
    {
     "name": "stdout",
     "output_type": "stream",
     "text": [
      "\n",
      "Description of the numerical columns is as follows\n"
     ]
    },
    {
     "data": {
      "text/html": [
       "<div>\n",
       "<style scoped>\n",
       "    .dataframe tbody tr th:only-of-type {\n",
       "        vertical-align: middle;\n",
       "    }\n",
       "\n",
       "    .dataframe tbody tr th {\n",
       "        vertical-align: top;\n",
       "    }\n",
       "\n",
       "    .dataframe thead th {\n",
       "        text-align: right;\n",
       "    }\n",
       "</style>\n",
       "<table border=\"1\" class=\"dataframe\">\n",
       "  <thead>\n",
       "    <tr style=\"text-align: right;\">\n",
       "      <th></th>\n",
       "      <th>Year</th>\n",
       "      <th>Week</th>\n",
       "      <th>Block</th>\n",
       "      <th>Mosquito number</th>\n",
       "      <th>Lat</th>\n",
       "      <th>Lon</th>\n",
       "    </tr>\n",
       "  </thead>\n",
       "  <tbody>\n",
       "    <tr>\n",
       "      <th>count</th>\n",
       "      <td>18495.000000</td>\n",
       "      <td>18495.000000</td>\n",
       "      <td>18495.000000</td>\n",
       "      <td>18495.000000</td>\n",
       "      <td>15571.000000</td>\n",
       "      <td>15571.000000</td>\n",
       "    </tr>\n",
       "    <tr>\n",
       "      <th>mean</th>\n",
       "      <td>2012.905812</td>\n",
       "      <td>31.004001</td>\n",
       "      <td>54.314788</td>\n",
       "      <td>10.879913</td>\n",
       "      <td>41.839963</td>\n",
       "      <td>-87.691642</td>\n",
       "    </tr>\n",
       "    <tr>\n",
       "      <th>std</th>\n",
       "      <td>3.725857</td>\n",
       "      <td>4.332020</td>\n",
       "      <td>36.712796</td>\n",
       "      <td>13.475066</td>\n",
       "      <td>0.111374</td>\n",
       "      <td>0.076545</td>\n",
       "    </tr>\n",
       "    <tr>\n",
       "      <th>min</th>\n",
       "      <td>2007.000000</td>\n",
       "      <td>20.000000</td>\n",
       "      <td>1.000000</td>\n",
       "      <td>1.000000</td>\n",
       "      <td>41.644720</td>\n",
       "      <td>-87.854473</td>\n",
       "    </tr>\n",
       "    <tr>\n",
       "      <th>25%</th>\n",
       "      <td>2010.000000</td>\n",
       "      <td>28.000000</td>\n",
       "      <td>22.000000</td>\n",
       "      <td>2.000000</td>\n",
       "      <td>41.742670</td>\n",
       "      <td>-87.747459</td>\n",
       "    </tr>\n",
       "    <tr>\n",
       "      <th>50%</th>\n",
       "      <td>2013.000000</td>\n",
       "      <td>31.000000</td>\n",
       "      <td>51.000000</td>\n",
       "      <td>5.000000</td>\n",
       "      <td>41.845715</td>\n",
       "      <td>-87.691698</td>\n",
       "    </tr>\n",
       "    <tr>\n",
       "      <th>75%</th>\n",
       "      <td>2016.000000</td>\n",
       "      <td>34.000000</td>\n",
       "      <td>89.000000</td>\n",
       "      <td>14.000000</td>\n",
       "      <td>41.945961</td>\n",
       "      <td>-87.637873</td>\n",
       "    </tr>\n",
       "    <tr>\n",
       "      <th>max</th>\n",
       "      <td>2019.000000</td>\n",
       "      <td>40.000000</td>\n",
       "      <td>132.000000</td>\n",
       "      <td>50.000000</td>\n",
       "      <td>42.017801</td>\n",
       "      <td>-87.531051</td>\n",
       "    </tr>\n",
       "  </tbody>\n",
       "</table>\n",
       "</div>"
      ],
      "text/plain": [
       "               Year          Week         Block  Mosquito number  \\\n",
       "count  18495.000000  18495.000000  18495.000000     18495.000000   \n",
       "mean    2012.905812     31.004001     54.314788        10.879913   \n",
       "std        3.725857      4.332020     36.712796        13.475066   \n",
       "min     2007.000000     20.000000      1.000000         1.000000   \n",
       "25%     2010.000000     28.000000     22.000000         2.000000   \n",
       "50%     2013.000000     31.000000     51.000000         5.000000   \n",
       "75%     2016.000000     34.000000     89.000000        14.000000   \n",
       "max     2019.000000     40.000000    132.000000        50.000000   \n",
       "\n",
       "                Lat           Lon  \n",
       "count  15571.000000  15571.000000  \n",
       "mean      41.839963    -87.691642  \n",
       "std        0.111374      0.076545  \n",
       "min       41.644720    -87.854473  \n",
       "25%       41.742670    -87.747459  \n",
       "50%       41.845715    -87.691698  \n",
       "75%       41.945961    -87.637873  \n",
       "max       42.017801    -87.531051  "
      ]
     },
     "metadata": {},
     "output_type": "display_data"
    }
   ],
   "source": [
    "utils.eda(df)"
   ]
  },
  {
   "cell_type": "markdown",
   "id": "2cddcce8",
   "metadata": {},
   "source": [
    "From this command, there are some columns of the data which have datatypes that do not correspond with the column names. The date is a string object, also the year and week are int64 when it could be a datatime datatype."
   ]
  },
  {
   "cell_type": "markdown",
   "id": "cbe041d2",
   "metadata": {},
   "source": [
    "The shape function then outputs a value for the shape of the df dataframe, it has 13 columns and 18495 rows. Of these rows there are 5848 null rows which need to be analysed in more detial.\n",
    "\n",
    "As noted earlier, there are certain columns which have datatypes which don't match the name. For example, the date column is a string when it could be a datetime data type. First the column needs to be analysed to determine what state the data is in. From the head, it seems that the times and dates are all the same."
   ]
  },
  {
   "cell_type": "code",
   "execution_count": 64,
   "id": "98b65f03",
   "metadata": {},
   "outputs": [
    {
     "data": {
      "text/plain": [
       "0    2019-09-26 00:09:00\n",
       "1    2019-09-26 00:09:00\n",
       "2    2019-09-26 00:09:00\n",
       "3    2019-09-26 00:09:00\n",
       "4    2019-09-26 00:09:00\n",
       "5    2019-09-26 00:09:00\n",
       "6    2019-09-26 00:09:00\n",
       "7    2019-09-26 00:09:00\n",
       "8    2019-09-26 00:09:00\n",
       "9    2019-09-26 00:09:00\n",
       "Name: Date, dtype: object"
      ]
     },
     "execution_count": 64,
     "metadata": {},
     "output_type": "execute_result"
    }
   ],
   "source": [
    "df['Date'].head(10)"
   ]
  },
  {
   "cell_type": "code",
   "execution_count": 65,
   "id": "9618f59a",
   "metadata": {},
   "outputs": [
    {
     "data": {
      "text/plain": [
       "18485    2018-08-16 00:08:00\n",
       "18486    2016-07-21 00:07:00\n",
       "18487    2007-08-22 00:08:00\n",
       "18488    2017-07-27 00:07:00\n",
       "18489    2013-08-29 00:08:00\n",
       "18490    2016-09-09 00:09:00\n",
       "18491    2007-08-24 00:08:00\n",
       "18492    2016-07-27 00:07:00\n",
       "18493    2017-08-17 00:08:00\n",
       "18494    2015-08-20 00:08:00\n",
       "Name: Date, dtype: object"
      ]
     },
     "execution_count": 65,
     "metadata": {},
     "output_type": "execute_result"
    }
   ],
   "source": [
    "df['Date'].tail(10)"
   ]
  },
  {
   "cell_type": "markdown",
   "id": "cf9bbef0",
   "metadata": {},
   "source": [
    "After looking at the tail data it is clear that the values do differ so there is no need for a split function, as previously assumed. With the help of the astype function, the date column can be converted to a datetime datatype. "
   ]
  },
  {
   "cell_type": "code",
   "execution_count": 66,
   "id": "11df8ef6",
   "metadata": {},
   "outputs": [],
   "source": [
    "df['Date'] = df['Date'].astype('datetime64')"
   ]
  },
  {
   "cell_type": "code",
   "execution_count": 67,
   "id": "43e7c20f",
   "metadata": {},
   "outputs": [
    {
     "data": {
      "text/plain": [
       "0   2019-09-26 00:09:00\n",
       "1   2019-09-26 00:09:00\n",
       "2   2019-09-26 00:09:00\n",
       "3   2019-09-26 00:09:00\n",
       "4   2019-09-26 00:09:00\n",
       "Name: Date, dtype: datetime64[ns]"
      ]
     },
     "execution_count": 67,
     "metadata": {},
     "output_type": "execute_result"
    }
   ],
   "source": [
    "#Sanity Check\n",
    "df['Date'].head(5)"
   ]
  },
  {
   "cell_type": "markdown",
   "id": "7ca41e29",
   "metadata": {},
   "source": [
    "In my basic EDA of the dataframe earlier, I found that there were null values. I want to explore what those null values so I can determine whether I want to impute the values or drop them completely. "
   ]
  },
  {
   "cell_type": "code",
   "execution_count": 68,
   "id": "7437fc43",
   "metadata": {},
   "outputs": [
    {
     "data": {
      "text/plain": [
       "Year                0.000000\n",
       "Week                0.000000\n",
       "Address Block       0.000000\n",
       "Block               0.000000\n",
       "Trap                0.000000\n",
       "Trap type           0.000000\n",
       "Date                0.000000\n",
       "Mosquito number     0.000000\n",
       "Mosquito ID         0.000000\n",
       "WNV Present         0.000000\n",
       "Species             0.000000\n",
       "Lat                15.809678\n",
       "Lon                15.809678\n",
       "dtype: float64"
      ]
     },
     "execution_count": 68,
     "metadata": {},
     "output_type": "execute_result"
    }
   ],
   "source": [
    "df.isna().mean()*100"
   ]
  },
  {
   "cell_type": "markdown",
   "id": "eb305a80",
   "metadata": {},
   "source": [
    "From the results above, it can be seen that there both the Latitude and Longitude columns contain 15.8% of null values. This is too large a value for me to drop the rows completely as it is will affect the integrity of the data and insights. I will impute the null values with the correct values, but first I need to find the correct values to impute. By plotting the two column data, I can get an idea of what each column holds. "
   ]
  },
  {
   "cell_type": "code",
   "execution_count": 69,
   "id": "7322aef7",
   "metadata": {},
   "outputs": [
    {
     "data": {
      "image/png": "[encoded data removed]",
      "text/plain": [
       "<Figure size 720x360 with 1 Axes>"
      ]
     },
     "metadata": {
      "needs_background": "light"
     },
     "output_type": "display_data"
    }
   ],
   "source": [
    "plt.figure(figsize = (10,5))\n",
    "df['Lat'].plot(kind = 'hist')\n",
    "plt.title('Distribution of mosquitos caught per Latitude')\n",
    "plt.xlabel('Latitude')\n",
    "plt.show()"
   ]
  },
  {
   "cell_type": "code",
   "execution_count": 70,
   "id": "90f6dc66",
   "metadata": {},
   "outputs": [
    {
     "data": {
      "image/png": "[encoded data removed]",
      "text/plain": [
       "<Figure size 720x360 with 1 Axes>"
      ]
     },
     "metadata": {
      "needs_background": "light"
     },
     "output_type": "display_data"
    }
   ],
   "source": [
    "plt.figure(figsize = (10,5))\n",
    "df[\"Lon\"].plot(kind = 'hist')\n",
    "plt.title('Distribution of mosquitos caught per Longitude')\n",
    "plt.xlabel('Longitude')\n",
    "plt.show()"
   ]
  },
  {
   "cell_type": "markdown",
   "id": "4ac30edf",
   "metadata": {},
   "source": [
    "From both the distributions and the describe command it is evident that the latitude and longitudes vary a small amount. Only 0.5 for latitude and 0.3 for longitude. Demonstrating that the location of the traps which were set were concentrated within a specific area. The longitude is distributed normally with a large frequency of traps being set around -87.7. However, the latitude was distributed very differently with the frequency spread quite widely. This would demonstrate that in terms of east to west the distribution of traps varied very little with it concentrated within the area of -87.7. However, the latitude in terms of north to south varied more with more traps being set along the range of 41.6 and 42. \n",
    "\n",
    "I initially wanted to impute the values with the mean of the whole Lat and Lon column. However, given that this was location data that is very data etiquette. I will find the address values and impute it for each specific address. "
   ]
  },
  {
   "cell_type": "code",
   "execution_count": 71,
   "id": "fe864344",
   "metadata": {},
   "outputs": [
    {
     "data": {
      "text/plain": [
       "True"
      ]
     },
     "execution_count": 71,
     "metadata": {},
     "output_type": "execute_result"
    }
   ],
   "source": [
    "all(df['Lon'].isna() == df['Lat'].isna())"
   ]
  },
  {
   "cell_type": "markdown",
   "id": "6bcc82c0",
   "metadata": {},
   "source": [
    "The above code is to check that where there are missing values for the latitude there are missing values for the longitude. The all function returns True if all the lat and lon values match each other or false if they do not. In this case they all match each other which means that whenever we input the lat values then we can input the lon values as well. "
   ]
  },
  {
   "cell_type": "code",
   "execution_count": 72,
   "id": "3cf05b7f",
   "metadata": {},
   "outputs": [
    {
     "name": "stdout",
     "output_type": "stream",
     "text": [
      "100XX W OHARE AIRPORT\n",
      "4XX W 127TH\n",
      "100XX W OHARE\n",
      "79XX S CHICAGO\n",
      "81XX S ASHLAND\n",
      "115XX S AVENUE L\n",
      "65XX N OAK PARK AVE\n",
      "30XX S HOYNE\n",
      "98XX S AVENUE G\n",
      "43XX N ASHLAND\n"
     ]
    }
   ],
   "source": [
    "null_cols = df['Lat'].isna()\n",
    "address_totals = df[null_cols]['Address Block'].value_counts()\n",
    "address_totals\n",
    "for x in address_totals.index:\n",
    "    print(x)"
   ]
  },
  {
   "cell_type": "markdown",
   "id": "7668e2e1",
   "metadata": {},
   "source": [
    "Firstly, the above code goes through the Lat column and returns true or false for each row if there is a null value or not. It then groups all the addresses with the null values, with this information I can create a dictionary that can loop through the dictionary with the specific lat and lon value for each address. Then I can loop through the dataframe and when there is a null value, I can match the address with the one in the dictionary and impute the lat/lon values."
   ]
  },
  {
   "cell_type": "code",
   "execution_count": 73,
   "id": "8f0ee5a6",
   "metadata": {},
   "outputs": [],
   "source": [
    "address_dictionary = {'100XX W OHARE AIRPORT': [41.978611,-87.904724],\n",
    " '4XX W 127TH': [41.663278,-87.633214],\n",
    " '100XX W OHARE': [41.978611,-87.904724] ,\n",
    " '79XX S CHICAGO': [42.2650026,-87.0639159],\n",
    " '81XX S ASHLAND': [41.870436,-87.665853],\n",
    " '115XX S AVENUE L': [41.697376, -87.528177],\n",
    " '65XX N OAK PARK AVE': [41.935567,-87.795257],\n",
    " '30XX S HOYNE': [41.833866,-87.678173],\n",
    " '98XX S AVENUE G': [41.709293,-87.5315843],\n",
    " '43XX N ASHLAND': [41.882612,-87.667027]}"
   ]
  },
  {
   "cell_type": "code",
   "execution_count": 74,
   "id": "8ade7cb1",
   "metadata": {
    "scrolled": true
   },
   "outputs": [
    {
     "data": {
      "text/html": [
       "<div>\n",
       "<style scoped>\n",
       "    .dataframe tbody tr th:only-of-type {\n",
       "        vertical-align: middle;\n",
       "    }\n",
       "\n",
       "    .dataframe tbody tr th {\n",
       "        vertical-align: top;\n",
       "    }\n",
       "\n",
       "    .dataframe thead th {\n",
       "        text-align: right;\n",
       "    }\n",
       "</style>\n",
       "<table border=\"1\" class=\"dataframe\">\n",
       "  <thead>\n",
       "    <tr style=\"text-align: right;\">\n",
       "      <th></th>\n",
       "      <th>Year</th>\n",
       "      <th>Week</th>\n",
       "      <th>Address Block</th>\n",
       "      <th>Block</th>\n",
       "      <th>Trap</th>\n",
       "      <th>Trap type</th>\n",
       "      <th>Date</th>\n",
       "      <th>Mosquito number</th>\n",
       "      <th>Mosquito ID</th>\n",
       "      <th>WNV Present</th>\n",
       "      <th>Species</th>\n",
       "      <th>Lat</th>\n",
       "      <th>Lon</th>\n",
       "    </tr>\n",
       "  </thead>\n",
       "  <tbody>\n",
       "    <tr>\n",
       "      <th>0</th>\n",
       "      <td>2019</td>\n",
       "      <td>39</td>\n",
       "      <td>100XX W OHARE AIRPORT</td>\n",
       "      <td>100</td>\n",
       "      <td>T910</td>\n",
       "      <td>GRAVID</td>\n",
       "      <td>2019-09-26 00:09:00</td>\n",
       "      <td>2</td>\n",
       "      <td>Res</td>\n",
       "      <td>negative</td>\n",
       "      <td>CULEX RESTUANS</td>\n",
       "      <td>41.978611</td>\n",
       "      <td>-87.904724</td>\n",
       "    </tr>\n",
       "    <tr>\n",
       "      <th>1</th>\n",
       "      <td>2019</td>\n",
       "      <td>39</td>\n",
       "      <td>52XX S KOLMAR AVE</td>\n",
       "      <td>52</td>\n",
       "      <td>T114</td>\n",
       "      <td>GRAVID</td>\n",
       "      <td>2019-09-26 00:09:00</td>\n",
       "      <td>1</td>\n",
       "      <td>Res</td>\n",
       "      <td>negative</td>\n",
       "      <td>CULEX RESTUANS</td>\n",
       "      <td>41.798211</td>\n",
       "      <td>-87.736925</td>\n",
       "    </tr>\n",
       "    <tr>\n",
       "      <th>2</th>\n",
       "      <td>2019</td>\n",
       "      <td>39</td>\n",
       "      <td>58XX N WESTERN AVE</td>\n",
       "      <td>58</td>\n",
       "      <td>T028</td>\n",
       "      <td>GRAVID</td>\n",
       "      <td>2019-09-26 00:09:00</td>\n",
       "      <td>2</td>\n",
       "      <td>Res</td>\n",
       "      <td>negative</td>\n",
       "      <td>CULEX RESTUANS</td>\n",
       "      <td>41.987245</td>\n",
       "      <td>-87.689417</td>\n",
       "    </tr>\n",
       "    <tr>\n",
       "      <th>3</th>\n",
       "      <td>2019</td>\n",
       "      <td>39</td>\n",
       "      <td>39XX N SPRINGFIELD AVE</td>\n",
       "      <td>39</td>\n",
       "      <td>T228</td>\n",
       "      <td>GRAVID</td>\n",
       "      <td>2019-09-26 00:09:00</td>\n",
       "      <td>1</td>\n",
       "      <td>Res</td>\n",
       "      <td>negative</td>\n",
       "      <td>CULEX RESTUANS</td>\n",
       "      <td>41.953664</td>\n",
       "      <td>-87.724987</td>\n",
       "    </tr>\n",
       "    <tr>\n",
       "      <th>4</th>\n",
       "      <td>2019</td>\n",
       "      <td>39</td>\n",
       "      <td>131XX S BRANDON AVE</td>\n",
       "      <td>131</td>\n",
       "      <td>T209</td>\n",
       "      <td>GRAVID</td>\n",
       "      <td>2019-09-26 00:09:00</td>\n",
       "      <td>9</td>\n",
       "      <td>Res</td>\n",
       "      <td>negative</td>\n",
       "      <td>CULEX RESTUANS</td>\n",
       "      <td>41.657069</td>\n",
       "      <td>-87.546049</td>\n",
       "    </tr>\n",
       "    <tr>\n",
       "      <th>5</th>\n",
       "      <td>2019</td>\n",
       "      <td>39</td>\n",
       "      <td>21XX N CANNON DR</td>\n",
       "      <td>21</td>\n",
       "      <td>T054C</td>\n",
       "      <td>GRAVID</td>\n",
       "      <td>2019-09-26 00:09:00</td>\n",
       "      <td>2</td>\n",
       "      <td>Res</td>\n",
       "      <td>negative</td>\n",
       "      <td>CULEX RESTUANS</td>\n",
       "      <td>41.921777</td>\n",
       "      <td>-87.632140</td>\n",
       "    </tr>\n",
       "    <tr>\n",
       "      <th>6</th>\n",
       "      <td>2019</td>\n",
       "      <td>39</td>\n",
       "      <td>11XX W ROOSEVELT RD</td>\n",
       "      <td>11</td>\n",
       "      <td>T048</td>\n",
       "      <td>GRAVID</td>\n",
       "      <td>2019-09-26 00:09:00</td>\n",
       "      <td>3</td>\n",
       "      <td>Res</td>\n",
       "      <td>negative</td>\n",
       "      <td>CULEX RESTUANS</td>\n",
       "      <td>41.866915</td>\n",
       "      <td>-87.654919</td>\n",
       "    </tr>\n",
       "    <tr>\n",
       "      <th>7</th>\n",
       "      <td>2019</td>\n",
       "      <td>39</td>\n",
       "      <td>22XX W 51ST ST</td>\n",
       "      <td>22</td>\n",
       "      <td>T061</td>\n",
       "      <td>GRAVID</td>\n",
       "      <td>2019-09-26 00:09:00</td>\n",
       "      <td>2</td>\n",
       "      <td>Res</td>\n",
       "      <td>negative</td>\n",
       "      <td>CULEX RESTUANS</td>\n",
       "      <td>41.801048</td>\n",
       "      <td>-87.680425</td>\n",
       "    </tr>\n",
       "    <tr>\n",
       "      <th>8</th>\n",
       "      <td>2019</td>\n",
       "      <td>39</td>\n",
       "      <td>22XX N CANNON DR</td>\n",
       "      <td>22</td>\n",
       "      <td>T054A</td>\n",
       "      <td>GRAVID</td>\n",
       "      <td>2019-09-26 00:09:00</td>\n",
       "      <td>1</td>\n",
       "      <td>Ter</td>\n",
       "      <td>negative</td>\n",
       "      <td>CULEX TERRITANS</td>\n",
       "      <td>41.922737</td>\n",
       "      <td>-87.632450</td>\n",
       "    </tr>\n",
       "    <tr>\n",
       "      <th>9</th>\n",
       "      <td>2019</td>\n",
       "      <td>39</td>\n",
       "      <td>3XX W 104TH ST</td>\n",
       "      <td>3</td>\n",
       "      <td>T095</td>\n",
       "      <td>GRAVID</td>\n",
       "      <td>2019-09-26 00:09:00</td>\n",
       "      <td>1</td>\n",
       "      <td>Sal</td>\n",
       "      <td>negative</td>\n",
       "      <td>CULEX SALINARIUS</td>\n",
       "      <td>41.705328</td>\n",
       "      <td>-87.632955</td>\n",
       "    </tr>\n",
       "  </tbody>\n",
       "</table>\n",
       "</div>"
      ],
      "text/plain": [
       "   Year  Week           Address Block  Block   Trap Trap type  \\\n",
       "0  2019    39   100XX W OHARE AIRPORT    100   T910    GRAVID   \n",
       "1  2019    39       52XX S KOLMAR AVE     52   T114    GRAVID   \n",
       "2  2019    39      58XX N WESTERN AVE     58   T028    GRAVID   \n",
       "3  2019    39  39XX N SPRINGFIELD AVE     39   T228    GRAVID   \n",
       "4  2019    39     131XX S BRANDON AVE    131   T209    GRAVID   \n",
       "5  2019    39        21XX N CANNON DR     21  T054C    GRAVID   \n",
       "6  2019    39     11XX W ROOSEVELT RD     11   T048    GRAVID   \n",
       "7  2019    39          22XX W 51ST ST     22   T061    GRAVID   \n",
       "8  2019    39        22XX N CANNON DR     22  T054A    GRAVID   \n",
       "9  2019    39          3XX W 104TH ST      3   T095    GRAVID   \n",
       "\n",
       "                 Date  Mosquito number Mosquito ID WNV Present  \\\n",
       "0 2019-09-26 00:09:00                2         Res    negative   \n",
       "1 2019-09-26 00:09:00                1         Res    negative   \n",
       "2 2019-09-26 00:09:00                2         Res    negative   \n",
       "3 2019-09-26 00:09:00                1         Res    negative   \n",
       "4 2019-09-26 00:09:00                9         Res    negative   \n",
       "5 2019-09-26 00:09:00                2         Res    negative   \n",
       "6 2019-09-26 00:09:00                3         Res    negative   \n",
       "7 2019-09-26 00:09:00                2         Res    negative   \n",
       "8 2019-09-26 00:09:00                1         Ter    negative   \n",
       "9 2019-09-26 00:09:00                1         Sal    negative   \n",
       "\n",
       "            Species        Lat        Lon  \n",
       "0    CULEX RESTUANS  41.978611 -87.904724  \n",
       "1    CULEX RESTUANS  41.798211 -87.736925  \n",
       "2    CULEX RESTUANS  41.987245 -87.689417  \n",
       "3    CULEX RESTUANS  41.953664 -87.724987  \n",
       "4    CULEX RESTUANS  41.657069 -87.546049  \n",
       "5    CULEX RESTUANS  41.921777 -87.632140  \n",
       "6    CULEX RESTUANS  41.866915 -87.654919  \n",
       "7    CULEX RESTUANS  41.801048 -87.680425  \n",
       "8   CULEX TERRITANS  41.922737 -87.632450  \n",
       "9  CULEX SALINARIUS  41.705328 -87.632955  "
      ]
     },
     "execution_count": 74,
     "metadata": {},
     "output_type": "execute_result"
    }
   ],
   "source": [
    "for address in address_dictionary.keys():\n",
    "    df.loc[df[\"Address Block\"] == address, 'Lat'] = address_dictionary[address][0]\n",
    "           \n",
    "for address in address_dictionary.keys():\n",
    "    df.loc[df[\"Address Block\"] == address, 'Lon'] = address_dictionary[address][1]\n",
    "    \n",
    "df.head(10)"
   ]
  },
  {
   "cell_type": "markdown",
   "id": "c8288058",
   "metadata": {},
   "source": [
    "My method was to loop through the keys address dictionary I created with all the addresses that had null values. If the address in the dataframe matched the address in the address_dictionary it imputed the the lat and lon values. Although this meant that it imputed values which may not have had null values for that specific address, this seemed like the easiest option. I then did a sanity check below to ensure that there were no more null values in the dataframe. "
   ]
  },
  {
   "cell_type": "code",
   "execution_count": 75,
   "id": "793a7986",
   "metadata": {},
   "outputs": [
    {
     "data": {
      "text/plain": [
       "Year               0\n",
       "Week               0\n",
       "Address Block      0\n",
       "Block              0\n",
       "Trap               0\n",
       "Trap type          0\n",
       "Date               0\n",
       "Mosquito number    0\n",
       "Mosquito ID        0\n",
       "WNV Present        0\n",
       "Species            0\n",
       "Lat                0\n",
       "Lon                0\n",
       "dtype: int64"
      ]
     },
     "execution_count": 75,
     "metadata": {},
     "output_type": "execute_result"
    }
   ],
   "source": [
    "#Sanity Check\n",
    "df.isna().sum()"
   ]
  },
  {
   "cell_type": "markdown",
   "id": "b40027bb",
   "metadata": {},
   "source": [
    "I finally want to determine if there were any redundant columns in the dataframe that could be removed. I identified there were four columns that could be repeating the same information in its columns - Address Block, Block, Mosquito ID and Species. I want to explore this further."
   ]
  },
  {
   "cell_type": "code",
   "execution_count": 76,
   "id": "502798c0",
   "metadata": {},
   "outputs": [
    {
     "data": {
      "text/html": [
       "<div>\n",
       "<style scoped>\n",
       "    .dataframe tbody tr th:only-of-type {\n",
       "        vertical-align: middle;\n",
       "    }\n",
       "\n",
       "    .dataframe tbody tr th {\n",
       "        vertical-align: top;\n",
       "    }\n",
       "\n",
       "    .dataframe thead th {\n",
       "        text-align: right;\n",
       "    }\n",
       "</style>\n",
       "<table border=\"1\" class=\"dataframe\">\n",
       "  <thead>\n",
       "    <tr style=\"text-align: right;\">\n",
       "      <th></th>\n",
       "      <th>Address Block</th>\n",
       "      <th>Block</th>\n",
       "    </tr>\n",
       "  </thead>\n",
       "  <tbody>\n",
       "    <tr>\n",
       "      <th>0</th>\n",
       "      <td>100XX W OHARE AIRPORT</td>\n",
       "      <td>100</td>\n",
       "    </tr>\n",
       "    <tr>\n",
       "      <th>1</th>\n",
       "      <td>52XX S KOLMAR AVE</td>\n",
       "      <td>52</td>\n",
       "    </tr>\n",
       "    <tr>\n",
       "      <th>2</th>\n",
       "      <td>58XX N WESTERN AVE</td>\n",
       "      <td>58</td>\n",
       "    </tr>\n",
       "    <tr>\n",
       "      <th>3</th>\n",
       "      <td>39XX N SPRINGFIELD AVE</td>\n",
       "      <td>39</td>\n",
       "    </tr>\n",
       "    <tr>\n",
       "      <th>4</th>\n",
       "      <td>131XX S BRANDON AVE</td>\n",
       "      <td>131</td>\n",
       "    </tr>\n",
       "    <tr>\n",
       "      <th>...</th>\n",
       "      <td>...</td>\n",
       "      <td>...</td>\n",
       "    </tr>\n",
       "    <tr>\n",
       "      <th>18490</th>\n",
       "      <td>3XX W 18TH ST</td>\n",
       "      <td>3</td>\n",
       "    </tr>\n",
       "    <tr>\n",
       "      <th>18491</th>\n",
       "      <td>46XX N MILWAUKEE AVE</td>\n",
       "      <td>46</td>\n",
       "    </tr>\n",
       "    <tr>\n",
       "      <th>18492</th>\n",
       "      <td>127XX S DOTY AVE</td>\n",
       "      <td>127</td>\n",
       "    </tr>\n",
       "    <tr>\n",
       "      <th>18493</th>\n",
       "      <td>20XX N DOMINICK ST</td>\n",
       "      <td>20</td>\n",
       "    </tr>\n",
       "    <tr>\n",
       "      <th>18494</th>\n",
       "      <td>100XX W OHARE AIRPORT</td>\n",
       "      <td>100</td>\n",
       "    </tr>\n",
       "  </tbody>\n",
       "</table>\n",
       "<p>18495 rows × 2 columns</p>\n",
       "</div>"
      ],
      "text/plain": [
       "                Address Block  Block\n",
       "0       100XX W OHARE AIRPORT    100\n",
       "1           52XX S KOLMAR AVE     52\n",
       "2          58XX N WESTERN AVE     58\n",
       "3      39XX N SPRINGFIELD AVE     39\n",
       "4         131XX S BRANDON AVE    131\n",
       "...                       ...    ...\n",
       "18490           3XX W 18TH ST      3\n",
       "18491    46XX N MILWAUKEE AVE     46\n",
       "18492        127XX S DOTY AVE    127\n",
       "18493      20XX N DOMINICK ST     20\n",
       "18494   100XX W OHARE AIRPORT    100\n",
       "\n",
       "[18495 rows x 2 columns]"
      ]
     },
     "execution_count": 76,
     "metadata": {},
     "output_type": "execute_result"
    }
   ],
   "source": [
    "df[['Address Block','Block']]"
   ]
  },
  {
   "cell_type": "code",
   "execution_count": 77,
   "id": "ddb5ca4a",
   "metadata": {},
   "outputs": [
    {
     "data": {
      "text/html": [
       "<div>\n",
       "<style scoped>\n",
       "    .dataframe tbody tr th:only-of-type {\n",
       "        vertical-align: middle;\n",
       "    }\n",
       "\n",
       "    .dataframe tbody tr th {\n",
       "        vertical-align: top;\n",
       "    }\n",
       "\n",
       "    .dataframe thead th {\n",
       "        text-align: right;\n",
       "    }\n",
       "</style>\n",
       "<table border=\"1\" class=\"dataframe\">\n",
       "  <thead>\n",
       "    <tr style=\"text-align: right;\">\n",
       "      <th></th>\n",
       "      <th>Mosquito ID</th>\n",
       "      <th>Species</th>\n",
       "    </tr>\n",
       "  </thead>\n",
       "  <tbody>\n",
       "    <tr>\n",
       "      <th>0</th>\n",
       "      <td>Res</td>\n",
       "      <td>CULEX RESTUANS</td>\n",
       "    </tr>\n",
       "    <tr>\n",
       "      <th>1</th>\n",
       "      <td>Res</td>\n",
       "      <td>CULEX RESTUANS</td>\n",
       "    </tr>\n",
       "    <tr>\n",
       "      <th>2</th>\n",
       "      <td>Res</td>\n",
       "      <td>CULEX RESTUANS</td>\n",
       "    </tr>\n",
       "    <tr>\n",
       "      <th>3</th>\n",
       "      <td>Res</td>\n",
       "      <td>CULEX RESTUANS</td>\n",
       "    </tr>\n",
       "    <tr>\n",
       "      <th>4</th>\n",
       "      <td>Res</td>\n",
       "      <td>CULEX RESTUANS</td>\n",
       "    </tr>\n",
       "    <tr>\n",
       "      <th>...</th>\n",
       "      <td>...</td>\n",
       "      <td>...</td>\n",
       "    </tr>\n",
       "    <tr>\n",
       "      <th>18490</th>\n",
       "      <td>Pip</td>\n",
       "      <td>CULEX PIPIENS</td>\n",
       "    </tr>\n",
       "    <tr>\n",
       "      <th>18491</th>\n",
       "      <td>Pip</td>\n",
       "      <td>CULEX PIPIENS</td>\n",
       "    </tr>\n",
       "    <tr>\n",
       "      <th>18492</th>\n",
       "      <td>Res</td>\n",
       "      <td>CULEX RESTUANS</td>\n",
       "    </tr>\n",
       "    <tr>\n",
       "      <th>18493</th>\n",
       "      <td>Res</td>\n",
       "      <td>CULEX RESTUANS</td>\n",
       "    </tr>\n",
       "    <tr>\n",
       "      <th>18494</th>\n",
       "      <td>Res</td>\n",
       "      <td>CULEX RESTUANS</td>\n",
       "    </tr>\n",
       "  </tbody>\n",
       "</table>\n",
       "<p>18495 rows × 2 columns</p>\n",
       "</div>"
      ],
      "text/plain": [
       "      Mosquito ID         Species\n",
       "0             Res  CULEX RESTUANS\n",
       "1             Res  CULEX RESTUANS\n",
       "2             Res  CULEX RESTUANS\n",
       "3             Res  CULEX RESTUANS\n",
       "4             Res  CULEX RESTUANS\n",
       "...           ...             ...\n",
       "18490         Pip   CULEX PIPIENS\n",
       "18491         Pip   CULEX PIPIENS\n",
       "18492         Res  CULEX RESTUANS\n",
       "18493         Res  CULEX RESTUANS\n",
       "18494         Res  CULEX RESTUANS\n",
       "\n",
       "[18495 rows x 2 columns]"
      ]
     },
     "execution_count": 77,
     "metadata": {},
     "output_type": "execute_result"
    }
   ],
   "source": [
    "df[['Mosquito ID','Species']]"
   ]
  },
  {
   "cell_type": "markdown",
   "id": "79f069fa",
   "metadata": {},
   "source": [
    "Looking at the code above it is clear to see that the block column is redundant. It is repeating the same values as in the address block so can be removed which is done with the code below. Also, the Mosquito ID and Species are repeating the same information. The Mosquito ID column is just a shorthand of the species column. "
   ]
  },
  {
   "cell_type": "code",
   "execution_count": 78,
   "id": "7f149687",
   "metadata": {},
   "outputs": [],
   "source": [
    "df = df.drop('Block', axis=1)\n",
    "df = df.drop('Mosquito ID', axis=1)"
   ]
  },
  {
   "cell_type": "markdown",
   "id": "e01d158b",
   "metadata": {},
   "source": [
    "### Exploratory Data Analysis (EDA)"
   ]
  },
  {
   "cell_type": "markdown",
   "id": "3ff1d5fe",
   "metadata": {},
   "source": [
    "Now that I have dealt with the null data and cleaned it, the next step is to start performing EDA and visualising any insights in the data. "
   ]
  },
  {
   "cell_type": "code",
   "execution_count": 79,
   "id": "dbf85dd0",
   "metadata": {},
   "outputs": [
    {
     "data": {
      "image/png": "[encoded data removed]",
      "text/plain": [
       "<Figure size 1080x576 with 1 Axes>"
      ]
     },
     "metadata": {
      "needs_background": "light"
     },
     "output_type": "display_data"
    }
   ],
   "source": [
    "df.groupby('Year')['WNV Present'].value_counts().unstack().plot(kind=\"line\",figsize = (15,8))\n",
    "plt.title(\"Number of mosquitoes caught with and without WNV\")\n",
    "plt.ylabel(\"Number of mosquitoes caught\")\n",
    "plt.xlabel(\"Year\")\n",
    "plt.show()"
   ]
  },
  {
   "cell_type": "markdown",
   "id": "ca72bbd1",
   "metadata": {},
   "source": [
    "From the line graphs above, it demonstrates the presence of WNV for each year. From the plot, it is clear to see that there was a massive spike up in 2016. This was due to higher temperatures and more favourable environmental conditions for mosquitos. From the trend of the two graphs it can be seen that there is a positive trend for the positive presence of WNV and vice versa for negative. With climate change increasing temperatures and producing environments more favourable for mosquitos this explains the rise. Furthermore, CULEX mosquitos enjoy urban conditions and with increased urbanisation of chicago more mosquitos are being attracted to the area. "
   ]
  },
  {
   "cell_type": "code",
   "execution_count": 80,
   "id": "3c164b26",
   "metadata": {},
   "outputs": [
    {
     "data": {
      "image/png": "[encoded data removed]",
      "text/plain": [
       "<Figure size 1080x648 with 1 Axes>"
      ]
     },
     "metadata": {
      "needs_background": "light"
     },
     "output_type": "display_data"
    }
   ],
   "source": [
    "df['Species'].value_counts().sort_values().plot(kind=\"barh\", figsize= (15,9))\n",
    "plt.title('Number of mosquitos caught per species')\n",
    "plt.xlabel('Number of mosquitos')\n",
    "plt.ylabel('Species')\n",
    "plt.show()"
   ]
  },
  {
   "cell_type": "markdown",
   "id": "d1b61585",
   "metadata": {},
   "source": [
    "There were four types of mosquito species that were captured. It can be seen that they are all part of the Culex family but different sub-species. From my research it was found that Culex mosquitoes are common throughout much of North America. Each Culex species is sensitive to both natural and human-influenced environmental factors, especially climate and land cover type. Some prefer urban environments instead of rural ones, and some are limited to tropical or humid areas. With the bar chart data at hand, the Culex Restuans is the most prevalent species caught in trap types, due to the fact that the urban conditions of Chicago are preferred by this species. From the bar chart it can be assumed that the primary species that spreads WNV is from the Culex family. It is worth noting that this data demonstrates that only one sub-species were caught per trap, which is something to question because the likelihood that a specific trap captures only one species and not the other seems highly inprobable. "
   ]
  },
  {
   "cell_type": "code",
   "execution_count": 81,
   "id": "ea73bb93",
   "metadata": {},
   "outputs": [
    {
     "data": {
      "image/png": "[encoded data removed]",
      "text/plain": [
       "<Figure size 1080x360 with 2 Axes>"
      ]
     },
     "metadata": {
      "needs_background": "light"
     },
     "output_type": "display_data"
    }
   ],
   "source": [
    "plt.figure(figsize=(15, 5))\n",
    "sns.heatmap(df.corr(), cmap=\"coolwarm\", vmax=1.0, vmin=-1.0, annot = True)\n",
    "plt.show()"
   ]
  },
  {
   "cell_type": "markdown",
   "id": "a38ff0d1",
   "metadata": {},
   "source": [
    "Looking at the correlation plot, as expected the Lat and Lon column are highly correlated with each other. But apart from that no other columns correlate that strongly with each other which will be incredibly beneficial for next steps when conducting machine learning models."
   ]
  },
  {
   "cell_type": "markdown",
   "id": "bb901fd8",
   "metadata": {},
   "source": [
    "I wanted to explore the relationship between mosquito number and the date I used certain viusals. With the help of the code below I can visualise this."
   ]
  },
  {
   "cell_type": "code",
   "execution_count": 82,
   "id": "e327c9ea",
   "metadata": {},
   "outputs": [
    {
     "data": {
      "image/png": "[encoded data removed]",
      "text/plain": [
       "<Figure size 720x576 with 1 Axes>"
      ]
     },
     "metadata": {
      "needs_background": "light"
     },
     "output_type": "display_data"
    }
   ],
   "source": [
    "df.groupby([\"Year\"])[\"Mosquito number\"].sum().plot(kind = 'bar', figsize = (10,8))\n",
    "plt.xticks(rotation = 45)\n",
    "plt.xlabel(\"Year\")\n",
    "plt.ylabel(\"Number of Mosquitoes caught\")\n",
    "plt.show()"
   ]
  },
  {
   "cell_type": "markdown",
   "id": "21dfe8db",
   "metadata": {},
   "source": [
    "As demonstrated by the plot above and the correlation plot there is a small positive correlation between year and number of mosquitoes, implying that as the years went by there was a slight increase in number of mosquitoes. Which could be attributed to global warming. \n",
    "\n",
    "I want to explore the relationship further to see if there is a relationship between the month and the mosquitoes that are caught."
   ]
  },
  {
   "cell_type": "code",
   "execution_count": 83,
   "id": "5d8aec52",
   "metadata": {},
   "outputs": [
    {
     "data": {
      "image/png": "[encoded data removed]",
      "text/plain": [
       "<Figure size 720x576 with 1 Axes>"
      ]
     },
     "metadata": {
      "needs_background": "light"
     },
     "output_type": "display_data"
    }
   ],
   "source": [
    "df['Month'] = df['Date'].dt.month\n",
    "df.groupby([\"Month\"])[\"Mosquito number\"].sum().plot(kind = \"bar\", figsize = (10,8))\n",
    "plt.ylabel(\"Number of mosquitoes caught\")\n",
    "plt.xticks(rotation =0)\n",
    "plt.xlabel(\"Month\")\n",
    "plt.show()"
   ]
  },
  {
   "cell_type": "code",
   "execution_count": 84,
   "id": "0af805f1",
   "metadata": {},
   "outputs": [
    {
     "name": "stdout",
     "output_type": "stream",
     "text": [
      "-0.040426437196600794\n"
     ]
    }
   ],
   "source": [
    "corr1 = df['Month'].corr(df['Mosquito number'])\n",
    "print(corr1)"
   ]
  },
  {
   "cell_type": "markdown",
   "id": "997cae54",
   "metadata": {},
   "source": [
    "From the plots it is clear to see that there was a massive drop between 2007 and 2008. Environmental variables such as temperature, relative humidity and precipitation are known to impact mosquito activity, survival and distribution. From my research this was due to lower average temperatures which meant there were less mosquitos about. With 2016 being a hotter year compared to subsequent years, this explained the rise in numberes. However, there is a correlation between higher temperatures and the prevalence of mosquitos as demonstrated in the second bar chart describing months. In August there were a large number of mosquitos caught in the trap which follows trends, below 10 degrees celsius mosquitos are no longer present which supports the data for October where the number which were caught was below 10000. Furthermore, mosquitoes are most active between dusk and dawn. The days are longest during August which helps to describe why there were so many mosquitos caught in this month."
   ]
  },
  {
   "cell_type": "markdown",
   "id": "5beca76d",
   "metadata": {},
   "source": [
    "Given that the mosquito species was categorical data, the best method of plotting this data was with the use of a bar chart again. I want to explore whether the mosquito species has an effect on the number of species that are caught."
   ]
  },
  {
   "cell_type": "code",
   "execution_count": 85,
   "id": "76ef1132",
   "metadata": {},
   "outputs": [
    {
     "data": {
      "text/plain": [
       "Species           WNV Present\n",
       "CULEX PIPIENS     negative       4074\n",
       "                  positive       1412\n",
       "CULEX RESTUANS    negative       9309\n",
       "                  positive       2557\n",
       "CULEX SALINARIUS  negative        215\n",
       "                  positive         11\n",
       "CULEX TERRITANS   negative        903\n",
       "                  positive         14\n",
       "Name: WNV Present, dtype: int64"
      ]
     },
     "execution_count": 85,
     "metadata": {},
     "output_type": "execute_result"
    }
   ],
   "source": [
    "df.groupby([\"Species\"])[\"WNV Present\"].value_counts()"
   ]
  },
  {
   "cell_type": "code",
   "execution_count": 86,
   "id": "9fd03126",
   "metadata": {},
   "outputs": [],
   "source": [
    "WNV_present = df.groupby([\"Species\"])[\"WNV Present\"].value_counts().unstack()"
   ]
  },
  {
   "cell_type": "code",
   "execution_count": 87,
   "id": "f29c147d",
   "metadata": {},
   "outputs": [
    {
     "data": {
      "image/png": "[encoded data removed]",
      "text/plain": [
       "<Figure size 720x576 with 1 Axes>"
      ]
     },
     "metadata": {
      "needs_background": "light"
     },
     "output_type": "display_data"
    }
   ],
   "source": [
    "df.groupby([\"Species\"])[\"WNV Present\"].value_counts().unstack().plot(kind='bar', colormap = 'Paired', figsize = (10,8))\n",
    "plt.xlabel(\"Mosquito species\")\n",
    "plt.ylabel(\"Number of mosquitoes that are caught\")\n",
    "plt.show()"
   ]
  },
  {
   "cell_type": "code",
   "execution_count": 89,
   "id": "4983668e",
   "metadata": {},
   "outputs": [
    {
     "data": {
      "text/html": [
       "<div>\n",
       "<style scoped>\n",
       "    .dataframe tbody tr th:only-of-type {\n",
       "        vertical-align: middle;\n",
       "    }\n",
       "\n",
       "    .dataframe tbody tr th {\n",
       "        vertical-align: top;\n",
       "    }\n",
       "\n",
       "    .dataframe thead th {\n",
       "        text-align: right;\n",
       "    }\n",
       "</style>\n",
       "<table border=\"1\" class=\"dataframe\">\n",
       "  <thead>\n",
       "    <tr style=\"text-align: right;\">\n",
       "      <th>WNV Present</th>\n",
       "      <th>negative</th>\n",
       "      <th>positive</th>\n",
       "      <th>Percentage</th>\n",
       "      <th>Percentage of positive cases</th>\n",
       "    </tr>\n",
       "    <tr>\n",
       "      <th>Species</th>\n",
       "      <th></th>\n",
       "      <th></th>\n",
       "      <th></th>\n",
       "      <th></th>\n",
       "    </tr>\n",
       "  </thead>\n",
       "  <tbody>\n",
       "    <tr>\n",
       "      <th>CULEX PIPIENS</th>\n",
       "      <td>4074</td>\n",
       "      <td>1412</td>\n",
       "      <td>34.66</td>\n",
       "      <td>34.66</td>\n",
       "    </tr>\n",
       "    <tr>\n",
       "      <th>CULEX RESTUANS</th>\n",
       "      <td>9309</td>\n",
       "      <td>2557</td>\n",
       "      <td>27.47</td>\n",
       "      <td>27.47</td>\n",
       "    </tr>\n",
       "    <tr>\n",
       "      <th>CULEX SALINARIUS</th>\n",
       "      <td>215</td>\n",
       "      <td>11</td>\n",
       "      <td>5.12</td>\n",
       "      <td>5.12</td>\n",
       "    </tr>\n",
       "    <tr>\n",
       "      <th>CULEX TERRITANS</th>\n",
       "      <td>903</td>\n",
       "      <td>14</td>\n",
       "      <td>1.55</td>\n",
       "      <td>1.55</td>\n",
       "    </tr>\n",
       "  </tbody>\n",
       "</table>\n",
       "</div>"
      ],
      "text/plain": [
       "WNV Present       negative  positive  Percentage  Percentage of positive cases\n",
       "Species                                                                       \n",
       "CULEX PIPIENS         4074      1412       34.66                         34.66\n",
       "CULEX RESTUANS        9309      2557       27.47                         27.47\n",
       "CULEX SALINARIUS       215        11        5.12                          5.12\n",
       "CULEX TERRITANS        903        14        1.55                          1.55"
      ]
     },
     "execution_count": 89,
     "metadata": {},
     "output_type": "execute_result"
    }
   ],
   "source": [
    "WNV_present['Percentage of positive cases'] = round((WNV_present['positive']/WNV_present['negative'])*100,2)\n",
    "WNV_present"
   ]
  },
  {
   "cell_type": "markdown",
   "id": "ee97cba8",
   "metadata": {},
   "source": [
    "From the visualisation it is clear to see that both CULEX PIPENS and CULEX RESTUANS were the two sub-species which had a high prevalence of WNV. 34.66% of PIPENS and 27.47% of RESTUANS were positive with WNV. From external research it is thought that PIPENS and RESTUANS are more resilient to weather conditions and have adapted to bite mammals this may be due to a host of reasons from weather conditions to geographical position."
   ]
  },
  {
   "cell_type": "markdown",
   "id": "5aa22dbe",
   "metadata": {},
   "source": [
    "The following visual explores the relationship between the number of mosquitos caught and trap type."
   ]
  },
  {
   "cell_type": "code",
   "execution_count": 99,
   "id": "fe18c25b",
   "metadata": {},
   "outputs": [
    {
     "data": {
      "image/png": "[encoded data removed]",
      "text/plain": [
       "<Figure size 936x576 with 1 Axes>"
      ]
     },
     "metadata": {
      "needs_background": "light"
     },
     "output_type": "display_data"
    }
   ],
   "source": [
    "plt.figure(figsize = (13,8))\n",
    "sns.boxplot(data = df, x='Trap type',y = 'Mosquito number')\n",
    "plt.title(\"Number of mosquitoes caught per trap type\")\n",
    "plt.show()"
   ]
  },
  {
   "cell_type": "markdown",
   "id": "61e57917",
   "metadata": {},
   "source": [
    "From the data visualisation above, it is clear to see that Sentinel traps are the most robust. Followed by CDC, GRAVID and then OVI. \n",
    "\n",
    "From external research, the best way to reduce the number of mosquitos is to eliminate all sources of standing water that can support mosquito breeding, including water in bird baths, ponds, flowerpots, wading pools, old tires and any other receptacles. In communities where there are organized mosquito control programs, contact your municipal government to report areas of stagnant water in roadside ditches, flooded yards and similar locations that may produce mosquitoes. Furthermore, the Gravid Mosquito trap is a plastic washbasin, filled with a liquid attractant fondly called \"Mosquito Soup\". This takes advantage of the fact that mosquitos are attracted to stagnant water and it is demonstrated by the numbers. The CDC trap uses light to attract the mosquitos and captures them. Meanwhile, the sentinel trap uses an electric fan to to suck in the mosquitos into a pipe to capture them which seems to be more effective and the range of mosquitoes that are caught are much wider. Finally, OVI also adopts the use of liquid to attract mosquitos but it only attracts female mosquitos in an attempt to stop breeding. From the data it is clear to see that it doesn't do a very good a method of attracting mosquitos. With the data at hand, Gravid is the best method for attracting mosquitos and capturing them."
   ]
  },
  {
   "cell_type": "code",
   "execution_count": 80,
   "id": "2fe7d3fd",
   "metadata": {},
   "outputs": [
    {
     "data": {
      "text/plain": [
       "Trap\n",
       "T002     9285\n",
       "T008     6618\n",
       "T138     5787\n",
       "T115     4822\n",
       "T114     4634\n",
       "         ... \n",
       "T241        2\n",
       "T078        2\n",
       "T128A       2\n",
       "T167        1\n",
       "T040        1\n",
       "Name: Mosquito number, Length: 190, dtype: int64"
      ]
     },
     "execution_count": 80,
     "metadata": {},
     "output_type": "execute_result"
    }
   ],
   "source": [
    "df.groupby('Trap').sum()['Mosquito number'].sort_values(ascending = False)"
   ]
  },
  {
   "cell_type": "code",
   "execution_count": 82,
   "id": "09f70ca3",
   "metadata": {},
   "outputs": [
    {
     "data": {
      "text/plain": [
       "4    17251\n",
       "5      586\n",
       "Name: Trap, dtype: int64"
      ]
     },
     "execution_count": 82,
     "metadata": {},
     "output_type": "execute_result"
    }
   ],
   "source": [
    "df['Trap'].str.len().value_counts()"
   ]
  },
  {
   "cell_type": "code",
   "execution_count": 83,
   "id": "3f47cc4d",
   "metadata": {},
   "outputs": [],
   "source": [
    "df['Trap'] = df['Trap'].apply(lambda x : x[:4] if len(x) >4 else x)"
   ]
  },
  {
   "cell_type": "code",
   "execution_count": 84,
   "id": "8d1be76b",
   "metadata": {},
   "outputs": [
    {
     "data": {
      "text/plain": [
       "4    17837\n",
       "Name: Trap, dtype: int64"
      ]
     },
     "execution_count": 84,
     "metadata": {},
     "output_type": "execute_result"
    }
   ],
   "source": [
    "df['Trap'].str.len().value_counts()"
   ]
  },
  {
   "cell_type": "code",
   "execution_count": 85,
   "id": "30114d2a",
   "metadata": {},
   "outputs": [
    {
     "data": {
      "text/plain": [
       "False    17837\n",
       "Name: Trap, dtype: int64"
      ]
     },
     "execution_count": 85,
     "metadata": {},
     "output_type": "execute_result"
    }
   ],
   "source": [
    "df['Trap'].str.isalpha().value_counts() #Sanity check to ensure that all the letters have been removed."
   ]
  },
  {
   "cell_type": "code",
   "execution_count": 87,
   "id": "f245ddba",
   "metadata": {
    "scrolled": false
   },
   "outputs": [
    {
     "data": {
      "text/plain": [
       "Trap\n",
       "T912    3041\n",
       "T225    3207\n",
       "T128    3243\n",
       "T066    3269\n",
       "T913    3696\n",
       "T028    4085\n",
       "T151    4289\n",
       "T011    4348\n",
       "T009    4382\n",
       "T030    4671\n",
       "T115    4822\n",
       "T114    4974\n",
       "T008    6618\n",
       "T138    8117\n",
       "T002    9342\n",
       "Name: Mosquito number, dtype: int64"
      ]
     },
     "execution_count": 87,
     "metadata": {},
     "output_type": "execute_result"
    }
   ],
   "source": [
    "df.groupby(\"Trap\")[\"Mosquito number\"].sum().sort_values()[-15:]"
   ]
  },
  {
   "cell_type": "code",
   "execution_count": 101,
   "id": "491915dc",
   "metadata": {},
   "outputs": [
    {
     "data": {
      "image/png": "[encoded data removed]",
      "text/plain": [
       "<Figure size 936x576 with 1 Axes>"
      ]
     },
     "metadata": {
      "needs_background": "light"
     },
     "output_type": "display_data"
    }
   ],
   "source": [
    "plt.figure(figsize = (13,8))\n",
    "sns.lineplot(data= df[df['Trap'] == 'T002'], x=\"Year\", y=\"Mosquito number\")\n",
    "plt.title('Yearly distribution of mosquitos caught in trap T002')\n",
    "plt.show()"
   ]
  },
  {
   "cell_type": "markdown",
   "id": "db415de8",
   "metadata": {},
   "source": [
    "Due to the data inputted in the Trap regarding satellite traps, there were certain letters at the end of specific traps. This skewed the results when grouping by Trap. Therefore, I first had to filter through the Trap column to ensure that these were removed. Given that the letter increased the length of the string to 5 this was the method which I reduced them all to 4. I then filtered the data to find the trap with the highest number of mosquitos caught in it and plotted against the year. \n",
    "\n",
    "Trap T002 was the most efficient and upon further analysis of the location of the trap it was identified that it was quite inland. It was not as close to the coast as expected. However, due to the attraction mosquitos have to urban environments with it being humid and warm this explains why so many were caught in this area. Furthermore, the fact that this trap type was GRAVID and from the pie chart earlier demonstrating how successful GRAVID mosquito traps are, this contributed to the high number of mosquitos caught. \n",
    "\n",
    "The visualisation followed the trends of the total number of mosquitos caught reachiing highs in 2014 and 2016 as expected. Although 2016 experienced higher temperatures than 2014 the trap still caught the same amount of mosquitos, demonstrating that in that certain Address block there wasn't a significant change in mosquito numbers even though it was an urban environment. However, this does compund the fact that mosquitos like warm conditions as the rise in the number caught correlates with the high temperatures of 2014 and 2016. "
   ]
  },
  {
   "cell_type": "markdown",
   "id": "09e08761",
   "metadata": {},
   "source": [
    "## Conclusion"
   ]
  },
  {
   "cell_type": "markdown",
   "id": "a210c8d0",
   "metadata": {},
   "source": [
    "To conlude, mosquitoes are more likely to bite when the weather is warm and sunny. This is because they like to breed in warm, humid areas. Mosquitoes are cold-blooded insects. They prefer to live in areas that are around 70-80 degrees fahrenheit. This is demonstrated by the bar chart visualisation the mosquito numbers for each month. Although it has been recorded that July is the hottest month of the year and the temperature is perfect for mosquitos the conditions are not right for mosquitos as they appreciate humidity as well. This is why there were a larger number of mosquitos caught in August as the humidity levels were perfect for mosquitos. Through external research, the pipens sub species of the Culex family is the biggest carrier of WNV, with 34.66% of the mosquitos caught testing positive. It is clear from the pie chart about the trap type that mosquitos are heavily attracted to water. With Chicago being so close to the water this explains the prevalence of WNV in the area, but reducing water ditches and areas of stagnant water will help to reduce the spread of the disease. Furthermore, increasing awareness about the disease in the summer months will help to stop the spread of the disease. Encouraging the use of insect repellent and usage of mosquito nets are necessary procedures to stop the spread.\n",
    "\n",
    "Finally, when analysing the data there multiple indentical rows with the only differing value being the Latitude and Longitude data. Initially I thought this contributed to the duplicate rows values, however, upon further analysis it was determined that traps were set in the same block area as the only differing value was the coordinates. "
   ]
  },
  {
   "cell_type": "markdown",
   "id": "6dbfa041",
   "metadata": {},
   "source": [
    "## Next Steps"
   ]
  },
  {
   "cell_type": "markdown",
   "id": "18f6d62a",
   "metadata": {},
   "source": [
    "The next steps for this project are to start conducting some machine learning models to the data. I have conducted the preliminary steps of wrangling the data and visualising it. "
   ]
  }
 ],
 "metadata": {
  "kernelspec": {
   "display_name": "Python 3.9.12 ('base')",
   "language": "python",
   "name": "python3"
  },
  "language_info": {
   "codemirror_mode": {
    "name": "ipython",
    "version": 3
   },
   "file_extension": ".py",
   "mimetype": "text/x-python",
   "name": "python",
   "nbconvert_exporter": "python",
   "pygments_lexer": "ipython3",
   "version": "3.9.12"
  },
  "vscode": {
   "interpreter": {
    "hash": "40d3a090f54c6569ab1632332b64b2c03c39dcf918b08424e98f38b5ae0af88f"
   }
  }
 },
 "nbformat": 4,
 "nbformat_minor": 5
}
